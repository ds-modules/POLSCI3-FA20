{
 "cells": [
  {
   "cell_type": "markdown",
   "metadata": {},
   "source": [
    "## PS 3 - Fall 2020 - Week 11: Confidence Intervals\n",
    "\n",
    "Let's continue using our example from last week to check that the Central Limit Theorem \"works\" and that our confidence interval procedure does in fact capture the truth 95% of the time.\n",
    "\n",
    "Loading up the same libraries and data:"
   ]
  },
  {
   "cell_type": "code",
   "execution_count": 1,
   "metadata": {},
   "outputs": [],
   "source": [
    "import seaborn as sns\n",
    "import pandas as pd\n",
    "import matplotlib.pyplot as plt\n",
    "import numpy as np\n",
    "plt.style.use('seaborn-whitegrid')\n",
    "# Loading in the data\n",
    "mid = pd.read_csv('cleaned_midterms.csv')"
   ]
  },
  {
   "cell_type": "code",
   "execution_count": 2,
   "metadata": {},
   "outputs": [
    {
     "data": {
      "text/html": [
       "<div>\n",
       "<style scoped>\n",
       "    .dataframe tbody tr th:only-of-type {\n",
       "        vertical-align: middle;\n",
       "    }\n",
       "\n",
       "    .dataframe tbody tr th {\n",
       "        vertical-align: top;\n",
       "    }\n",
       "\n",
       "    .dataframe thead th {\n",
       "        text-align: right;\n",
       "    }\n",
       "</style>\n",
       "<table border=\"1\" class=\"dataframe\">\n",
       "  <thead>\n",
       "    <tr style=\"text-align: right;\">\n",
       "      <th></th>\n",
       "      <th>District</th>\n",
       "      <th>Dem2018</th>\n",
       "      <th>Rep2018</th>\n",
       "      <th>state</th>\n",
       "      <th>party</th>\n",
       "      <th>voteshare</th>\n",
       "      <th>TRUMP.SCORE</th>\n",
       "      <th>Inc_fname</th>\n",
       "      <th>Inc_lname</th>\n",
       "      <th>inc_year_elected</th>\n",
       "      <th>...</th>\n",
       "      <th>Black</th>\n",
       "      <th>Latino</th>\n",
       "      <th>Asian</th>\n",
       "      <th>Native</th>\n",
       "      <th>Other</th>\n",
       "      <th>BA</th>\n",
       "      <th>BA_WHite</th>\n",
       "      <th>Med_Income</th>\n",
       "      <th>Inc_F</th>\n",
       "      <th>Rep.forecast</th>\n",
       "    </tr>\n",
       "  </thead>\n",
       "  <tbody>\n",
       "    <tr>\n",
       "      <th>0</th>\n",
       "      <td>AK-1</td>\n",
       "      <td>45.8</td>\n",
       "      <td>53.7</td>\n",
       "      <td>AK</td>\n",
       "      <td>R</td>\n",
       "      <td>51.39</td>\n",
       "      <td>93.5</td>\n",
       "      <td>Don</td>\n",
       "      <td>Young</td>\n",
       "      <td>1973 Special</td>\n",
       "      <td>...</td>\n",
       "      <td>3.1</td>\n",
       "      <td>5.4</td>\n",
       "      <td>5.0</td>\n",
       "      <td>13.0</td>\n",
       "      <td>5.6</td>\n",
       "      <td>29.6</td>\n",
       "      <td>36.7</td>\n",
       "      <td>76440</td>\n",
       "      <td>0</td>\n",
       "      <td>51.39</td>\n",
       "    </tr>\n",
       "    <tr>\n",
       "      <th>1</th>\n",
       "      <td>AL-1</td>\n",
       "      <td>36.7</td>\n",
       "      <td>63.2</td>\n",
       "      <td>AL</td>\n",
       "      <td>R</td>\n",
       "      <td>65.84</td>\n",
       "      <td>96.8</td>\n",
       "      <td>Bradley</td>\n",
       "      <td>Byrne</td>\n",
       "      <td>2016</td>\n",
       "      <td>...</td>\n",
       "      <td>26.5</td>\n",
       "      <td>1.8</td>\n",
       "      <td>0.9</td>\n",
       "      <td>1.0</td>\n",
       "      <td>1.1</td>\n",
       "      <td>24.0</td>\n",
       "      <td>27.7</td>\n",
       "      <td>47083</td>\n",
       "      <td>0</td>\n",
       "      <td>65.84</td>\n",
       "    </tr>\n",
       "    <tr>\n",
       "      <th>2</th>\n",
       "      <td>AL-2</td>\n",
       "      <td>38.4</td>\n",
       "      <td>61.4</td>\n",
       "      <td>AL</td>\n",
       "      <td>R</td>\n",
       "      <td>57.86</td>\n",
       "      <td>96.7</td>\n",
       "      <td>Martha</td>\n",
       "      <td>Roby</td>\n",
       "      <td>2010</td>\n",
       "      <td>...</td>\n",
       "      <td>29.9</td>\n",
       "      <td>1.8</td>\n",
       "      <td>0.7</td>\n",
       "      <td>0.4</td>\n",
       "      <td>1.1</td>\n",
       "      <td>21.8</td>\n",
       "      <td>24.2</td>\n",
       "      <td>42035</td>\n",
       "      <td>1</td>\n",
       "      <td>57.86</td>\n",
       "    </tr>\n",
       "    <tr>\n",
       "      <th>3</th>\n",
       "      <td>AL-3</td>\n",
       "      <td>36.0</td>\n",
       "      <td>63.9</td>\n",
       "      <td>AL</td>\n",
       "      <td>R</td>\n",
       "      <td>62.03</td>\n",
       "      <td>96.8</td>\n",
       "      <td>Mike</td>\n",
       "      <td>Rogers</td>\n",
       "      <td>2002</td>\n",
       "      <td>...</td>\n",
       "      <td>25.1</td>\n",
       "      <td>1.7</td>\n",
       "      <td>0.7</td>\n",
       "      <td>0.3</td>\n",
       "      <td>0.9</td>\n",
       "      <td>22.8</td>\n",
       "      <td>23.7</td>\n",
       "      <td>46544</td>\n",
       "      <td>0</td>\n",
       "      <td>62.03</td>\n",
       "    </tr>\n",
       "    <tr>\n",
       "      <th>4</th>\n",
       "      <td>AL-4</td>\n",
       "      <td>20.1</td>\n",
       "      <td>79.8</td>\n",
       "      <td>AL</td>\n",
       "      <td>R</td>\n",
       "      <td>76.97</td>\n",
       "      <td>97.8</td>\n",
       "      <td>Robert</td>\n",
       "      <td>Aderholt</td>\n",
       "      <td>1996</td>\n",
       "      <td>...</td>\n",
       "      <td>6.9</td>\n",
       "      <td>1.8</td>\n",
       "      <td>0.5</td>\n",
       "      <td>0.7</td>\n",
       "      <td>1.3</td>\n",
       "      <td>17.0</td>\n",
       "      <td>17.8</td>\n",
       "      <td>41110</td>\n",
       "      <td>0</td>\n",
       "      <td>76.97</td>\n",
       "    </tr>\n",
       "    <tr>\n",
       "      <th>...</th>\n",
       "      <td>...</td>\n",
       "      <td>...</td>\n",
       "      <td>...</td>\n",
       "      <td>...</td>\n",
       "      <td>...</td>\n",
       "      <td>...</td>\n",
       "      <td>...</td>\n",
       "      <td>...</td>\n",
       "      <td>...</td>\n",
       "      <td>...</td>\n",
       "      <td>...</td>\n",
       "      <td>...</td>\n",
       "      <td>...</td>\n",
       "      <td>...</td>\n",
       "      <td>...</td>\n",
       "      <td>...</td>\n",
       "      <td>...</td>\n",
       "      <td>...</td>\n",
       "      <td>...</td>\n",
       "      <td>...</td>\n",
       "      <td>...</td>\n",
       "    </tr>\n",
       "    <tr>\n",
       "      <th>318</th>\n",
       "      <td>WI-7</td>\n",
       "      <td>38.5</td>\n",
       "      <td>60.2</td>\n",
       "      <td>WI</td>\n",
       "      <td>R</td>\n",
       "      <td>58.94</td>\n",
       "      <td>94.4</td>\n",
       "      <td>Sean</td>\n",
       "      <td>Duffy</td>\n",
       "      <td>2010</td>\n",
       "      <td>...</td>\n",
       "      <td>0.5</td>\n",
       "      <td>1.2</td>\n",
       "      <td>1.0</td>\n",
       "      <td>1.8</td>\n",
       "      <td>0.9</td>\n",
       "      <td>23.1</td>\n",
       "      <td>23.4</td>\n",
       "      <td>51738</td>\n",
       "      <td>0</td>\n",
       "      <td>58.94</td>\n",
       "    </tr>\n",
       "    <tr>\n",
       "      <th>319</th>\n",
       "      <td>WI-8</td>\n",
       "      <td>36.3</td>\n",
       "      <td>63.7</td>\n",
       "      <td>WI</td>\n",
       "      <td>R</td>\n",
       "      <td>60.91</td>\n",
       "      <td>94.6</td>\n",
       "      <td>Mike</td>\n",
       "      <td>Gallagher</td>\n",
       "      <td>2016</td>\n",
       "      <td>...</td>\n",
       "      <td>1.0</td>\n",
       "      <td>2.2</td>\n",
       "      <td>1.4</td>\n",
       "      <td>2.1</td>\n",
       "      <td>1.0</td>\n",
       "      <td>25.4</td>\n",
       "      <td>26.0</td>\n",
       "      <td>57888</td>\n",
       "      <td>0</td>\n",
       "      <td>60.91</td>\n",
       "    </tr>\n",
       "    <tr>\n",
       "      <th>320</th>\n",
       "      <td>WV-1</td>\n",
       "      <td>35.4</td>\n",
       "      <td>64.6</td>\n",
       "      <td>WV</td>\n",
       "      <td>R</td>\n",
       "      <td>62.64</td>\n",
       "      <td>97.8</td>\n",
       "      <td>David</td>\n",
       "      <td>McKinley</td>\n",
       "      <td>2010</td>\n",
       "      <td>...</td>\n",
       "      <td>2.4</td>\n",
       "      <td>0.9</td>\n",
       "      <td>0.6</td>\n",
       "      <td>0.2</td>\n",
       "      <td>0.9</td>\n",
       "      <td>23.5</td>\n",
       "      <td>23.1</td>\n",
       "      <td>45611</td>\n",
       "      <td>0</td>\n",
       "      <td>62.64</td>\n",
       "    </tr>\n",
       "    <tr>\n",
       "      <th>321</th>\n",
       "      <td>WV-2</td>\n",
       "      <td>43.0</td>\n",
       "      <td>54.0</td>\n",
       "      <td>WV</td>\n",
       "      <td>R</td>\n",
       "      <td>53.69</td>\n",
       "      <td>84.9</td>\n",
       "      <td>Alex</td>\n",
       "      <td>Mooney</td>\n",
       "      <td>2014</td>\n",
       "      <td>...</td>\n",
       "      <td>3.8</td>\n",
       "      <td>1.3</td>\n",
       "      <td>0.6</td>\n",
       "      <td>0.2</td>\n",
       "      <td>1.6</td>\n",
       "      <td>21.5</td>\n",
       "      <td>21.1</td>\n",
       "      <td>48358</td>\n",
       "      <td>0</td>\n",
       "      <td>53.69</td>\n",
       "    </tr>\n",
       "    <tr>\n",
       "      <th>322</th>\n",
       "      <td>WY-1</td>\n",
       "      <td>29.8</td>\n",
       "      <td>63.6</td>\n",
       "      <td>WY</td>\n",
       "      <td>R</td>\n",
       "      <td>63.15</td>\n",
       "      <td>95.7</td>\n",
       "      <td>Liz</td>\n",
       "      <td>Cheney</td>\n",
       "      <td>2016</td>\n",
       "      <td>...</td>\n",
       "      <td>0.9</td>\n",
       "      <td>6.9</td>\n",
       "      <td>0.6</td>\n",
       "      <td>1.8</td>\n",
       "      <td>1.5</td>\n",
       "      <td>27.1</td>\n",
       "      <td>28.5</td>\n",
       "      <td>59882</td>\n",
       "      <td>1</td>\n",
       "      <td>63.15</td>\n",
       "    </tr>\n",
       "  </tbody>\n",
       "</table>\n",
       "<p>323 rows × 37 columns</p>\n",
       "</div>"
      ],
      "text/plain": [
       "    District  Dem2018  Rep2018 state party  voteshare  TRUMP.SCORE Inc_fname  \\\n",
       "0       AK-1     45.8     53.7    AK     R      51.39         93.5       Don   \n",
       "1       AL-1     36.7     63.2    AL     R      65.84         96.8   Bradley   \n",
       "2       AL-2     38.4     61.4    AL     R      57.86         96.7    Martha   \n",
       "3       AL-3     36.0     63.9    AL     R      62.03         96.8      Mike   \n",
       "4       AL-4     20.1     79.8    AL     R      76.97         97.8    Robert   \n",
       "..       ...      ...      ...   ...   ...        ...          ...       ...   \n",
       "318     WI-7     38.5     60.2    WI     R      58.94         94.4      Sean   \n",
       "319     WI-8     36.3     63.7    WI     R      60.91         94.6      Mike   \n",
       "320     WV-1     35.4     64.6    WV     R      62.64         97.8     David   \n",
       "321     WV-2     43.0     54.0    WV     R      53.69         84.9      Alex   \n",
       "322     WY-1     29.8     63.6    WY     R      63.15         95.7       Liz   \n",
       "\n",
       "     Inc_lname inc_year_elected  ... Black Latino Asian Native Other    BA  \\\n",
       "0        Young     1973 Special  ...   3.1    5.4   5.0   13.0   5.6  29.6   \n",
       "1        Byrne             2016  ...  26.5    1.8   0.9    1.0   1.1  24.0   \n",
       "2         Roby             2010  ...  29.9    1.8   0.7    0.4   1.1  21.8   \n",
       "3       Rogers             2002  ...  25.1    1.7   0.7    0.3   0.9  22.8   \n",
       "4     Aderholt             1996  ...   6.9    1.8   0.5    0.7   1.3  17.0   \n",
       "..         ...              ...  ...   ...    ...   ...    ...   ...   ...   \n",
       "318      Duffy             2010  ...   0.5    1.2   1.0    1.8   0.9  23.1   \n",
       "319  Gallagher             2016  ...   1.0    2.2   1.4    2.1   1.0  25.4   \n",
       "320   McKinley             2010  ...   2.4    0.9   0.6    0.2   0.9  23.5   \n",
       "321     Mooney             2014  ...   3.8    1.3   0.6    0.2   1.6  21.5   \n",
       "322     Cheney             2016  ...   0.9    6.9   0.6    1.8   1.5  27.1   \n",
       "\n",
       "     BA_WHite  Med_Income  Inc_F  Rep.forecast  \n",
       "0        36.7       76440      0         51.39  \n",
       "1        27.7       47083      0         65.84  \n",
       "2        24.2       42035      1         57.86  \n",
       "3        23.7       46544      0         62.03  \n",
       "4        17.8       41110      0         76.97  \n",
       "..        ...         ...    ...           ...  \n",
       "318      23.4       51738      0         58.94  \n",
       "319      26.0       57888      0         60.91  \n",
       "320      23.1       45611      0         62.64  \n",
       "321      21.1       48358      0         53.69  \n",
       "322      28.5       59882      1         63.15  \n",
       "\n",
       "[323 rows x 37 columns]"
      ]
     },
     "execution_count": 2,
     "metadata": {},
     "output_type": "execute_result"
    }
   ],
   "source": [
    "mid"
   ]
  },
  {
   "cell_type": "markdown",
   "metadata": {},
   "source": [
    "## Checking the Central Limit Theorem\n",
    "\n",
    "First lets check the precise predictions of the central limit theorem: that the standard deviation of the sampling distribution (or the standard error) will be approximately $\\sigma/\\sqrt{n}$.\n",
    "\n",
    "For reasons discussed in the optional section below, we will use some slightly different code to take our random samples. In short, the difference is that we will now take samples *with replacement*, meaning that the same congressional district can get chosen more than once. Again, why this matters is explained below."
   ]
  },
  {
   "cell_type": "code",
   "execution_count": 3,
   "metadata": {},
   "outputs": [
    {
     "name": "stdout",
     "output_type": "stream",
     "text": [
      "Population mean: 11.792879256965945\n",
      "Average sample mean: 11.7859029\n",
      "Population SD: 13.15745955208216\n"
     ]
    },
    {
     "data": {
      "text/plain": [
       "<matplotlib.lines.Line2D at 0x7f573e7ec700>"
      ]
     },
     "execution_count": 3,
     "metadata": {},
     "output_type": "execute_result"
    },
    {
     "data": {
      "image/png": "[encoded data removed]",
      "text/plain": [
       "<Figure size 432x288 with 1 Axes>"
      ]
     },
     "metadata": {},
     "output_type": "display_data"
    }
   ],
   "source": [
    "import random\n",
    "n = 100\n",
    "varname='Black'\n",
    "# Taking the mean of 10,000 samples and storing it as sample_dist\n",
    "sample_dist = [np.mean(random.choices(mid[varname], k=n)) for _ in range(10000)]\n",
    "print(\"Population mean:\", np.mean(mid[varname]))\n",
    "print(\"Average sample mean:\", np.mean(sample_dist))\n",
    "print(\"Population SD:\", np.std(mid[varname]))\n",
    "sns.distplot(sample_dist)\n",
    "plt.axvline(np.mean(mid[varname]), ymax=1, color='r')"
   ]
  },
  {
   "cell_type": "markdown",
   "metadata": {},
   "source": [
    "As discussed last week, the average sample mean is almost exactly at the population mean. \n",
    "\n",
    "The standard deviation of the percentage Black variable in the population is around 13.16, and the square root of the sample size (100) is 10. So, the Central Limit Theorem predicts that if we take samples of 100, the standard deviation of the sampling distribution will be approximately 1.316.\n",
    "\n",
    "And, voila, the standard devaition of the sampling distribution is very close to this."
   ]
  },
  {
   "cell_type": "code",
   "execution_count": 4,
   "metadata": {},
   "outputs": [
    {
     "name": "stdout",
     "output_type": "stream",
     "text": [
      "Theoretical SE: 1.315745955208216\n",
      "SD of sampling distribution: 1.317113846375916\n"
     ]
    }
   ],
   "source": [
    "print(\"Theoretical SE:\", np.std(mid[varname])/np.sqrt(n))\n",
    "print(\"SD of sampling distribution:\", np.std(sample_dist))"
   ]
  },
  {
   "cell_type": "markdown",
   "metadata": {},
   "source": [
    "Try changing the sample size or the variable in question to check that this is true more generally. "
   ]
  },
  {
   "cell_type": "markdown",
   "metadata": {},
   "source": [
    "## Checking confidence intervals\n",
    "\n",
    "Recall that a 95% confidence interval is a procedure which produces a range which should capture our true population parameter 95% of the time. Let's check that this works.\n",
    "\n",
    "First, just to get some practice doing confidence interval calculations, let's see what we get with a sample of 100 from our percentage Black variable.\n"
   ]
  },
  {
   "cell_type": "code",
   "execution_count": 8,
   "metadata": {},
   "outputs": [
    {
     "name": "stdout",
     "output_type": "stream",
     "text": [
      "95% confidence interval: [ 11.81798394291837 ,  17.970016057081626 ]\n",
      "Population mean: 11.792879256965945\n"
     ]
    }
   ],
   "source": [
    "sample = random.choices(mid['Black'], k=100)\n",
    "lower = np.mean(sample) - 1.96*np.std(sample)/np.sqrt(n)\n",
    "upper = np.mean(sample) + 1.96*np.std(sample)/np.sqrt(n)\n",
    "print(\"95% confidence interval: [\", lower, \", \", upper, \"]\")\n",
    "print(\"Population mean:\", np.mean(mid['Black']))"
   ]
  },
  {
   "cell_type": "markdown",
   "metadata": {},
   "source": [
    "Did the confidence interval capture the true population mean?\n",
    "\n",
    "Now let's see what happens if we take repeated samples and make confidence intervals. \n",
    "\n",
    "Don't worry about the details of the code here: what we are doing is defining a function which takes a random sample, computes a confidence interval, and check whether it contains the parameter value"
   ]
  },
  {
   "cell_type": "code",
   "execution_count": 9,
   "metadata": {},
   "outputs": [],
   "source": [
    "# Function to take a sample of n from varname, compute 95% confidence interval, and return whether it captures the truth\n",
    "def in_interval(n=100, varname='Black'):\n",
    "    sample = random.choices(mid[varname], k=n)\n",
    "    lower = np.mean(sample) - 1.96*np.std(sample)/np.sqrt(n)\n",
    "    upper = np.mean(sample) + 1.96*np.std(sample)/np.sqrt(n)\n",
    "    return 1*(np.mean(mid[varname]) > lower)*(np.mean(mid[varname]) < upper)\n"
   ]
  },
  {
   "cell_type": "markdown",
   "metadata": {},
   "source": [
    "Try running this a few times, you should see that it usually returns a 1, meaning the confidence interval does contain the true population parameter. But occaisionally you will get a 0, which means a miss!"
   ]
  },
  {
   "cell_type": "code",
   "execution_count": 17,
   "metadata": {},
   "outputs": [
    {
     "data": {
      "text/plain": [
       "1"
      ]
     },
     "execution_count": 17,
     "metadata": {},
     "output_type": "execute_result"
    }
   ],
   "source": [
    "in_interval()"
   ]
  },
  {
   "cell_type": "markdown",
   "metadata": {},
   "source": [
    "Now what happens if we repeat this process 10,000 times. How often does our 95% confidence interval capture the truth?"
   ]
  },
  {
   "cell_type": "code",
   "execution_count": 18,
   "metadata": {},
   "outputs": [
    {
     "data": {
      "text/plain": [
       "0.9349"
      ]
     },
     "execution_count": 18,
     "metadata": {},
     "output_type": "execute_result"
    }
   ],
   "source": [
    "in95 = [in_interval(n=100, varname=\"Black\") for _ in range(10000)]\n",
    "np.mean(in95)"
   ]
  },
  {
   "cell_type": "markdown",
   "metadata": {},
   "source": [
    "Very close to 95% of the time!\n",
    "\n",
    "Now let's do the same thing for a 90% confidence interval, which requires checking up to 1.64 standard devations from the mean."
   ]
  },
  {
   "cell_type": "code",
   "execution_count": 19,
   "metadata": {},
   "outputs": [
    {
     "data": {
      "text/plain": [
       "0.887"
      ]
     },
     "execution_count": 19,
     "metadata": {},
     "output_type": "execute_result"
    }
   ],
   "source": [
    "def in_interval90(n=100, varname='Black'):\n",
    "    sample = random.choices(mid[varname], k=n)\n",
    "    lower = np.mean(sample) - 1.64*np.std(sample)/np.sqrt(n)\n",
    "    upper = np.mean(sample) + 1.64*np.std(sample)/np.sqrt(n)\n",
    "    return 1*(np.mean(mid[varname]) > lower)*(np.mean(mid[varname]) < upper)\n",
    "in90 = [in_interval90(n=100, varname=\"Black\") for _ in range(10000)]\n",
    "np.mean(in90)"
   ]
  },
  {
   "cell_type": "markdown",
   "metadata": {},
   "source": [
    "Again, try changing the sample size and variable name to see if the 95% confidence intervals are in fact right 95% of the time. "
   ]
  },
  {
   "cell_type": "markdown",
   "metadata": {},
   "source": [
    "## [OPTIONAL] Sampling with vs without replacement\n",
    "\n",
    "Recall that we used some slightly different code for generating the random samples this week. The difference is that last week we sampled without replacement, meaning that no district could be in our sample twice. Here is why that matters for the Central Limit Theorem.\n",
    "\n",
    "Let's check what the standard deviation of the sampling distribution is "
   ]
  },
  {
   "cell_type": "code",
   "execution_count": 5,
   "metadata": {},
   "outputs": [
    {
     "name": "stdout",
     "output_type": "stream",
     "text": [
      "Theoretical SE: 1.315745955208216\n",
      "SD of sampling distribution: 1.0955761401003172\n"
     ]
    },
    {
     "data": {
      "text/plain": [
       "<matplotlib.lines.Line2D at 0x7f56f2b882b0>"
      ]
     },
     "execution_count": 5,
     "metadata": {},
     "output_type": "execute_result"
    },
    {
     "data": {
      "image/png": "[encoded data removed]",
      "text/plain": [
       "<Figure size 432x288 with 1 Axes>"
      ]
     },
     "metadata": {},
     "output_type": "display_data"
    }
   ],
   "source": [
    "n=100\n",
    "varname='Black'\n",
    "sample_dist = [np.mean(mid[varname].sample(n)) for _ in range(10000)]\n",
    "print(\"Theoretical SE:\", np.std(mid[varname])/np.sqrt(n))\n",
    "print(\"SD of sampling distribution:\", np.std(sample_dist))\n",
    "sns.distplot(sample_dist)\n",
    "plt.axvline(np.mean(mid[varname]), ymax=1, color='r')"
   ]
  },
  {
   "cell_type": "markdown",
   "metadata": {},
   "source": [
    "Now the the standard deviation of the sampling distribution is notably lower. To see why, let's go even more extreme and sample almost all of the distrcits, by setting `n=320`"
   ]
  },
  {
   "cell_type": "code",
   "execution_count": 6,
   "metadata": {},
   "outputs": [
    {
     "name": "stdout",
     "output_type": "stream",
     "text": [
      "Theoretical SE: 0.7355243492414911\n",
      "SD of sampling distribution: 0.07059598372516684\n"
     ]
    },
    {
     "data": {
      "text/plain": [
       "<matplotlib.lines.Line2D at 0x7f56f2a45070>"
      ]
     },
     "execution_count": 6,
     "metadata": {},
     "output_type": "execute_result"
    },
    {
     "data": {
      "image/png": "[encoded data removed]",
      "text/plain": [
       "<Figure size 432x288 with 1 Axes>"
      ]
     },
     "metadata": {},
     "output_type": "display_data"
    }
   ],
   "source": [
    "n=320\n",
    "varname='Black'\n",
    "sample_dist = [np.mean(mid[varname].sample(n)) for _ in range(10000)]\n",
    "print(\"Theoretical SE:\", np.std(mid[varname])/np.sqrt(n))\n",
    "print(\"SD of sampling distribution:\", np.std(sample_dist))\n",
    "sns.distplot(sample_dist)\n",
    "plt.axvline(np.mean(mid[varname]), ymax=1, color='r')"
   ]
  },
  {
   "cell_type": "markdown",
   "metadata": {},
   "source": [
    "Now the standard deviation of our sampling distribution is much smaller than $\\sigma/\\sqrt{n}$. This is because if we include almost all of the congressional districts, there will be very little difference between the samples: almost all of them include nearly all of the districts, so the average won't vay too much. \n",
    "\n",
    "Formally, the Central Limit Theorem assumes that the population is very large relative to the samples, and if so this is not a problem. When the sample is large relative to the population, one way to fix this is with a <a href=\"https://www.statisticshowto.com/finite-population-correction-factor/\">finite population correction factor.</a> As a challenge, see if you can write some code that implements this for the simulation above. \n",
    "\n",
    "Another way is what we did above, which is to sample with replacement, in which case our effective population is infinite because we can always just resample the same observations. "
   ]
  },
  {
   "cell_type": "code",
   "execution_count": null,
   "metadata": {},
   "outputs": [],
   "source": []
  }
 ],
 "metadata": {
  "kernelspec": {
   "display_name": "Python 3",
   "language": "python",
   "name": "python3"
  },
  "language_info": {
   "codemirror_mode": {
    "name": "ipython",
    "version": 3
   },
   "file_extension": ".py",
   "mimetype": "text/x-python",
   "name": "python",
   "nbconvert_exporter": "python",
   "pygments_lexer": "ipython3",
   "version": "3.8.6"
  }
 },
 "nbformat": 4,
 "nbformat_minor": 4
}
