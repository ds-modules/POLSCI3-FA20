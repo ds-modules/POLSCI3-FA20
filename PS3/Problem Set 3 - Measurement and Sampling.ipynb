{
 "cells": [
  {
   "cell_type": "markdown",
   "metadata": {},
   "source": [
    "## PS Fall 2020, Problem Set 3\n",
    "### Due date: Monday, 11/16, 9am\n",
    "Table of Contents:  \n",
    "1) [Measuring Undemocratic Parties](#gt)  \n",
    "2) [Deaths in War](#war)  \n",
    "3) [Presidential Approval](#putin)  \n",
    "4) [GDP Distributions](#gdp)"
   ]
  },
  {
   "cell_type": "markdown",
   "metadata": {},
   "source": [
    "## 1. Measuring Undemocratic Parties <a class=\"anchor\" id=\"gt\"></a>\n",
    "\n",
    "Political parties are often accused of behaving in an undemocratic manner. Is it possible to come up with a measure of this?\n",
    "\n",
    "Here are two proposals to measure whether parties were undemocratic in 2020. \n",
    "- Measure 1:  do an expert survey, where those who know a lot about a country are asked to rate parties on a 3 point scale (\"No undemocratic behavior\", \"Minor undemocratic behavior\", \"Major undemocratic behavior\").\n",
    "- Measure 2:  come up with 3 examples of undemocratic behaviors which are possible to code systematically (e.g., Did they propose or enact changes to electoral rules in their favor? Did they censor media outlets who criticized the party?), and then count how many of these things a party did in 2020. So, this measure would either be 0, 1, 2, or 3 for each party."
   ]
  },
  {
   "cell_type": "markdown",
   "metadata": {},
   "source": [
    "**<span style=\"color:blue\">1.1 What kind of variable (categorical, ordinal, numeric) would measure 1 produce, and why? (2 pts)</span>**"
   ]
  },
  {
   "cell_type": "markdown",
   "metadata": {},
   "source": [
    "*ANSWER TO 1.1 HERE*"
   ]
  },
  {
   "cell_type": "markdown",
   "metadata": {},
   "source": [
    "**<span style=\"color:blue\">1.2 What kind of variable (categorical, ordinal, numeric) would measure 2 produce, and why? (2 pts) </span>**"
   ]
  },
  {
   "cell_type": "markdown",
   "metadata": {},
   "source": [
    "*ANSWER TO 1.2 HERE*"
   ]
  },
  {
   "cell_type": "markdown",
   "metadata": {},
   "source": [
    "**<span style=\"color:blue\">1.3 Which measure do you think is more reliable, and why? (2 pts)</span>**"
   ]
  },
  {
   "cell_type": "markdown",
   "metadata": {},
   "source": [
    "*ANSWER TO 1.3 HERE*"
   ]
  },
  {
   "cell_type": "markdown",
   "metadata": {},
   "source": [
    "**<span style=\"color:blue\">1.4 Which measure do you think is more valid, and why? (2 pts) </span>**"
   ]
  },
  {
   "cell_type": "markdown",
   "metadata": {},
   "source": [
    "*ANSWER TO 1.4 HERE*"
   ]
  },
  {
   "cell_type": "markdown",
   "metadata": {},
   "source": [
    "## 2. Deaths in War <a class=\"anchor\" id=\"war\"></a>\n",
    "\n",
    "A researcher is interested in the severity of wars across time. She first collects data on wars worldwide, finding the average number of people who died in every war with more than 25,000 deaths."
   ]
  },
  {
   "cell_type": "markdown",
   "metadata": {},
   "source": [
    "She puts together a data frame called `wars` with the following four columns:\n",
    "- `War`: the name of the war\n",
    "- `Location`: the primary location of the war\n",
    "- `Deaths`: the average deaths from the war\n",
    "- `Region`: a more general region where the war took place"
   ]
  },
  {
   "cell_type": "markdown",
   "metadata": {},
   "source": [
    "The cell below imports some libraries and the `wars` table. Run it to create the table!"
   ]
  },
  {
   "cell_type": "code",
   "execution_count": null,
   "metadata": {
    "scrolled": true
   },
   "outputs": [],
   "source": [
    "import numpy as np\n",
    "from scipy import stats\n",
    "from datascience import Table\n",
    "import pandas as pd\n",
    "from datascience.predicates import are\n",
    "import matplotlib.pyplot as plt\n",
    "%matplotlib inline\n",
    "import seaborn as sns\n",
    "\n",
    "wars = Table.read_table('data/wardeaths.csv')\n",
    "wars = wars.to_df()\n",
    "wars"
   ]
  },
  {
   "cell_type": "markdown",
   "metadata": {},
   "source": [
    "Each column of the `wars` data table is made up of an array. As a reminder, you can access the arrays that make up the columns by writing the name of the data frame folled by the variable name in quotation marks and square brackets. Heres an example that will return the array of values that make up the `War` column. "
   ]
  },
  {
   "cell_type": "code",
   "execution_count": null,
   "metadata": {},
   "outputs": [],
   "source": [
    "wars[\"War\"]"
   ]
  },
  {
   "cell_type": "markdown",
   "metadata": {},
   "source": [
    "Recall we can use the `.value_counts()` function to count how often values show up in a column of our data (or any array). For example, this creates a table of some random simulated die rolls (i.e., random numbers between 0 and 6) and and then makes a table of how often each number comes up. "
   ]
  },
  {
   "cell_type": "code",
   "execution_count": 14,
   "metadata": {},
   "outputs": [
    {
     "data": {
      "text/plain": [
       "4    37\n",
       "1    36\n",
       "6    35\n",
       "3    33\n",
       "2    31\n",
       "5    28\n",
       "dtype: int64"
      ]
     },
     "execution_count": 14,
     "metadata": {},
     "output_type": "execute_result"
    }
   ],
   "source": [
    "# Don't worry about the pd.Index part: \n",
    "# this is just putting our array in a format that value_counts() knows how to work with.\n",
    "fakedata = pd.Index(np.random.randint(1, 7, 200))\n",
    "fakedata.value_counts()"
   ]
  },
  {
   "cell_type": "markdown",
   "metadata": {},
   "source": [
    "**<span style=\"color:blue\"> Question 2.1 Use the `.value_counts()` function to make a table to count the frequencies of the `Region` variable. (1 pt) </span>**"
   ]
  },
  {
   "cell_type": "code",
   "execution_count": 35,
   "metadata": {},
   "outputs": [],
   "source": [
    "# Code for 2.1 here"
   ]
  },
  {
   "cell_type": "markdown",
   "metadata": {},
   "source": [
    "The deaths variable is numeric, and so one way to describe the distribution is with a histogram. \n",
    "\n",
    "`sns.distplot(values)` allows us to create a histogram of input values. In the cell below, we plot the distribution of a uniform random sample of values between 0 and 100.\n"
   ]
  },
  {
   "cell_type": "code",
   "execution_count": 4,
   "metadata": {},
   "outputs": [
    {
     "data": {
      "text/plain": [
       "<matplotlib.axes._subplots.AxesSubplot at 0x7f3bf9dfba00>"
      ]
     },
     "execution_count": 4,
     "metadata": {},
     "output_type": "execute_result"
    },
    {
     "data": {
      "image/png": "[encoded data removed]",
      "text/plain": [
       "<Figure size 432x288 with 1 Axes>"
      ]
     },
     "metadata": {
      "needs_background": "light"
     },
     "output_type": "display_data"
    }
   ],
   "source": [
    "sns.distplot(np.random.uniform(0,100, 30))"
   ]
  },
  {
   "cell_type": "markdown",
   "metadata": {},
   "source": [
    "**<span style=\"color:blue\"> Question 2.2 Make a histogram of the deaths varible. (1 pt) </span>**"
   ]
  },
  {
   "cell_type": "code",
   "execution_count": 5,
   "metadata": {},
   "outputs": [
    {
     "data": {
      "text/plain": [
       "<matplotlib.axes._subplots.AxesSubplot at 0x7f3ba9c1f2b0>"
      ]
     },
     "execution_count": 5,
     "metadata": {},
     "output_type": "execute_result"
    },
    {
     "data": {
      "image/png": "[encoded data removed]",
      "text/plain": [
       "<Figure size 432x288 with 1 Axes>"
      ]
     },
     "metadata": {
      "needs_background": "light"
     },
     "output_type": "display_data"
    }
   ],
   "source": [
    "# Code for 2.2 here"
   ]
  },
  {
   "cell_type": "markdown",
   "metadata": {},
   "source": [
    "You should see that there are a few extremely high observations. One way we can see this is by pulling out a subset of the table. We can do this by putting a \"condition\" in square brackets after the data frame name. For example, this code pulls the wars with relatively few deaths (fewer than 100,000)."
   ]
  },
  {
   "cell_type": "code",
   "execution_count": 6,
   "metadata": {},
   "outputs": [
    {
     "data": {
      "text/html": [
       "<div>\n",
       "<style scoped>\n",
       "    .dataframe tbody tr th:only-of-type {\n",
       "        vertical-align: middle;\n",
       "    }\n",
       "\n",
       "    .dataframe tbody tr th {\n",
       "        vertical-align: top;\n",
       "    }\n",
       "\n",
       "    .dataframe thead th {\n",
       "        text-align: right;\n",
       "    }\n",
       "</style>\n",
       "<table border=\"1\" class=\"dataframe\">\n",
       "  <thead>\n",
       "    <tr style=\"text-align: right;\">\n",
       "      <th></th>\n",
       "      <th>War</th>\n",
       "      <th>Location</th>\n",
       "      <th>Deaths</th>\n",
       "      <th>Region</th>\n",
       "    </tr>\n",
       "  </thead>\n",
       "  <tbody>\n",
       "    <tr>\n",
       "      <th>6</th>\n",
       "      <td>French intervention in Mexico</td>\n",
       "      <td>mexico</td>\n",
       "      <td>49287</td>\n",
       "      <td>North America</td>\n",
       "    </tr>\n",
       "    <tr>\n",
       "      <th>9</th>\n",
       "      <td>Conquest of the Desert</td>\n",
       "      <td>patagonia</td>\n",
       "      <td>32500</td>\n",
       "      <td>South America</td>\n",
       "    </tr>\n",
       "    <tr>\n",
       "      <th>11</th>\n",
       "      <td>First Sino–Japanese War</td>\n",
       "      <td>china</td>\n",
       "      <td>48311</td>\n",
       "      <td>Asia</td>\n",
       "    </tr>\n",
       "    <tr>\n",
       "      <th>14</th>\n",
       "      <td>South African War (Second Boer War)</td>\n",
       "      <td>south africa</td>\n",
       "      <td>81500</td>\n",
       "      <td>Africa</td>\n",
       "    </tr>\n",
       "    <tr>\n",
       "      <th>22</th>\n",
       "      <td>Second Italo-Senussi War</td>\n",
       "      <td>libya</td>\n",
       "      <td>40000</td>\n",
       "      <td>Africa</td>\n",
       "    </tr>\n",
       "    <tr>\n",
       "      <th>30</th>\n",
       "      <td>Greco-Italian War</td>\n",
       "      <td>uk</td>\n",
       "      <td>27000</td>\n",
       "      <td>Europe</td>\n",
       "    </tr>\n",
       "    <tr>\n",
       "      <th>32</th>\n",
       "      <td>Soviet–Japanese War</td>\n",
       "      <td>manchuria</td>\n",
       "      <td>64594</td>\n",
       "      <td>Asia</td>\n",
       "    </tr>\n",
       "    <tr>\n",
       "      <th>35</th>\n",
       "      <td>Malagasy Uprising</td>\n",
       "      <td>madagascar</td>\n",
       "      <td>50171</td>\n",
       "      <td>Africa</td>\n",
       "    </tr>\n",
       "    <tr>\n",
       "      <th>36</th>\n",
       "      <td>Kashmir Conflict</td>\n",
       "      <td>india</td>\n",
       "      <td>95000</td>\n",
       "      <td>Asia</td>\n",
       "    </tr>\n",
       "    <tr>\n",
       "      <th>43</th>\n",
       "      <td>Ethnic conflict in Nagaland</td>\n",
       "      <td>india</td>\n",
       "      <td>34000</td>\n",
       "      <td>Asia</td>\n",
       "    </tr>\n",
       "    <tr>\n",
       "      <th>47</th>\n",
       "      <td>Angolan War of Independence</td>\n",
       "      <td>angola</td>\n",
       "      <td>93000</td>\n",
       "      <td>Africa</td>\n",
       "    </tr>\n",
       "    <tr>\n",
       "      <th>49</th>\n",
       "      <td>Mozambican War of Independence</td>\n",
       "      <td>mozambique</td>\n",
       "      <td>76000</td>\n",
       "      <td>Africa</td>\n",
       "    </tr>\n",
       "    <tr>\n",
       "      <th>50</th>\n",
       "      <td>Insurgency in Northeast India</td>\n",
       "      <td>india</td>\n",
       "      <td>25000</td>\n",
       "      <td>Asia</td>\n",
       "    </tr>\n",
       "    <tr>\n",
       "      <th>54</th>\n",
       "      <td>CPP-NPA-NDF rebellion</td>\n",
       "      <td>philippines</td>\n",
       "      <td>36500</td>\n",
       "      <td>Asia</td>\n",
       "    </tr>\n",
       "    <tr>\n",
       "      <th>61</th>\n",
       "      <td>Kurdish–Turkish conflict</td>\n",
       "      <td>iraq</td>\n",
       "      <td>45000</td>\n",
       "      <td>Middle East</td>\n",
       "    </tr>\n",
       "    <tr>\n",
       "      <th>63</th>\n",
       "      <td>Salvadoran Civil War</td>\n",
       "      <td>el salvador</td>\n",
       "      <td>75000</td>\n",
       "      <td>North America</td>\n",
       "    </tr>\n",
       "    <tr>\n",
       "      <th>65</th>\n",
       "      <td>Internal conflict in Peru</td>\n",
       "      <td>peru</td>\n",
       "      <td>70000</td>\n",
       "      <td>South America</td>\n",
       "    </tr>\n",
       "    <tr>\n",
       "      <th>68</th>\n",
       "      <td>Sri Lankan Civil War</td>\n",
       "      <td>sri lanka</td>\n",
       "      <td>90000</td>\n",
       "      <td>Asia</td>\n",
       "    </tr>\n",
       "    <tr>\n",
       "      <th>71</th>\n",
       "      <td>Nagorno-Karabakh War</td>\n",
       "      <td>russia</td>\n",
       "      <td>38000</td>\n",
       "      <td>Europe</td>\n",
       "    </tr>\n",
       "    <tr>\n",
       "      <th>72</th>\n",
       "      <td>Gulf War</td>\n",
       "      <td>iraq</td>\n",
       "      <td>33000</td>\n",
       "      <td>Middle East</td>\n",
       "    </tr>\n",
       "    <tr>\n",
       "      <th>81</th>\n",
       "      <td>Ituri conflict</td>\n",
       "      <td>south africa</td>\n",
       "      <td>60000</td>\n",
       "      <td>Africa</td>\n",
       "    </tr>\n",
       "    <tr>\n",
       "      <th>83</th>\n",
       "      <td>War in Afghanistan (2001–present)</td>\n",
       "      <td>afghanistan</td>\n",
       "      <td>54500</td>\n",
       "      <td>Asia</td>\n",
       "    </tr>\n",
       "    <tr>\n",
       "      <th>87</th>\n",
       "      <td>War in North-West Pakistan</td>\n",
       "      <td>pakistan</td>\n",
       "      <td>62450</td>\n",
       "      <td>Asia</td>\n",
       "    </tr>\n",
       "    <tr>\n",
       "      <th>89</th>\n",
       "      <td>Boko Haram insurgency</td>\n",
       "      <td>nigeria</td>\n",
       "      <td>51567</td>\n",
       "      <td>Africa</td>\n",
       "    </tr>\n",
       "  </tbody>\n",
       "</table>\n",
       "</div>"
      ],
      "text/plain": [
       "                                    War      Location  Deaths         Region\n",
       "6         French intervention in Mexico        mexico   49287  North America\n",
       "9                Conquest of the Desert     patagonia   32500  South America\n",
       "11              First Sino–Japanese War         china   48311           Asia\n",
       "14  South African War (Second Boer War)  south africa   81500         Africa\n",
       "22             Second Italo-Senussi War         libya   40000         Africa\n",
       "30                    Greco-Italian War            uk   27000         Europe\n",
       "32                  Soviet–Japanese War     manchuria   64594           Asia\n",
       "35                    Malagasy Uprising    madagascar   50171         Africa\n",
       "36                     Kashmir Conflict         india   95000           Asia\n",
       "43          Ethnic conflict in Nagaland         india   34000           Asia\n",
       "47          Angolan War of Independence        angola   93000         Africa\n",
       "49       Mozambican War of Independence    mozambique   76000         Africa\n",
       "50        Insurgency in Northeast India         india   25000           Asia\n",
       "54                CPP-NPA-NDF rebellion   philippines   36500           Asia\n",
       "61             Kurdish–Turkish conflict          iraq   45000    Middle East\n",
       "63                 Salvadoran Civil War   el salvador   75000  North America\n",
       "65            Internal conflict in Peru          peru   70000  South America\n",
       "68                 Sri Lankan Civil War     sri lanka   90000           Asia\n",
       "71                 Nagorno-Karabakh War        russia   38000         Europe\n",
       "72                             Gulf War          iraq   33000    Middle East\n",
       "81                       Ituri conflict  south africa   60000         Africa\n",
       "83    War in Afghanistan (2001–present)   afghanistan   54500           Asia\n",
       "87           War in North-West Pakistan      pakistan   62450           Asia\n",
       "89                Boko Haram insurgency       nigeria   51567         Africa"
      ]
     },
     "execution_count": 6,
     "metadata": {},
     "output_type": "execute_result"
    }
   ],
   "source": [
    "wars[wars['Deaths'] < 100000]"
   ]
  },
  {
   "cell_type": "markdown",
   "metadata": {},
   "source": [
    "**<span style=\"color:blue\">Question 2.3. Write a line of code to identify the wars with more than 1 million deaths. (1 pt)</span>**"
   ]
  },
  {
   "cell_type": "code",
   "execution_count": 7,
   "metadata": {},
   "outputs": [
    {
     "data": {
      "text/html": [
       "<div>\n",
       "<style scoped>\n",
       "    .dataframe tbody tr th:only-of-type {\n",
       "        vertical-align: middle;\n",
       "    }\n",
       "\n",
       "    .dataframe tbody tr th {\n",
       "        vertical-align: top;\n",
       "    }\n",
       "\n",
       "    .dataframe thead th {\n",
       "        text-align: right;\n",
       "    }\n",
       "</style>\n",
       "<table border=\"1\" class=\"dataframe\">\n",
       "  <thead>\n",
       "    <tr style=\"text-align: right;\">\n",
       "      <th></th>\n",
       "      <th>War</th>\n",
       "      <th>Location</th>\n",
       "      <th>Deaths</th>\n",
       "      <th>Region</th>\n",
       "    </tr>\n",
       "  </thead>\n",
       "  <tbody>\n",
       "    <tr>\n",
       "      <th>0</th>\n",
       "      <td>Taiping Rebellion</td>\n",
       "      <td>china</td>\n",
       "      <td>25000000</td>\n",
       "      <td>Asia</td>\n",
       "    </tr>\n",
       "    <tr>\n",
       "      <th>5</th>\n",
       "      <td>Dungan Revolt</td>\n",
       "      <td>china</td>\n",
       "      <td>14000000</td>\n",
       "      <td>Asia</td>\n",
       "    </tr>\n",
       "    <tr>\n",
       "      <th>18</th>\n",
       "      <td>World War I</td>\n",
       "      <td>uk</td>\n",
       "      <td>28000000</td>\n",
       "      <td>Europe</td>\n",
       "    </tr>\n",
       "    <tr>\n",
       "      <th>27</th>\n",
       "      <td>Second Sino-Japanese War</td>\n",
       "      <td>china</td>\n",
       "      <td>22500000</td>\n",
       "      <td>Asia</td>\n",
       "    </tr>\n",
       "    <tr>\n",
       "      <th>28</th>\n",
       "      <td>World War II</td>\n",
       "      <td>uk</td>\n",
       "      <td>70562500</td>\n",
       "      <td>Europe</td>\n",
       "    </tr>\n",
       "  </tbody>\n",
       "</table>\n",
       "</div>"
      ],
      "text/plain": [
       "                         War Location    Deaths  Region\n",
       "0          Taiping Rebellion    china  25000000    Asia\n",
       "5              Dungan Revolt    china  14000000    Asia\n",
       "18               World War I       uk  28000000  Europe\n",
       "27  Second Sino-Japanese War    china  22500000    Asia\n",
       "28              World War II       uk  70562500  Europe"
      ]
     },
     "execution_count": 7,
     "metadata": {},
     "output_type": "execute_result"
    }
   ],
   "source": [
    "# Code for 2.3 here"
   ]
  },
  {
   "cell_type": "markdown",
   "metadata": {},
   "source": [
    "**<span style=\"color:blue\">Question 2.4: Set the `mean_deaths` and `median_deaths` equal to the mean and median deaths using `np.mean` and `np.median` in the cells below.  (2 pts)</span>** "
   ]
  },
  {
   "cell_type": "code",
   "execution_count": 8,
   "metadata": {},
   "outputs": [
    {
     "data": {
      "text/plain": [
       "2322783.11827957"
      ]
     },
     "execution_count": 8,
     "metadata": {},
     "output_type": "execute_result"
    }
   ],
   "source": [
    "# Code for mean here\n",
    "mean_deaths = ...\n",
    "mean_deaths"
   ]
  },
  {
   "cell_type": "code",
   "execution_count": 36,
   "metadata": {},
   "outputs": [
    {
     "data": {
      "text/plain": [
       "Ellipsis"
      ]
     },
     "execution_count": 36,
     "metadata": {},
     "output_type": "execute_result"
    }
   ],
   "source": [
    "# Code for median here\n",
    "median_deaths= ...\n",
    "median_deaths"
   ]
  },
  {
   "cell_type": "markdown",
   "metadata": {},
   "source": [
    "**<span style=\"color:blue\">Question 2.5: Explain why the mean (or median) is larger. (2 pts)</span>** "
   ]
  },
  {
   "cell_type": "markdown",
   "metadata": {},
   "source": [
    "*ANSWER TO 2.5 HERE*"
   ]
  },
  {
   "cell_type": "markdown",
   "metadata": {},
   "source": [
    "Let's see how these measure of typical values change if we drop extreme observations. Run the following lines of code to explore this. "
   ]
  },
  {
   "cell_type": "code",
   "execution_count": 37,
   "metadata": {},
   "outputs": [
    {
     "data": {
      "text/plain": [
       "1290728.9010989012"
      ]
     },
     "execution_count": 37,
     "metadata": {},
     "output_type": "execute_result"
    }
   ],
   "source": [
    "wars_noww = wars[wars['Deaths'] <= 25000000]\n",
    "np.mean(wars_noww['Deaths'])"
   ]
  },
  {
   "cell_type": "code",
   "execution_count": 38,
   "metadata": {},
   "outputs": [
    {
     "data": {
      "text/plain": [
       "193700.0"
      ]
     },
     "execution_count": 38,
     "metadata": {},
     "output_type": "execute_result"
    }
   ],
   "source": [
    "np.median(wars_noww['Deaths'])"
   ]
  },
  {
   "cell_type": "markdown",
   "metadata": {},
   "source": [
    "**<span style=\"color:blue\">Question 2.6. What do these line of code do? (Hints: refer back to the table produced by Question 2.3, and note that `<=` means \"less than or equal to\")? Compare the output here to your answers to Question 2.4  (2 pts) </span>**"
   ]
  },
  {
   "cell_type": "markdown",
   "metadata": {},
   "source": [
    "*ANSWER TO 2.6 HERE*"
   ]
  },
  {
   "cell_type": "markdown",
   "metadata": {},
   "source": [
    "Collecting data on historic wars can be challenging and time consuming. For the sake of illustration, suppose we could only figure this out for a random sample of the wars. A way we can quickly simulate this is with the `.sample` function. For example, the following takes a random sample of the number of deaths from 10 wars:"
   ]
  },
  {
   "cell_type": "code",
   "execution_count": 12,
   "metadata": {},
   "outputs": [
    {
     "data": {
      "text/plain": [
       "24      107500\n",
       "23     8000000\n",
       "14       81500\n",
       "5     14000000\n",
       "7       750000\n",
       "79      525000\n",
       "37      193700\n",
       "87       62450\n",
       "56     1000000\n",
       "81       60000\n",
       "Name: Deaths, dtype: int64"
      ]
     },
     "execution_count": 12,
     "metadata": {},
     "output_type": "execute_result"
    }
   ],
   "source": [
    "wars['Deaths'].sample(10)"
   ]
  },
  {
   "cell_type": "markdown",
   "metadata": {},
   "source": [
    "Let's suppose we had enough resources to collect data on about half of the major wars, or 45. To get a sense of whether this would give us a reliable estimate of the average deaths per war, we can simulate repeated samples of this size with the following code, and then plot the distribution of sample means."
   ]
  },
  {
   "cell_type": "code",
   "execution_count": 13,
   "metadata": {},
   "outputs": [
    {
     "data": {
      "text/plain": [
       "<matplotlib.lines.Line2D at 0x7f3ba96e8fa0>"
      ]
     },
     "execution_count": 13,
     "metadata": {},
     "output_type": "execute_result"
    },
    {
     "data": {
      "image/png": "[encoded data removed]",
      "text/plain": [
       "<Figure size 432x288 with 1 Axes>"
      ]
     },
     "metadata": {
      "needs_background": "light"
     },
     "output_type": "display_data"
    }
   ],
   "source": [
    "n=45\n",
    "np.random.seed(32020)\n",
    "sample_dist45 = [np.mean(wars['Deaths'].sample(n)) for _ in range(10000)]\n",
    "sns.distplot(sample_dist45)\n",
    "plt.axvline(np.mean(wars['Deaths']), ymax=1, color='r')"
   ]
  },
  {
   "cell_type": "markdown",
   "metadata": {},
   "source": [
    "Note that this isn't quite normally distributed around the real average (represented by the red line): in fact there are two peaks, one below the real average and one above. \n",
    "\n",
    "The reason why is that in the presence of extreme observations (i.e., the initial distribution is very different from a normal distribution), the sample size needs to be large for the conditions of the Central Limit Theorem to be met. What is going on here is that since World War II has so many deaths, samples that include this observation have an average deaths of around 3,000,000, while those that don't include World War II have a mean of around  1,500,000 deaths. Since the inclusion of this observation is so influential, the distribution of sample means has two peaks. (We often call distributions like this \"bimodal\")"
   ]
  },
  {
   "cell_type": "markdown",
   "metadata": {},
   "source": [
    "One way to make our analysis closer to the ideal of the Central Limit Theorem is to not include the most extreme wars, subsetting to those with fewer than a million deaths."
   ]
  },
  {
   "cell_type": "code",
   "execution_count": 16,
   "metadata": {},
   "outputs": [],
   "source": [
    "wars_nobig = wars[wars['Deaths'] < 1000000]"
   ]
  },
  {
   "cell_type": "code",
   "execution_count": 39,
   "metadata": {},
   "outputs": [
    {
     "data": {
      "text/plain": [
       "<matplotlib.lines.Line2D at 0x7f3ba4ee14c0>"
      ]
     },
     "execution_count": 39,
     "metadata": {},
     "output_type": "execute_result"
    },
    {
     "data": {
      "image/png": "[encoded data removed]",
      "text/plain": [
       "<Figure size 432x288 with 1 Axes>"
      ]
     },
     "metadata": {},
     "output_type": "display_data"
    }
   ],
   "source": [
    "n=45\n",
    "np.random.seed(32020)\n",
    "# Drawing samples with size 10 and 100\n",
    "sample_dist_nobig = [np.mean(wars_nobig['Deaths'].sample(n)) for _ in range(10000)]\n",
    "# Plotting the two distributions\n",
    "sns.distplot(sample_dist_nobig)\n",
    "plt.axvline(np.mean(wars_nobig['Deaths']), ymax=1, color='r')"
   ]
  },
  {
   "cell_type": "markdown",
   "metadata": {},
   "source": [
    "Let's compare this to what would happen if we only had the time to collect data on 20 wars. "
   ]
  },
  {
   "cell_type": "code",
   "execution_count": 40,
   "metadata": {},
   "outputs": [
    {
     "data": {
      "text/plain": [
       "<matplotlib.lines.Line2D at 0x7f3ba4f5c430>"
      ]
     },
     "execution_count": 40,
     "metadata": {},
     "output_type": "execute_result"
    },
    {
     "data": {
      "image/png": "[encoded data removed]",
      "text/plain": [
       "<Figure size 432x288 with 1 Axes>"
      ]
     },
     "metadata": {},
     "output_type": "display_data"
    }
   ],
   "source": [
    "smalln=10\n",
    "np.random.seed(32020)\n",
    "# Drawing samples with size 10 and 100\n",
    "smallsample_dist_nobig = [np.mean(wars_nobig['Deaths'].sample(smalln)) for _ in range(10000)]\n",
    "# Plotting the two distributions\n",
    "sns.distplot(sample_dist_nobig)\n",
    "sns.distplot(smallsample_dist_nobig)\n",
    "plt.axvline(np.mean(wars_nobig['Deaths']), ymax=1, color='g')"
   ]
  },
  {
   "cell_type": "markdown",
   "metadata": {},
   "source": [
    "**<span style=\"color:blue\"> Question 2.7. Which of the two distributions corresponds to the smaller sample and which is the larger sample? What aspect of the Central Limit Theorem does this illustrate? (2 pts.) </span>**"
   ]
  },
  {
   "cell_type": "markdown",
   "metadata": {},
   "source": [
    "*ANSWER TO 2.7 HERE*"
   ]
  },
  {
   "cell_type": "markdown",
   "metadata": {},
   "source": [
    "While it is less realistic, one way we can illustrate the theoretical properties of the Central Limit Theorem is to sample *with replacement* from the data, which allows us to take very large samples even from a small population. In the following cell, we can see that with big enough samples, means from the original data with the outliers of the World Wars are still roughly normally distributed:"
   ]
  },
  {
   "cell_type": "code",
   "execution_count": 20,
   "metadata": {},
   "outputs": [
    {
     "data": {
      "text/plain": [
       "<matplotlib.lines.Line2D at 0x7f3ba9c86a00>"
      ]
     },
     "execution_count": 20,
     "metadata": {},
     "output_type": "execute_result"
    },
    {
     "data": {
      "image/png": "[encoded data removed]",
      "text/plain": [
       "<Figure size 432x288 with 1 Axes>"
      ]
     },
     "metadata": {
      "needs_background": "light"
     },
     "output_type": "display_data"
    }
   ],
   "source": [
    "replacen=20000\n",
    "np.random.seed(32020)\n",
    "# Drawing samples with size 10 and 100\n",
    "sample_dist_rep = [np.mean(np.random.choice(wars['Deaths'], replacen)) for _ in range(10000)]\n",
    "# Plotting the two distributions\n",
    "sns.distplot(sample_dist_rep)\n",
    "plt.axvline(np.mean(wars['Deaths']), ymax=1, color='r')"
   ]
  },
  {
   "cell_type": "markdown",
   "metadata": {},
   "source": [
    "The theoretical result of the Central Limit Theorem predicts that the standard deviation of the sampling distribution will be:"
   ]
  },
  {
   "cell_type": "code",
   "execution_count": null,
   "metadata": {},
   "outputs": [],
   "source": [
    "np.std(wars['Deaths'])/np.sqrt(replacen)"
   ]
  },
  {
   "cell_type": "markdown",
   "metadata": {},
   "source": [
    "<span style=\"color:blue\">**Question 2.8. Write a line of code to check that the standard deviation of the sampling distribution is very close to the theoretical prediction. (1 pt)**</span>"
   ]
  },
  {
   "cell_type": "code",
   "execution_count": 41,
   "metadata": {},
   "outputs": [],
   "source": [
    "# Code for 2.8 below"
   ]
  },
  {
   "cell_type": "markdown",
   "metadata": {},
   "source": [
    "## 3. Presidential Approval <a class=\"anchor\" id=\"putin\"></a>\n",
    "In this question, we will explore Russian presidential approval rating. We use data from the Levada Center, which conducts public opinion polls in Russia, which are generally considered among the most credible surveys in a non-democratic country. Their most recent poll in August 2020, with a sample of 1600, found that 69% of respondents approve of Vladimir Putin’s performance as Prime Minister.  \n",
    "\n",
    "The following cell loads in Putin's approval as the table `putin`."
   ]
  },
  {
   "cell_type": "code",
   "execution_count": 21,
   "metadata": {},
   "outputs": [
    {
     "data": {
      "text/html": [
       "<table border=\"1\" class=\"dataframe\">\n",
       "    <thead>\n",
       "        <tr>\n",
       "            <th>Date</th> <th>Approved</th> <th>Disapproved</th> <th>No Answer</th>\n",
       "        </tr>\n",
       "    </thead>\n",
       "    <tbody>\n",
       "        <tr>\n",
       "            <td>1999-Aug</td> <td>31      </td> <td>33         </td> <td>36       </td>\n",
       "        </tr>\n",
       "        <tr>\n",
       "            <td>1999-Sep</td> <td>53      </td> <td>27         </td> <td>20       </td>\n",
       "        </tr>\n",
       "        <tr>\n",
       "            <td>1999-Oct</td> <td>65      </td> <td>20         </td> <td>15       </td>\n",
       "        </tr>\n",
       "        <tr>\n",
       "            <td>1999-Nov</td> <td>80      </td> <td>12         </td> <td>8        </td>\n",
       "        </tr>\n",
       "        <tr>\n",
       "            <td>1999-Dec</td> <td>79      </td> <td>13         </td> <td>8        </td>\n",
       "        </tr>\n",
       "        <tr>\n",
       "            <td>2000-Jan</td> <td>84      </td> <td>10         </td> <td>6        </td>\n",
       "        </tr>\n",
       "        <tr>\n",
       "            <td>2000-Feb</td> <td>75      </td> <td>17         </td> <td>8        </td>\n",
       "        </tr>\n",
       "        <tr>\n",
       "            <td>2000-Mar</td> <td>70      </td> <td>21         </td> <td>9        </td>\n",
       "        </tr>\n",
       "        <tr>\n",
       "            <td>2000-Apr</td> <td>77      </td> <td>15         </td> <td>8        </td>\n",
       "        </tr>\n",
       "        <tr>\n",
       "            <td>2000-May</td> <td>72      </td> <td>17         </td> <td>11       </td>\n",
       "        </tr>\n",
       "    </tbody>\n",
       "</table>\n",
       "<p>... (243 rows omitted)</p>"
      ],
      "text/plain": [
       "Date     | Approved | Disapproved | No Answer\n",
       "1999-Aug | 31       | 33          | 36\n",
       "1999-Sep | 53       | 27          | 20\n",
       "1999-Oct | 65       | 20          | 15\n",
       "1999-Nov | 80       | 12          | 8\n",
       "1999-Dec | 79       | 13          | 8\n",
       "2000-Jan | 84       | 10          | 6\n",
       "2000-Feb | 75       | 17          | 8\n",
       "2000-Mar | 70       | 21          | 9\n",
       "2000-Apr | 77       | 15          | 8\n",
       "2000-May | 72       | 17          | 11\n",
       "... (243 rows omitted)"
      ]
     },
     "execution_count": 21,
     "metadata": {},
     "output_type": "execute_result"
    }
   ],
   "source": [
    "from utils import table_dict, time\n",
    "from datascience import Table\n",
    "import pandas as pd\n",
    "import numpy as np\n",
    "import matplotlib.pyplot as plt\n",
    "import seaborn as sns \n",
    "import scipy.stats as stats\n",
    "%matplotlib inline\n",
    "\n",
    "putin = Table().with_columns(table_dict)\n",
    "putin"
   ]
  },
  {
   "cell_type": "markdown",
   "metadata": {},
   "source": [
    "For a better visual of Putin's approval, we will graph his approval and disapproval ratings between 1999 and 2020. For now, you don't need to know how the plotting works, but it's useful to get an idea of the data."
   ]
  },
  {
   "cell_type": "code",
   "execution_count": 22,
   "metadata": {},
   "outputs": [
    {
     "data": {
      "image/png": "[encoded data removed]",
      "text/plain": [
       "<Figure size 576x432 with 1 Axes>"
      ]
     },
     "metadata": {
      "needs_background": "light"
     },
     "output_type": "display_data"
    }
   ],
   "source": [
    "#Plot Putin's approval rates against his disapproval rates from 1999 to 2020\n",
    "putin = putin.to_df()\n",
    "putin.plot(figsize=(8, 6), linewidth=2.5)\n",
    "sns.set(font_scale=1.4)\n",
    "plt.xlabel(\"Date\", labelpad=15)\n",
    "plt.ylabel(\"Percentage of People\", labelpad=15)\n",
    "plt.title(\"Putin's Approval Ratings\", y=1.02, fontsize=22);\n"
   ]
  },
  {
   "cell_type": "markdown",
   "metadata": {},
   "source": [
    "If we want to know the highest and lowest approval ratings registered we can use the `min` and `max` functions:"
   ]
  },
  {
   "cell_type": "code",
   "execution_count": 23,
   "metadata": {},
   "outputs": [
    {
     "data": {
      "text/plain": [
       "31"
      ]
     },
     "execution_count": 23,
     "metadata": {},
     "output_type": "execute_result"
    }
   ],
   "source": [
    "np.min(putin[\"Approved\"])"
   ]
  },
  {
   "cell_type": "code",
   "execution_count": 24,
   "metadata": {},
   "outputs": [
    {
     "data": {
      "text/plain": [
       "89"
      ]
     },
     "execution_count": 24,
     "metadata": {},
     "output_type": "execute_result"
    }
   ],
   "source": [
    "np.max(putin[\"Approved\"])"
   ]
  },
  {
   "cell_type": "markdown",
   "metadata": {},
   "source": [
    "And figure out when these numbers were recorded using some similar tricks as section 2:"
   ]
  },
  {
   "cell_type": "code",
   "execution_count": 25,
   "metadata": {},
   "outputs": [
    {
     "data": {
      "text/html": [
       "<div>\n",
       "<style scoped>\n",
       "    .dataframe tbody tr th:only-of-type {\n",
       "        vertical-align: middle;\n",
       "    }\n",
       "\n",
       "    .dataframe tbody tr th {\n",
       "        vertical-align: top;\n",
       "    }\n",
       "\n",
       "    .dataframe thead th {\n",
       "        text-align: right;\n",
       "    }\n",
       "</style>\n",
       "<table border=\"1\" class=\"dataframe\">\n",
       "  <thead>\n",
       "    <tr style=\"text-align: right;\">\n",
       "      <th></th>\n",
       "      <th>Date</th>\n",
       "      <th>Approved</th>\n",
       "      <th>Disapproved</th>\n",
       "      <th>No Answer</th>\n",
       "    </tr>\n",
       "  </thead>\n",
       "  <tbody>\n",
       "    <tr>\n",
       "      <th>0</th>\n",
       "      <td>1999-Aug</td>\n",
       "      <td>31</td>\n",
       "      <td>33</td>\n",
       "      <td>36</td>\n",
       "    </tr>\n",
       "  </tbody>\n",
       "</table>\n",
       "</div>"
      ],
      "text/plain": [
       "       Date  Approved  Disapproved  No Answer\n",
       "0  1999-Aug        31           33         36"
      ]
     },
     "execution_count": 25,
     "metadata": {},
     "output_type": "execute_result"
    }
   ],
   "source": [
    "putin[putin[\"Approved\"] == 31]"
   ]
  },
  {
   "cell_type": "code",
   "execution_count": 26,
   "metadata": {},
   "outputs": [
    {
     "data": {
      "text/html": [
       "<div>\n",
       "<style scoped>\n",
       "    .dataframe tbody tr th:only-of-type {\n",
       "        vertical-align: middle;\n",
       "    }\n",
       "\n",
       "    .dataframe tbody tr th {\n",
       "        vertical-align: top;\n",
       "    }\n",
       "\n",
       "    .dataframe thead th {\n",
       "        text-align: right;\n",
       "    }\n",
       "</style>\n",
       "<table border=\"1\" class=\"dataframe\">\n",
       "  <thead>\n",
       "    <tr style=\"text-align: right;\">\n",
       "      <th></th>\n",
       "      <th>Date</th>\n",
       "      <th>Approved</th>\n",
       "      <th>Disapproved</th>\n",
       "      <th>No Answer</th>\n",
       "    </tr>\n",
       "  </thead>\n",
       "  <tbody>\n",
       "    <tr>\n",
       "      <th>190</th>\n",
       "      <td>2015-Jun</td>\n",
       "      <td>89</td>\n",
       "      <td>10</td>\n",
       "      <td>1</td>\n",
       "    </tr>\n",
       "  </tbody>\n",
       "</table>\n",
       "</div>"
      ],
      "text/plain": [
       "         Date  Approved  Disapproved  No Answer\n",
       "190  2015-Jun        89           10          1"
      ]
     },
     "execution_count": 26,
     "metadata": {},
     "output_type": "execute_result"
    }
   ],
   "source": [
    "putin[putin[\"Approved\"] == 89]"
   ]
  },
  {
   "cell_type": "markdown",
   "metadata": {},
   "source": [
    "Suppose that the August 1999 survey was a simple random sample with 1500 respondents. The standard error of the estimate for approval would then be:"
   ]
  },
  {
   "cell_type": "code",
   "execution_count": 27,
   "metadata": {},
   "outputs": [
    {
     "data": {
      "text/plain": [
       "0.011941524190822544"
      ]
     },
     "execution_count": 27,
     "metadata": {},
     "output_type": "execute_result"
    }
   ],
   "source": [
    "se_aug99 = np.sqrt((.31)*(1-.31)/1500)\n",
    "se_aug99"
   ]
  },
  {
   "cell_type": "markdown",
   "metadata": {},
   "source": [
    "And a 95% confidence interval has lower and upper bounds:"
   ]
  },
  {
   "cell_type": "code",
   "execution_count": 28,
   "metadata": {},
   "outputs": [
    {
     "name": "stdout",
     "output_type": "stream",
     "text": [
      "The 95% confidence interval is [0.28659461258598784 , 0.33340538741401216]\n"
     ]
    }
   ],
   "source": [
    "lower_aug99 = .31 - 1.96*se_aug99\n",
    "upper_aug99 = .31 + 1.96*se_aug99\n",
    "print('The 95% confidence interval is ['+ str(lower_aug99)+' , '+ str(upper_aug99)+ ']')"
   ]
  },
  {
   "cell_type": "markdown",
   "metadata": {},
   "source": [
    "**<span style=\"color:blue\">Question 3.1. Suppose the June 2015 survey was a simple random sample with 1600 respondents. Modify the code below to set `se_jun15` to the standard error on proportion who approve of Putin's performance. (1 pt)**"
   ]
  },
  {
   "cell_type": "code",
   "execution_count": 29,
   "metadata": {},
   "outputs": [
    {
     "data": {
      "text/plain": [
       "0.007822243923581006"
      ]
     },
     "execution_count": 29,
     "metadata": {},
     "output_type": "execute_result"
    }
   ],
   "source": [
    "se_jun15 = ...\n",
    "se_jun15"
   ]
  },
  {
   "cell_type": "markdown",
   "metadata": {},
   "source": [
    "**<span style=\"color:blue\">Question 3.2: Modify the code below to produce a 95% confidence interval for the June 2015 approval rating (2 pts)</span>** "
   ]
  },
  {
   "cell_type": "code",
   "execution_count": 30,
   "metadata": {},
   "outputs": [
    {
     "name": "stdout",
     "output_type": "stream",
     "text": [
      "The 95% confidence interval is [0.8746684019097812 , 0.9053315980902188]\n"
     ]
    }
   ],
   "source": [
    "lower_jun15 = ...\n",
    "upper_jun15 = ...\n",
    "print('The 95% confidence interval is ['+ str(lower_jun15)+' , '+ str(upper_jun15)+ ']')"
   ]
  },
  {
   "cell_type": "markdown",
   "metadata": {},
   "source": [
    "**<span style=\"color:blue\"> Question 3.3. Now write code in the cell below to produce a 90% confidence interval. As a reminder, for any normally distributed variable about 90% of the data will lie within 1.64 standard deviations of the mean. (1 pt) </span>**"
   ]
  },
  {
   "cell_type": "code",
   "execution_count": null,
   "metadata": {},
   "outputs": [],
   "source": [
    "# Code for 3.3 here\n",
    "lower_jun15_90 = ...\n",
    "upper_jun15_90 = ...\n",
    "print('The 90% confidence interval is ['+ str(lower_jun15)+' , '+ str(upper_jun15)+ ']')"
   ]
  },
  {
   "cell_type": "markdown",
   "metadata": {},
   "source": [
    "**<span style=\"color:blue\">Question 3.4. Compare your answers to 3.2 and 3.3. Which interval is \"wider\", and why? (2 pts)</span>**"
   ]
  },
  {
   "cell_type": "markdown",
   "metadata": {},
   "source": [
    "*ANSWER TO 3.4 HERE*"
   ]
  },
  {
   "cell_type": "markdown",
   "metadata": {},
   "source": [
    "Now let's ask whether Putin is more or less popular in some subgroups. Here is a formula we can use to calculate a standard error for a difference of proportions."
   ]
  },
  {
   "cell_type": "code",
   "execution_count": 31,
   "metadata": {},
   "outputs": [],
   "source": [
    "def se_dprop(p1, p2, n1, n2):\n",
    "    sd1 = np.sqrt(p1*(1-p1))\n",
    "    sd2 = np.sqrt(p2*(1-p2))\n",
    "    return np.sqrt((sd1**2)/n1 + (sd2**2)/n2)"
   ]
  },
  {
   "cell_type": "markdown",
   "metadata": {},
   "source": [
    "For example, if Group 1 is 500 people and 10% support a candidate, and group 2 has 700 people and 20% support, the standard error for the the difference of proportions between the groups is:"
   ]
  },
  {
   "cell_type": "code",
   "execution_count": 32,
   "metadata": {},
   "outputs": [
    {
     "data": {
      "text/plain": [
       "0.02021314989237028"
      ]
     },
     "execution_count": 32,
     "metadata": {},
     "output_type": "execute_result"
    }
   ],
   "source": [
    "se_dprop(p1=.1, p2=.2, n1=500, n2=700)"
   ]
  },
  {
   "cell_type": "markdown",
   "metadata": {},
   "source": [
    "In the June 2020 Survey, the overall approval was 60%. Suppose that 480 people in the sample live in the Moscow area, and among these residents the approval rating was 55% while the remaining 1120 of residents outside of Moscow give Putin a 72% approval rating.\n",
    "\n",
    "**<span style=\"color:blue\"> Question 3.5 Use the `se_dprop` function to compute the standard error on this difference in approval (1 pt) </span>**"
   ]
  },
  {
   "cell_type": "code",
   "execution_count": 33,
   "metadata": {},
   "outputs": [
    {
     "data": {
      "text/plain": [
       "0.02637470378980587"
      ]
     },
     "execution_count": 33,
     "metadata": {},
     "output_type": "execute_result"
    }
   ],
   "source": [
    "se_putin_diff = ...\n",
    "se_putin_diff"
   ]
  },
  {
   "cell_type": "markdown",
   "metadata": {},
   "source": [
    "<span style=\"color:blue\">**Question 3.6. Now, write some code like you used for question 3.2 to compute a 95% confidence interval for the difference in Putin approval rating (2 pts)**</span>"
   ]
  },
  {
   "cell_type": "code",
   "execution_count": 34,
   "metadata": {},
   "outputs": [
    {
     "name": "stdout",
     "output_type": "stream",
     "text": [
      "The 90% confidence interval is [-0.22169441942801943 , -0.11830558057198043]\n"
     ]
    }
   ],
   "source": [
    "# Code for 3.5 here\n",
    "lower_diff = ...\n",
    "upper_diff = ...\n",
    "print('The 95% confidence interval is ['+ str(lower_diff)+' , '+ str(upper_diff)+ ']')"
   ]
  },
  {
   "cell_type": "markdown",
   "metadata": {},
   "source": [
    "**<span style=\"color:blue\">Question 3.7. Does 0 lie in this confidence interval? Interpret this finding. (2 pts) </span>**"
   ]
  },
  {
   "cell_type": "markdown",
   "metadata": {},
   "source": [
    "*ANSWER TO 3.5 HERE*"
   ]
  },
  {
   "cell_type": "markdown",
   "metadata": {},
   "source": [
    "## The End\n",
    "Great job, you're done with this homework!\n",
    "Once you have finished working on your problem set, go to File ->Download as-> PDF via Latex. Do not download it as PDF via html"
   ]
  },
  {
   "cell_type": "markdown",
   "metadata": {},
   "source": [
    "Authors: William McEachen, Mikalya Tom, Carlos Calderon, Aishah Mahmud, Andrew Little"
   ]
  }
 ],
 "metadata": {
  "kernelspec": {
   "display_name": "Python 3",
   "language": "python",
   "name": "python3"
  },
  "language_info": {
   "codemirror_mode": {
    "name": "ipython",
    "version": 3
   },
   "file_extension": ".py",
   "mimetype": "text/x-python",
   "name": "python",
   "nbconvert_exporter": "python",
   "pygments_lexer": "ipython3",
   "version": "3.8.6"
  }
 },
 "nbformat": 4,
 "nbformat_minor": 4
}
