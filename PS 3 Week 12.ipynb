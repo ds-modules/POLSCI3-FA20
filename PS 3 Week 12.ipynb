{
 "cells": [
  {
   "cell_type": "markdown",
   "metadata": {},
   "source": [
    "# PS 3 Week 12: Hypothesis Testing\n",
    "Author: Eric Van Dusen, Andrew Little, William McEachen"
   ]
  },
  {
   "cell_type": "code",
   "execution_count": 2,
   "metadata": {},
   "outputs": [],
   "source": [
    "import numpy as np\n",
    "from scipy import stats\n",
    "from datascience import Table\n",
    "import pandas as pd\n",
    "from ipywidgets import *\n",
    "import seaborn as sns\n",
    "import matplotlib.pyplot as plt\n",
    "%matplotlib inline"
   ]
  },
  {
   "cell_type": "markdown",
   "metadata": {},
   "source": [
    "## Difference of Means: Comparing Samples\n",
    "\n",
    "When we have a continuous variable categorized by a categorical variable, we can use a *difference of means* test to determine if there is a relationship between the categorical variable and the continuous variable. In the example below, we will determine if there is a relationship between party control majority and their governing time. In parliamentary systems, the party in control often is not the majority, just a plurality. When this happens, when the governing party is the minority, does it have shorter governing times? Let's find out!"
   ]
  },
  {
   "cell_type": "markdown",
   "metadata": {},
   "source": [
    "Below, we load in a table called <code>govts_df</code> that has 4 columns: <code>nation</code>, <code>govttime</code>, the amount of time the government is in control, and <code>mingov</code>, a binary categorical variable where 1 signifies that the party was the minority. Let's load the table first:"
   ]
  },
  {
   "cell_type": "code",
   "execution_count": null,
   "metadata": {
    "scrolled": true
   },
   "outputs": [],
   "source": [
    "govts_df = pd.read_csv('govts.csv').drop('govtdate', axis=1)\n",
    "govts_df"
   ]
  },
  {
   "cell_type": "markdown",
   "metadata": {},
   "source": [
    "Now, let's plot the distributions of <code>govttime</code>, separated by <code>mingov</code>."
   ]
  },
  {
   "cell_type": "code",
   "execution_count": null,
   "metadata": {},
   "outputs": [],
   "source": [
    "sns.distplot(govts_df[govts_df.mingov==1]['govttime'], label='minority')\n",
    "sns.distplot(govts_df[govts_df.mingov==0]['govttime'], label='majority')"
   ]
  },
  {
   "cell_type": "markdown",
   "metadata": {},
   "source": [
    "What do you notice about the two distributions?\n",
    "\n",
    "Let's look at the differences of means"
   ]
  },
  {
   "cell_type": "code",
   "execution_count": null,
   "metadata": {},
   "outputs": [],
   "source": [
    "dom = np.mean(govts_df[govts_df.mingov==1]['govttime']) - np.mean(govts_df[govts_df.mingov==0]['govttime'])\n",
    "dom"
   ]
  },
  {
   "cell_type": "markdown",
   "metadata": {},
   "source": [
    "So, minority governments last on average 256 days less than majority goverments. But maybe this is just driven by random chance!\n",
    "\n",
    "To explore this, we can first calculate the standard error for the difference of means. To use this formula, we need to know how many majority and minority governments there are:"
   ]
  },
  {
   "cell_type": "code",
   "execution_count": null,
   "metadata": {},
   "outputs": [],
   "source": [
    "govts_df['mingov'].value_counts()"
   ]
  },
  {
   "cell_type": "markdown",
   "metadata": {},
   "source": [
    "Now we can apply our formula from the slides:"
   ]
  },
  {
   "cell_type": "code",
   "execution_count": null,
   "metadata": {},
   "outputs": [],
   "source": [
    "sd1 = np.std(govts_df[govts_df.mingov==1]['govttime'])\n",
    "sd0 = np.std(govts_df[govts_df.mingov==0]['govttime'])\n",
    "n1 = 124\n",
    "n0=53\n",
    "se_dom = np.sqrt((sd1**2)/n1 + (sd0**2)/n0)\n",
    "se_dom"
   ]
  },
  {
   "cell_type": "markdown",
   "metadata": {},
   "source": [
    "We can make some confidence intervals:"
   ]
  },
  {
   "cell_type": "code",
   "execution_count": null,
   "metadata": {},
   "outputs": [],
   "source": [
    "print(\"[\",dom - 1.96*se_dom,\",\",dom+1.96*se_dom,\"]\")"
   ]
  },
  {
   "cell_type": "code",
   "execution_count": null,
   "metadata": {},
   "outputs": [],
   "source": [
    "print(\"[\",dom - 2.58*se_dom,\",\",dom+2.58*se_dom,\"]\")"
   ]
  },
  {
   "cell_type": "markdown",
   "metadata": {},
   "source": [
    "Our t statistic is then:"
   ]
  },
  {
   "cell_type": "code",
   "execution_count": null,
   "metadata": {},
   "outputs": [],
   "source": [
    "dom/se_dom"
   ]
  },
  {
   "cell_type": "markdown",
   "metadata": {},
   "source": [
    "Here is a manual computation of the p value, no need to follow the details here"
   ]
  },
  {
   "cell_type": "code",
   "execution_count": null,
   "metadata": {},
   "outputs": [],
   "source": [
    " stats.t.sf(np.abs(dom/se_dom), n0 + n1-2)*2"
   ]
  },
  {
   "cell_type": "markdown",
   "metadata": {},
   "source": [
    "Since the p value is less than .01, we would say this difference is statistically significant at the 1% level. "
   ]
  },
  {
   "cell_type": "markdown",
   "metadata": {},
   "source": [
    "As a side-bar, here is the p-value we get for the example of D vs Rs saying gun policy is important. The first argument is the t value we computed, and the second is the degrees of freedom (don't worry about this)"
   ]
  },
  {
   "cell_type": "code",
   "execution_count": null,
   "metadata": {},
   "outputs": [],
   "source": [
    " stats.t.sf(2.2, 598)*2"
   ]
  },
  {
   "cell_type": "markdown",
   "metadata": {},
   "source": [
    "Which is what I put in the slides."
   ]
  },
  {
   "cell_type": "markdown",
   "metadata": {},
   "source": [
    "#### Using Built-in functions\n",
    "In order to compare the distributions of values by a categorical variable, create an array for the continuous variable for each of the values of the categorical variable. Because <code>mingov</code> has 2 values, we will create 2 arrays. We then use <code>stats.ttest_ind(categorical_value_1_array, categorical_value_2_array)</code>  "
   ]
  },
  {
   "cell_type": "code",
   "execution_count": null,
   "metadata": {},
   "outputs": [],
   "source": [
    "minority_arr = govts_df[govts_df.mingov==1]['govttime']\n",
    "majority_arr = govts_df[govts_df.mingov==0]['govttime']\n",
    "stats.ttest_ind(minority_arr,majority_arr)"
   ]
  },
  {
   "cell_type": "markdown",
   "metadata": {},
   "source": [
    "The default methods here are using some slightly different calculations than what we did above (in particular, for the standard error calculation), but the end result is effectively the same."
   ]
  },
  {
   "cell_type": "markdown",
   "metadata": {},
   "source": [
    "## Correlation\n",
    "When both variables are continuous, we want to measure their *correlation*: the degree to which one of the variable's change in value coincides with a similar change in value in the other variable. In the following example, will look at the correlation between health care spending as a proportion of GDP and life expectancy in OECD countries."
   ]
  },
  {
   "cell_type": "markdown",
   "metadata": {},
   "source": [
    "First, we need to load in the data set from a CSV. Just to see another example of how to load data, this one is stored on my website."
   ]
  },
  {
   "cell_type": "code",
   "execution_count": 3,
   "metadata": {},
   "outputs": [
    {
     "data": {
      "text/html": [
       "<div>\n",
       "<style scoped>\n",
       "    .dataframe tbody tr th:only-of-type {\n",
       "        vertical-align: middle;\n",
       "    }\n",
       "\n",
       "    .dataframe tbody tr th {\n",
       "        vertical-align: top;\n",
       "    }\n",
       "\n",
       "    .dataframe thead th {\n",
       "        text-align: right;\n",
       "    }\n",
       "</style>\n",
       "<table border=\"1\" class=\"dataframe\">\n",
       "  <thead>\n",
       "    <tr style=\"text-align: right;\">\n",
       "      <th></th>\n",
       "      <th>Unnamed: 0</th>\n",
       "      <th>Country</th>\n",
       "      <th>Year</th>\n",
       "      <th>Expectancy</th>\n",
       "      <th>Spending</th>\n",
       "    </tr>\n",
       "  </thead>\n",
       "  <tbody>\n",
       "    <tr>\n",
       "      <th>0</th>\n",
       "      <td>16</td>\n",
       "      <td>Australia</td>\n",
       "      <td>2015</td>\n",
       "      <td>84.5</td>\n",
       "      <td>9.321</td>\n",
       "    </tr>\n",
       "    <tr>\n",
       "      <th>1</th>\n",
       "      <td>33</td>\n",
       "      <td>Austria</td>\n",
       "      <td>2015</td>\n",
       "      <td>83.7</td>\n",
       "      <td>10.343</td>\n",
       "    </tr>\n",
       "    <tr>\n",
       "      <th>2</th>\n",
       "      <td>50</td>\n",
       "      <td>Belgium</td>\n",
       "      <td>2015</td>\n",
       "      <td>83.4</td>\n",
       "      <td>10.106</td>\n",
       "    </tr>\n",
       "    <tr>\n",
       "      <th>3</th>\n",
       "      <td>67</td>\n",
       "      <td>Canada</td>\n",
       "      <td>2015</td>\n",
       "      <td>83.9</td>\n",
       "      <td>10.377</td>\n",
       "    </tr>\n",
       "    <tr>\n",
       "      <th>4</th>\n",
       "      <td>83</td>\n",
       "      <td>Chile</td>\n",
       "      <td>2015</td>\n",
       "      <td>82.7</td>\n",
       "      <td>8.022</td>\n",
       "    </tr>\n",
       "    <tr>\n",
       "      <th>5</th>\n",
       "      <td>99</td>\n",
       "      <td>Czech Republic</td>\n",
       "      <td>2015</td>\n",
       "      <td>81.6</td>\n",
       "      <td>7.243</td>\n",
       "    </tr>\n",
       "    <tr>\n",
       "      <th>6</th>\n",
       "      <td>116</td>\n",
       "      <td>Denmark</td>\n",
       "      <td>2015</td>\n",
       "      <td>82.7</td>\n",
       "      <td>10.274</td>\n",
       "    </tr>\n",
       "    <tr>\n",
       "      <th>7</th>\n",
       "      <td>133</td>\n",
       "      <td>Estonia</td>\n",
       "      <td>2015</td>\n",
       "      <td>82.2</td>\n",
       "      <td>6.482</td>\n",
       "    </tr>\n",
       "    <tr>\n",
       "      <th>8</th>\n",
       "      <td>150</td>\n",
       "      <td>Finland</td>\n",
       "      <td>2015</td>\n",
       "      <td>84.4</td>\n",
       "      <td>9.743</td>\n",
       "    </tr>\n",
       "    <tr>\n",
       "      <th>9</th>\n",
       "      <td>167</td>\n",
       "      <td>France</td>\n",
       "      <td>2015</td>\n",
       "      <td>85.5</td>\n",
       "      <td>11.501</td>\n",
       "    </tr>\n",
       "    <tr>\n",
       "      <th>10</th>\n",
       "      <td>183</td>\n",
       "      <td>Germany</td>\n",
       "      <td>2015</td>\n",
       "      <td>83.1</td>\n",
       "      <td>11.079</td>\n",
       "    </tr>\n",
       "    <tr>\n",
       "      <th>11</th>\n",
       "      <td>200</td>\n",
       "      <td>Greece</td>\n",
       "      <td>2015</td>\n",
       "      <td>83.7</td>\n",
       "      <td>8.194</td>\n",
       "    </tr>\n",
       "    <tr>\n",
       "      <th>12</th>\n",
       "      <td>217</td>\n",
       "      <td>Hungary</td>\n",
       "      <td>2015</td>\n",
       "      <td>79.0</td>\n",
       "      <td>7.121</td>\n",
       "    </tr>\n",
       "    <tr>\n",
       "      <th>13</th>\n",
       "      <td>234</td>\n",
       "      <td>Iceland</td>\n",
       "      <td>2015</td>\n",
       "      <td>83.8</td>\n",
       "      <td>8.346</td>\n",
       "    </tr>\n",
       "    <tr>\n",
       "      <th>14</th>\n",
       "      <td>251</td>\n",
       "      <td>Ireland</td>\n",
       "      <td>2015</td>\n",
       "      <td>83.4</td>\n",
       "      <td>7.446</td>\n",
       "    </tr>\n",
       "    <tr>\n",
       "      <th>15</th>\n",
       "      <td>268</td>\n",
       "      <td>Israel</td>\n",
       "      <td>2015</td>\n",
       "      <td>84.1</td>\n",
       "      <td>7.375</td>\n",
       "    </tr>\n",
       "    <tr>\n",
       "      <th>16</th>\n",
       "      <td>285</td>\n",
       "      <td>Italy</td>\n",
       "      <td>2015</td>\n",
       "      <td>84.9</td>\n",
       "      <td>8.985</td>\n",
       "    </tr>\n",
       "    <tr>\n",
       "      <th>17</th>\n",
       "      <td>302</td>\n",
       "      <td>Japan</td>\n",
       "      <td>2015</td>\n",
       "      <td>87.0</td>\n",
       "      <td>10.872</td>\n",
       "    </tr>\n",
       "    <tr>\n",
       "      <th>18</th>\n",
       "      <td>319</td>\n",
       "      <td>Korea</td>\n",
       "      <td>2015</td>\n",
       "      <td>85.2</td>\n",
       "      <td>7.049</td>\n",
       "    </tr>\n",
       "    <tr>\n",
       "      <th>19</th>\n",
       "      <td>334</td>\n",
       "      <td>Latvia</td>\n",
       "      <td>2015</td>\n",
       "      <td>79.5</td>\n",
       "      <td>5.711</td>\n",
       "    </tr>\n",
       "    <tr>\n",
       "      <th>20</th>\n",
       "      <td>351</td>\n",
       "      <td>Lithuania</td>\n",
       "      <td>2015</td>\n",
       "      <td>79.7</td>\n",
       "      <td>6.476</td>\n",
       "    </tr>\n",
       "    <tr>\n",
       "      <th>21</th>\n",
       "      <td>368</td>\n",
       "      <td>Luxembourg</td>\n",
       "      <td>2015</td>\n",
       "      <td>84.7</td>\n",
       "      <td>6.226</td>\n",
       "    </tr>\n",
       "    <tr>\n",
       "      <th>22</th>\n",
       "      <td>385</td>\n",
       "      <td>Mexico</td>\n",
       "      <td>2015</td>\n",
       "      <td>77.7</td>\n",
       "      <td>5.756</td>\n",
       "    </tr>\n",
       "    <tr>\n",
       "      <th>23</th>\n",
       "      <td>403</td>\n",
       "      <td>Netherlands</td>\n",
       "      <td>2015</td>\n",
       "      <td>83.2</td>\n",
       "      <td>10.395</td>\n",
       "    </tr>\n",
       "    <tr>\n",
       "      <th>24</th>\n",
       "      <td>420</td>\n",
       "      <td>New Zealand</td>\n",
       "      <td>2015</td>\n",
       "      <td>83.4</td>\n",
       "      <td>9.307</td>\n",
       "    </tr>\n",
       "    <tr>\n",
       "      <th>25</th>\n",
       "      <td>437</td>\n",
       "      <td>Norway</td>\n",
       "      <td>2015</td>\n",
       "      <td>84.2</td>\n",
       "      <td>10.109</td>\n",
       "    </tr>\n",
       "    <tr>\n",
       "      <th>26</th>\n",
       "      <td>454</td>\n",
       "      <td>Poland</td>\n",
       "      <td>2015</td>\n",
       "      <td>81.6</td>\n",
       "      <td>6.343</td>\n",
       "    </tr>\n",
       "    <tr>\n",
       "      <th>27</th>\n",
       "      <td>471</td>\n",
       "      <td>Portugal</td>\n",
       "      <td>2015</td>\n",
       "      <td>84.3</td>\n",
       "      <td>8.972</td>\n",
       "    </tr>\n",
       "    <tr>\n",
       "      <th>28</th>\n",
       "      <td>488</td>\n",
       "      <td>Slovak Republic</td>\n",
       "      <td>2015</td>\n",
       "      <td>80.2</td>\n",
       "      <td>6.868</td>\n",
       "    </tr>\n",
       "    <tr>\n",
       "      <th>29</th>\n",
       "      <td>505</td>\n",
       "      <td>Slovenia</td>\n",
       "      <td>2015</td>\n",
       "      <td>83.9</td>\n",
       "      <td>8.485</td>\n",
       "    </tr>\n",
       "    <tr>\n",
       "      <th>30</th>\n",
       "      <td>522</td>\n",
       "      <td>Spain</td>\n",
       "      <td>2015</td>\n",
       "      <td>85.7</td>\n",
       "      <td>9.120</td>\n",
       "    </tr>\n",
       "    <tr>\n",
       "      <th>31</th>\n",
       "      <td>539</td>\n",
       "      <td>Sweden</td>\n",
       "      <td>2015</td>\n",
       "      <td>84.1</td>\n",
       "      <td>11.008</td>\n",
       "    </tr>\n",
       "    <tr>\n",
       "      <th>32</th>\n",
       "      <td>556</td>\n",
       "      <td>Switzerland</td>\n",
       "      <td>2015</td>\n",
       "      <td>85.1</td>\n",
       "      <td>11.894</td>\n",
       "    </tr>\n",
       "    <tr>\n",
       "      <th>33</th>\n",
       "      <td>573</td>\n",
       "      <td>Turkey</td>\n",
       "      <td>2015</td>\n",
       "      <td>80.7</td>\n",
       "      <td>4.139</td>\n",
       "    </tr>\n",
       "    <tr>\n",
       "      <th>34</th>\n",
       "      <td>590</td>\n",
       "      <td>United Kingdom</td>\n",
       "      <td>2015</td>\n",
       "      <td>82.8</td>\n",
       "      <td>9.793</td>\n",
       "    </tr>\n",
       "    <tr>\n",
       "      <th>35</th>\n",
       "      <td>607</td>\n",
       "      <td>United States</td>\n",
       "      <td>2015</td>\n",
       "      <td>81.1</td>\n",
       "      <td>16.816</td>\n",
       "    </tr>\n",
       "  </tbody>\n",
       "</table>\n",
       "</div>"
      ],
      "text/plain": [
       "    Unnamed: 0          Country  Year  Expectancy  Spending\n",
       "0           16        Australia  2015        84.5     9.321\n",
       "1           33          Austria  2015        83.7    10.343\n",
       "2           50          Belgium  2015        83.4    10.106\n",
       "3           67           Canada  2015        83.9    10.377\n",
       "4           83            Chile  2015        82.7     8.022\n",
       "5           99   Czech Republic  2015        81.6     7.243\n",
       "6          116          Denmark  2015        82.7    10.274\n",
       "7          133          Estonia  2015        82.2     6.482\n",
       "8          150          Finland  2015        84.4     9.743\n",
       "9          167           France  2015        85.5    11.501\n",
       "10         183          Germany  2015        83.1    11.079\n",
       "11         200           Greece  2015        83.7     8.194\n",
       "12         217          Hungary  2015        79.0     7.121\n",
       "13         234          Iceland  2015        83.8     8.346\n",
       "14         251          Ireland  2015        83.4     7.446\n",
       "15         268           Israel  2015        84.1     7.375\n",
       "16         285            Italy  2015        84.9     8.985\n",
       "17         302            Japan  2015        87.0    10.872\n",
       "18         319            Korea  2015        85.2     7.049\n",
       "19         334           Latvia  2015        79.5     5.711\n",
       "20         351        Lithuania  2015        79.7     6.476\n",
       "21         368       Luxembourg  2015        84.7     6.226\n",
       "22         385           Mexico  2015        77.7     5.756\n",
       "23         403      Netherlands  2015        83.2    10.395\n",
       "24         420      New Zealand  2015        83.4     9.307\n",
       "25         437           Norway  2015        84.2    10.109\n",
       "26         454           Poland  2015        81.6     6.343\n",
       "27         471         Portugal  2015        84.3     8.972\n",
       "28         488  Slovak Republic  2015        80.2     6.868\n",
       "29         505         Slovenia  2015        83.9     8.485\n",
       "30         522            Spain  2015        85.7     9.120\n",
       "31         539           Sweden  2015        84.1    11.008\n",
       "32         556      Switzerland  2015        85.1    11.894\n",
       "33         573           Turkey  2015        80.7     4.139\n",
       "34         590   United Kingdom  2015        82.8     9.793\n",
       "35         607    United States  2015        81.1    16.816"
      ]
     },
     "execution_count": 3,
     "metadata": {},
     "output_type": "execute_result"
    }
   ],
   "source": [
    "healthspend = pd.read_csv(\"http://andrewtlittle.com/ps3data/outspend2015.csv\")\n",
    "healthspend"
   ]
  },
  {
   "cell_type": "markdown",
   "metadata": {},
   "source": [
    "One way to make a scatter plot is with the `.scatterplot` function in the seaborn library. The first argument is our x axis variable, the second is the y axis variable, and the third tells us that both of these are in our `healthspend` data frame."
   ]
  },
  {
   "cell_type": "code",
   "execution_count": 4,
   "metadata": {},
   "outputs": [
    {
     "data": {
      "text/plain": [
       "<matplotlib.axes._subplots.AxesSubplot at 0x7f84c35c8880>"
      ]
     },
     "execution_count": 4,
     "metadata": {},
     "output_type": "execute_result"
    },
    {
     "data": {
      "image/png": "[encoded data removed]",
      "text/plain": [
       "<Figure size 432x288 with 1 Axes>"
      ]
     },
     "metadata": {
      "needs_background": "light"
     },
     "output_type": "display_data"
    }
   ],
   "source": [
    "sns.scatterplot('Spending', 'Expectancy', data=healthspend)"
   ]
  },
  {
   "cell_type": "code",
   "execution_count": 5,
   "metadata": {},
   "outputs": [
    {
     "data": {
      "text/plain": [
       "<matplotlib.axes._subplots.AxesSubplot at 0x7f84bd27b850>"
      ]
     },
     "execution_count": 5,
     "metadata": {},
     "output_type": "execute_result"
    },
    {
     "data": {
      "image/png": "[encoded data removed]",
      "text/plain": [
       "<Figure size 432x288 with 1 Axes>"
      ]
     },
     "metadata": {
      "needs_background": "light"
     },
     "output_type": "display_data"
    }
   ],
   "source": [
    "sns.scatterplot('Expectancy','Spending', data=healthspend)"
   ]
  },
  {
   "cell_type": "markdown",
   "metadata": {},
   "source": [
    "To get a sense of which \"quadrant\" each country is in, we can make a vertical line at the average spending and a horizontal line at the average life expectancy."
   ]
  },
  {
   "cell_type": "code",
   "execution_count": 6,
   "metadata": {},
   "outputs": [
    {
     "data": {
      "text/plain": [
       "<matplotlib.lines.Line2D at 0x7f84bcd8a430>"
      ]
     },
     "execution_count": 6,
     "metadata": {},
     "output_type": "execute_result"
    },
    {
     "data": {
      "image/png": "[encoded data removed]",
      "text/plain": [
       "<Figure size 432x288 with 1 Axes>"
      ]
     },
     "metadata": {
      "needs_background": "light"
     },
     "output_type": "display_data"
    }
   ],
   "source": [
    "sns.scatterplot('Spending', 'Expectancy', data=healthspend)\n",
    "plt.axvline(np.mean(healthspend['Spending']))\n",
    "plt.axhline(np.mean(healthspend['Expectancy']))"
   ]
  },
  {
   "cell_type": "markdown",
   "metadata": {},
   "source": [
    "To calculate the correlation and do a hypothesis test we can use the `.pearsonr` function in the stats library. This function returns the correlation, and then the p value from a hypothesis test where the null is that $r=0$."
   ]
  },
  {
   "cell_type": "code",
   "execution_count": 7,
   "metadata": {},
   "outputs": [
    {
     "data": {
      "text/plain": [
       "(0.42008562489192186, 0.010747636192180597)"
      ]
     },
     "execution_count": 7,
     "metadata": {},
     "output_type": "execute_result"
    }
   ],
   "source": [
    "stats.pearsonr(healthspend['Spending'], healthspend['Expectancy'])"
   ]
  },
  {
   "cell_type": "markdown",
   "metadata": {},
   "source": [
    "The correlation is postive at .42, and the p-value is $.011$. SO, this is statistically significant at the 95% level (but not the 99% level!)"
   ]
  },
  {
   "cell_type": "markdown",
   "metadata": {},
   "source": [
    "#### Using Python\n",
    "To caculate the correlation coefficient in Python, we use <code>stats.pearsonr(X,Y)</code>. This returns the r value, and the p-value representing the likelihood that the coinciding r value could have occurred by random. Below, we calculate the correlation coefficient for GDP and incumbent vote share:"
   ]
  },
  {
   "cell_type": "code",
   "execution_count": null,
   "metadata": {
    "scrolled": true
   },
   "outputs": [],
   "source": [
    "stats.pearsonr(fair_df.GROWTH, fair_df.VOTE)"
   ]
  },
  {
   "cell_type": "markdown",
   "metadata": {},
   "source": [
    "### [OPTIONAL] Interactive Visual\n",
    "Below, we visualize two distributions and calculate the difference of means statistic and p-value for the likelihood that the two distributions are truly different."
   ]
  },
  {
   "cell_type": "code",
   "execution_count": null,
   "metadata": {
    "scrolled": true
   },
   "outputs": [],
   "source": [
    "def cloud(covariance):\n",
    "    X,Y = list(zip(*np.random.multivariate_normal([5,5], [[1,covariance],[covariance,1]], size=1000).tolist()))\n",
    "    sns.scatterplot(X, Y)\n",
    "    print(\"correlation coefficient:\",stats.pearsonr(X,Y)[0])\n",
    "\n",
    "interact(cloud, covariance=(-1.0,1.0), continuous_update=False)"
   ]
  },
  {
   "cell_type": "code",
   "execution_count": null,
   "metadata": {},
   "outputs": [],
   "source": []
  },
  {
   "cell_type": "markdown",
   "metadata": {},
   "source": [
    "### [OPTIONAL] Tabular Analysis  \n",
    "In the following example, we will explore how to determine if there is a relationship between two categorical variables. Given a table of how many people voted for the 2012 presidential candidate, can we establish a connection between gender and political affiliation?"
   ]
  },
  {
   "cell_type": "markdown",
   "metadata": {},
   "source": [
    "Suppose we know that 49.2% of the sample voted for Obama and 50.8% voted for Romney, regardless of gender. The table represents the values we should expect given the total number of people. "
   ]
  },
  {
   "cell_type": "code",
   "execution_count": null,
   "metadata": {},
   "outputs": [],
   "source": [
    "expected_table = Table().with_columns(\n",
    "                'Politican',['Obama', 'Romney', 'Column Total'],\n",
    "                'Male', ['0.492*374=184', '0.507*374=190', 374],\n",
    "                'Female', ['0.492*437=215', '0.508*437=222', 437],\n",
    "                'Row Total', [399, 412, 811]\n",
    "                )\n",
    "expected_table"
   ]
  },
  {
   "cell_type": "markdown",
   "metadata": {},
   "source": [
    "If there is no relationship between gender and voting decisions, the number of voters in each cell should be proportional to the overall frequency of that politician and the overall number of people of that gender. Because we know the total number of men and women that voted, we set the expected value for each gender/politician cell to that politician's frequency (49.2% or 50.8%) multiplied by the total number of the gender (374 or 437).\n",
    "\n",
    "Now that we have the expected values, let's check the real results:"
   ]
  },
  {
   "cell_type": "code",
   "execution_count": null,
   "metadata": {},
   "outputs": [],
   "source": [
    "respond_table = Table().with_columns(\n",
    "                'Politican',['Obama', 'Romney', 'Column Total'],\n",
    "                'Male', [170, 204, 374],\n",
    "                'Female', [229, 208, 437],\n",
    "                'Row Total', ['49%', '51%', '100%']\n",
    "                )\n",
    "respond_table"
   ]
  },
  {
   "cell_type": "markdown",
   "metadata": {},
   "source": [
    "How does this compare to the expected results?"
   ]
  },
  {
   "cell_type": "code",
   "execution_count": null,
   "metadata": {},
   "outputs": [],
   "source": [
    "compare_table = Table().with_columns(\n",
    "                'Politican',['Obama', 'Romney'],\n",
    "                'Male', ['Expected: 184 Actual: 170', 'Expected: 190 Actual: 204'],\n",
    "                'Female', ['Expected: 215 Actual: 229', 'Expected: 222 Actual: 208']\n",
    "                )\n",
    "compare_table"
   ]
  },
  {
   "cell_type": "markdown",
   "metadata": {},
   "source": [
    "*Review*: What differences do you see between the expected and reported values?  \n",
    "\n",
    "\n",
    "Given the expected and actual results, we can compute the *chi square* statistic for this table. The chi square statistic is the measure used for the significance of categorical varibales (in this case voting record and gender). It is calculated by taking the the sum difference between the observed values and the expected values squared, divided by the expected value.\n",
    "$$ \\chi^2 = \\sum \\frac{(O-E)^2}{E}$$.\n",
    "\n",
    "For the election and gender case, this reduces to the following:\n",
    "$$\\frac{(170-184)^2}{184}+\\frac{(229-215)^2}{215}+\\frac{(204-190)^2}{190}+\\frac{(208-222)^2}{222}=3.892$$\n",
    "\n",
    "Using a textbook appendix (or online tables), we can determine that the difference achieves a p-value under .05, making the relationship between gender and voting behavior statistically significant for this sample."
   ]
  },
  {
   "cell_type": "markdown",
   "metadata": {},
   "source": [
    "#### Using Python\n",
    "To automatically run a chi-squared test in python, create lists of the expected values and of the observed values, and run the following:  \n",
    "<code> stats.chisquare(observed_array, f_exp=epected_array)  </code>\n",
    "\n",
    "This will return the $\\chi^2$ statistic and the associated p-value. Below, we perform the calculation for the gender/vote relationship.\n",
    "\n",
    "NOTE: This command returns a Power_divergenceResult. This holds the statistic and p-value for the data."
   ]
  },
  {
   "cell_type": "code",
   "execution_count": null,
   "metadata": {},
   "outputs": [],
   "source": [
    "#NOTE: The expected_table above uses strings, but we need numbers for the computation to be successful. \n",
    "#The new expected_table is the original expected_table's numeric values.\n",
    "\n",
    "expected_table = Table().with_columns(\n",
    "                'Politican',['Obama', 'Romney', 'Column Total'],\n",
    "                'Male', [184, 190, 374],\n",
    "                'Female', [215, 222, 437],\n",
    "                'Row Total', [399, 412, 811]\n",
    "                )\n",
    "expected = np.append(expected_table.column('Male')[:2], expected_table.column('Female')[:2])\n",
    "reported = np.append(respond_table.column('Male')[:2], respond_table.column('Female')[:2])\n",
    "stats.chisquare(reported, f_exp=expected, ddof=1)"
   ]
  },
  {
   "cell_type": "markdown",
   "metadata": {},
   "source": [
    "As we can see, we achieve a p-value of .0485, just below the .05 threshold. Therefore, the relationship is statistically significant."
   ]
  }
 ],
 "metadata": {
  "kernelspec": {
   "display_name": "Python 3",
   "language": "python",
   "name": "python3"
  },
  "language_info": {
   "codemirror_mode": {
    "name": "ipython",
    "version": 3
   },
   "file_extension": ".py",
   "mimetype": "text/x-python",
   "name": "python",
   "nbconvert_exporter": "python",
   "pygments_lexer": "ipython3",
   "version": "3.8.6"
  }
 },
 "nbformat": 4,
 "nbformat_minor": 2
}
