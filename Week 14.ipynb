{
 "cells": [
  {
   "cell_type": "markdown",
   "metadata": {},
   "source": [
    "## PS 3 - Week 14 - Multivariate Regression"
   ]
  },
  {
   "cell_type": "code",
   "execution_count": 1,
   "metadata": {},
   "outputs": [],
   "source": [
    "import pandas as pd\n",
    "import numpy as np\n",
    "import seaborn as sns\n",
    "import statsmodels.formula.api as smf\n",
    "import matplotlib.pyplot as plt\n",
    "import statsmodels.api as sm\n",
    "from scipy import stats"
   ]
  },
  {
   "cell_type": "markdown",
   "metadata": {},
   "source": [
    "We are going to return to the example of the Affordable Care Act, and look at the political implications of the bill. Recall that the Democrats lost 63 seats in the House in the 2010 midterms after the passing of the ACA. Let's explore if there is evidence that this was driven by votes on the bill.\n",
    "\n",
    "First, we are going to load up some data on these house elections. The data come from <a href=\"https://journals.sagepub.com/doi/abs/10.1177/1532673X11433768\">this paper</a>, and are stored in Stata format. We can read this in using the `read_stata` function from the pandas library."
   ]
  },
  {
   "cell_type": "code",
   "execution_count": 2,
   "metadata": {},
   "outputs": [
    {
     "data": {
      "text/html": [
       "<div>\n",
       "<style scoped>\n",
       "    .dataframe tbody tr th:only-of-type {\n",
       "        vertical-align: middle;\n",
       "    }\n",
       "\n",
       "    .dataframe tbody tr th {\n",
       "        vertical-align: top;\n",
       "    }\n",
       "\n",
       "    .dataframe thead th {\n",
       "        text-align: right;\n",
       "    }\n",
       "</style>\n",
       "<table border=\"1\" class=\"dataframe\">\n",
       "  <thead>\n",
       "    <tr style=\"text-align: right;\">\n",
       "      <th></th>\n",
       "      <th>dem</th>\n",
       "      <th>rep</th>\n",
       "      <th>rpt</th>\n",
       "      <th>state</th>\n",
       "      <th>cd</th>\n",
       "      <th>party</th>\n",
       "      <th>hcr_yes</th>\n",
       "      <th>obama</th>\n",
       "      <th>dem_n</th>\n",
       "      <th>hcr_obama</th>\n",
       "    </tr>\n",
       "  </thead>\n",
       "  <tbody>\n",
       "    <tr>\n",
       "      <th>0</th>\n",
       "      <td>31%</td>\n",
       "      <td>69%</td>\n",
       "      <td>100%</td>\n",
       "      <td>AK</td>\n",
       "      <td>1</td>\n",
       "      <td>R</td>\n",
       "      <td>0</td>\n",
       "      <td>38</td>\n",
       "      <td>31.0</td>\n",
       "      <td>0.0</td>\n",
       "    </tr>\n",
       "    <tr>\n",
       "      <th>1</th>\n",
       "      <td></td>\n",
       "      <td>83%</td>\n",
       "      <td>100%</td>\n",
       "      <td>AL</td>\n",
       "      <td>1</td>\n",
       "      <td>R</td>\n",
       "      <td>0</td>\n",
       "      <td>39</td>\n",
       "      <td>NaN</td>\n",
       "      <td>0.0</td>\n",
       "    </tr>\n",
       "    <tr>\n",
       "      <th>2</th>\n",
       "      <td>49%</td>\n",
       "      <td>51%</td>\n",
       "      <td>100%</td>\n",
       "      <td>AL</td>\n",
       "      <td>2</td>\n",
       "      <td>D</td>\n",
       "      <td>0</td>\n",
       "      <td>36</td>\n",
       "      <td>49.0</td>\n",
       "      <td>0.0</td>\n",
       "    </tr>\n",
       "    <tr>\n",
       "      <th>3</th>\n",
       "      <td>41%</td>\n",
       "      <td>59%</td>\n",
       "      <td>100%</td>\n",
       "      <td>AL</td>\n",
       "      <td>3</td>\n",
       "      <td>R</td>\n",
       "      <td>0</td>\n",
       "      <td>43</td>\n",
       "      <td>41.0</td>\n",
       "      <td>0.0</td>\n",
       "    </tr>\n",
       "    <tr>\n",
       "      <th>4</th>\n",
       "      <td></td>\n",
       "      <td>Unc.</td>\n",
       "      <td></td>\n",
       "      <td>AL</td>\n",
       "      <td>4</td>\n",
       "      <td>R</td>\n",
       "      <td>0</td>\n",
       "      <td>23</td>\n",
       "      <td>NaN</td>\n",
       "      <td>0.0</td>\n",
       "    </tr>\n",
       "    <tr>\n",
       "      <th>...</th>\n",
       "      <td>...</td>\n",
       "      <td>...</td>\n",
       "      <td>...</td>\n",
       "      <td>...</td>\n",
       "      <td>...</td>\n",
       "      <td>...</td>\n",
       "      <td>...</td>\n",
       "      <td>...</td>\n",
       "      <td>...</td>\n",
       "      <td>...</td>\n",
       "    </tr>\n",
       "    <tr>\n",
       "      <th>429</th>\n",
       "      <td>45%</td>\n",
       "      <td>55%</td>\n",
       "      <td>99%</td>\n",
       "      <td>WI</td>\n",
       "      <td>8</td>\n",
       "      <td>D</td>\n",
       "      <td>1</td>\n",
       "      <td>54</td>\n",
       "      <td>45.0</td>\n",
       "      <td>54.0</td>\n",
       "    </tr>\n",
       "    <tr>\n",
       "      <th>430</th>\n",
       "      <td>50%</td>\n",
       "      <td>50%</td>\n",
       "      <td>100%</td>\n",
       "      <td>WV</td>\n",
       "      <td>1</td>\n",
       "      <td>D</td>\n",
       "      <td>1</td>\n",
       "      <td>42</td>\n",
       "      <td>50.0</td>\n",
       "      <td>42.0</td>\n",
       "    </tr>\n",
       "    <tr>\n",
       "      <th>431</th>\n",
       "      <td>30%</td>\n",
       "      <td>68%</td>\n",
       "      <td>100%</td>\n",
       "      <td>WV</td>\n",
       "      <td>2</td>\n",
       "      <td>R</td>\n",
       "      <td>0</td>\n",
       "      <td>44</td>\n",
       "      <td>30.0</td>\n",
       "      <td>0.0</td>\n",
       "    </tr>\n",
       "    <tr>\n",
       "      <th>432</th>\n",
       "      <td>55%</td>\n",
       "      <td>45%</td>\n",
       "      <td>100%</td>\n",
       "      <td>WV</td>\n",
       "      <td>3</td>\n",
       "      <td>D</td>\n",
       "      <td>1</td>\n",
       "      <td>42</td>\n",
       "      <td>55.0</td>\n",
       "      <td>42.0</td>\n",
       "    </tr>\n",
       "    <tr>\n",
       "      <th>433</th>\n",
       "      <td>25%</td>\n",
       "      <td>71%</td>\n",
       "      <td>100</td>\n",
       "      <td>WY</td>\n",
       "      <td>1</td>\n",
       "      <td>R</td>\n",
       "      <td>0</td>\n",
       "      <td>33</td>\n",
       "      <td>25.0</td>\n",
       "      <td>0.0</td>\n",
       "    </tr>\n",
       "  </tbody>\n",
       "</table>\n",
       "<p>434 rows × 10 columns</p>\n",
       "</div>"
      ],
      "text/plain": [
       "     dem   rep   rpt state  cd party  hcr_yes  obama  dem_n  hcr_obama\n",
       "0    31%   69%  100%    AK   1     R        0     38   31.0        0.0\n",
       "1          83%  100%    AL   1     R        0     39    NaN        0.0\n",
       "2    49%   51%  100%    AL   2     D        0     36   49.0        0.0\n",
       "3    41%   59%  100%    AL   3     R        0     43   41.0        0.0\n",
       "4         Unc.          AL   4     R        0     23    NaN        0.0\n",
       "..   ...   ...   ...   ...  ..   ...      ...    ...    ...        ...\n",
       "429  45%   55%   99%    WI   8     D        1     54   45.0       54.0\n",
       "430  50%   50%  100%    WV   1     D        1     42   50.0       42.0\n",
       "431  30%   68%  100%    WV   2     R        0     44   30.0        0.0\n",
       "432  55%   45%  100%    WV   3     D        1     42   55.0       42.0\n",
       "433  25%   71%   100    WY   1     R        0     33   25.0        0.0\n",
       "\n",
       "[434 rows x 10 columns]"
      ]
     },
     "execution_count": 2,
     "metadata": {},
     "output_type": "execute_result"
    }
   ],
   "source": [
    "hcr_mid = pd.read_stata(\"hcr_midterm.dta\")\n",
    "hcr_mid"
   ]
  },
  {
   "cell_type": "markdown",
   "metadata": {},
   "source": [
    "How someone voted on the ACA is stored in the variable `hcr_yes`, and their whether they are a Republican or Democrat is in `party`. Let's look at the relationship between these two."
   ]
  },
  {
   "cell_type": "code",
   "execution_count": 3,
   "metadata": {},
   "outputs": [
    {
     "data": {
      "text/html": [
       "<div>\n",
       "<style scoped>\n",
       "    .dataframe tbody tr th:only-of-type {\n",
       "        vertical-align: middle;\n",
       "    }\n",
       "\n",
       "    .dataframe tbody tr th {\n",
       "        vertical-align: top;\n",
       "    }\n",
       "\n",
       "    .dataframe thead th {\n",
       "        text-align: right;\n",
       "    }\n",
       "</style>\n",
       "<table border=\"1\" class=\"dataframe\">\n",
       "  <thead>\n",
       "    <tr style=\"text-align: right;\">\n",
       "      <th>party</th>\n",
       "      <th>D</th>\n",
       "      <th>R</th>\n",
       "    </tr>\n",
       "    <tr>\n",
       "      <th>hcr_yes</th>\n",
       "      <th></th>\n",
       "      <th></th>\n",
       "    </tr>\n",
       "  </thead>\n",
       "  <tbody>\n",
       "    <tr>\n",
       "      <th>0</th>\n",
       "      <td>39</td>\n",
       "      <td>176</td>\n",
       "    </tr>\n",
       "    <tr>\n",
       "      <th>1</th>\n",
       "      <td>218</td>\n",
       "      <td>1</td>\n",
       "    </tr>\n",
       "  </tbody>\n",
       "</table>\n",
       "</div>"
      ],
      "text/plain": [
       "party      D    R\n",
       "hcr_yes          \n",
       "0         39  176\n",
       "1        218    1"
      ]
     },
     "execution_count": 3,
     "metadata": {},
     "output_type": "execute_result"
    }
   ],
   "source": [
    "pd.crosstab(hcr_mid[\"hcr_yes\"], hcr_mid[\"party\"])"
   ]
  },
  {
   "cell_type": "markdown",
   "metadata": {},
   "source": [
    "Only <a href=\"https://en.wikipedia.org/wiki/Joseph_Cao\">one Republican</a> voted for the bill, and 39 democrats voted against it. The main comparison we want to make is whether the Democrats who voted for the bill did better or worse in the 2010 midterms than those who voted against it.\n",
    "\n",
    "To do this, let's first subset the data to districts with democratic incumbents who ran in competitive elections."
   ]
  },
  {
   "cell_type": "code",
   "execution_count": 4,
   "metadata": {},
   "outputs": [
    {
     "data": {
      "text/html": [
       "<div>\n",
       "<style scoped>\n",
       "    .dataframe tbody tr th:only-of-type {\n",
       "        vertical-align: middle;\n",
       "    }\n",
       "\n",
       "    .dataframe tbody tr th {\n",
       "        vertical-align: top;\n",
       "    }\n",
       "\n",
       "    .dataframe thead th {\n",
       "        text-align: right;\n",
       "    }\n",
       "</style>\n",
       "<table border=\"1\" class=\"dataframe\">\n",
       "  <thead>\n",
       "    <tr style=\"text-align: right;\">\n",
       "      <th></th>\n",
       "      <th>dem</th>\n",
       "      <th>rep</th>\n",
       "      <th>rpt</th>\n",
       "      <th>state</th>\n",
       "      <th>cd</th>\n",
       "      <th>party</th>\n",
       "      <th>hcr_yes</th>\n",
       "      <th>obama</th>\n",
       "      <th>dem_n</th>\n",
       "      <th>hcr_obama</th>\n",
       "    </tr>\n",
       "  </thead>\n",
       "  <tbody>\n",
       "    <tr>\n",
       "      <th>2</th>\n",
       "      <td>49%</td>\n",
       "      <td>51%</td>\n",
       "      <td>100%</td>\n",
       "      <td>AL</td>\n",
       "      <td>2</td>\n",
       "      <td>D</td>\n",
       "      <td>0</td>\n",
       "      <td>36</td>\n",
       "      <td>49.0</td>\n",
       "      <td>0.0</td>\n",
       "    </tr>\n",
       "    <tr>\n",
       "      <th>5</th>\n",
       "      <td>42%</td>\n",
       "      <td>58%</td>\n",
       "      <td>100%</td>\n",
       "      <td>AL</td>\n",
       "      <td>5</td>\n",
       "      <td>D</td>\n",
       "      <td>0</td>\n",
       "      <td>38</td>\n",
       "      <td>42.0</td>\n",
       "      <td>0.0</td>\n",
       "    </tr>\n",
       "    <tr>\n",
       "      <th>7</th>\n",
       "      <td>72%</td>\n",
       "      <td>28%</td>\n",
       "      <td>99%</td>\n",
       "      <td>AL</td>\n",
       "      <td>7</td>\n",
       "      <td>D</td>\n",
       "      <td>0</td>\n",
       "      <td>72</td>\n",
       "      <td>72.0</td>\n",
       "      <td>0.0</td>\n",
       "    </tr>\n",
       "    <tr>\n",
       "      <th>8</th>\n",
       "      <td>43%</td>\n",
       "      <td>52%</td>\n",
       "      <td>99%</td>\n",
       "      <td>AR</td>\n",
       "      <td>1</td>\n",
       "      <td>D</td>\n",
       "      <td>1</td>\n",
       "      <td>38</td>\n",
       "      <td>43.0</td>\n",
       "      <td>38.0</td>\n",
       "    </tr>\n",
       "    <tr>\n",
       "      <th>9</th>\n",
       "      <td>38%</td>\n",
       "      <td>58%</td>\n",
       "      <td>99%</td>\n",
       "      <td>AR</td>\n",
       "      <td>2</td>\n",
       "      <td>D</td>\n",
       "      <td>1</td>\n",
       "      <td>44</td>\n",
       "      <td>38.0</td>\n",
       "      <td>44.0</td>\n",
       "    </tr>\n",
       "    <tr>\n",
       "      <th>...</th>\n",
       "      <td>...</td>\n",
       "      <td>...</td>\n",
       "      <td>...</td>\n",
       "      <td>...</td>\n",
       "      <td>...</td>\n",
       "      <td>...</td>\n",
       "      <td>...</td>\n",
       "      <td>...</td>\n",
       "      <td>...</td>\n",
       "      <td>...</td>\n",
       "    </tr>\n",
       "    <tr>\n",
       "      <th>425</th>\n",
       "      <td>69%</td>\n",
       "      <td>30%</td>\n",
       "      <td>100%</td>\n",
       "      <td>WI</td>\n",
       "      <td>4</td>\n",
       "      <td>D</td>\n",
       "      <td>1</td>\n",
       "      <td>75</td>\n",
       "      <td>69.0</td>\n",
       "      <td>75.0</td>\n",
       "    </tr>\n",
       "    <tr>\n",
       "      <th>428</th>\n",
       "      <td>44%</td>\n",
       "      <td>52%</td>\n",
       "      <td>100%</td>\n",
       "      <td>WI</td>\n",
       "      <td>7</td>\n",
       "      <td>D</td>\n",
       "      <td>1</td>\n",
       "      <td>56</td>\n",
       "      <td>44.0</td>\n",
       "      <td>56.0</td>\n",
       "    </tr>\n",
       "    <tr>\n",
       "      <th>429</th>\n",
       "      <td>45%</td>\n",
       "      <td>55%</td>\n",
       "      <td>99%</td>\n",
       "      <td>WI</td>\n",
       "      <td>8</td>\n",
       "      <td>D</td>\n",
       "      <td>1</td>\n",
       "      <td>54</td>\n",
       "      <td>45.0</td>\n",
       "      <td>54.0</td>\n",
       "    </tr>\n",
       "    <tr>\n",
       "      <th>430</th>\n",
       "      <td>50%</td>\n",
       "      <td>50%</td>\n",
       "      <td>100%</td>\n",
       "      <td>WV</td>\n",
       "      <td>1</td>\n",
       "      <td>D</td>\n",
       "      <td>1</td>\n",
       "      <td>42</td>\n",
       "      <td>50.0</td>\n",
       "      <td>42.0</td>\n",
       "    </tr>\n",
       "    <tr>\n",
       "      <th>432</th>\n",
       "      <td>55%</td>\n",
       "      <td>45%</td>\n",
       "      <td>100%</td>\n",
       "      <td>WV</td>\n",
       "      <td>3</td>\n",
       "      <td>D</td>\n",
       "      <td>1</td>\n",
       "      <td>42</td>\n",
       "      <td>55.0</td>\n",
       "      <td>42.0</td>\n",
       "    </tr>\n",
       "  </tbody>\n",
       "</table>\n",
       "<p>255 rows × 10 columns</p>\n",
       "</div>"
      ],
      "text/plain": [
       "     dem  rep   rpt state  cd party  hcr_yes  obama  dem_n  hcr_obama\n",
       "2    49%  51%  100%    AL   2     D        0     36   49.0        0.0\n",
       "5    42%  58%  100%    AL   5     D        0     38   42.0        0.0\n",
       "7    72%  28%   99%    AL   7     D        0     72   72.0        0.0\n",
       "8    43%  52%   99%    AR   1     D        1     38   43.0       38.0\n",
       "9    38%  58%   99%    AR   2     D        1     44   38.0       44.0\n",
       "..   ...  ...   ...   ...  ..   ...      ...    ...    ...        ...\n",
       "425  69%  30%  100%    WI   4     D        1     75   69.0       75.0\n",
       "428  44%  52%  100%    WI   7     D        1     56   44.0       56.0\n",
       "429  45%  55%   99%    WI   8     D        1     54   45.0       54.0\n",
       "430  50%  50%  100%    WV   1     D        1     42   50.0       42.0\n",
       "432  55%  45%  100%    WV   3     D        1     42   55.0       42.0\n",
       "\n",
       "[255 rows x 10 columns]"
      ]
     },
     "execution_count": 4,
     "metadata": {},
     "output_type": "execute_result"
    }
   ],
   "source": [
    "hcr_mid = hcr_mid[(hcr_mid[\"dem_n\"] > 0) & (hcr_mid[\"party\"]==\"D\")]\n",
    "hcr_mid"
   ]
  },
  {
   "cell_type": "markdown",
   "metadata": {},
   "source": [
    "The `dem_n` variable is the democratic vote share in the 2010 midterms. Let's look at the distribution:"
   ]
  },
  {
   "cell_type": "code",
   "execution_count": 5,
   "metadata": {},
   "outputs": [
    {
     "data": {
      "text/plain": [
       "58.164707"
      ]
     },
     "execution_count": 5,
     "metadata": {},
     "output_type": "execute_result"
    }
   ],
   "source": [
    "np.mean(hcr_mid[\"dem_n\"])"
   ]
  },
  {
   "cell_type": "code",
   "execution_count": 6,
   "metadata": {},
   "outputs": [
    {
     "data": {
      "text/plain": [
       "<matplotlib.lines.Line2D at 0x7fb7c44c9fd0>"
      ]
     },
     "execution_count": 6,
     "metadata": {},
     "output_type": "execute_result"
    },
    {
     "data": {
      "image/png": "[encoded data removed]",
      "text/plain": [
       "<Figure size 432x288 with 1 Axes>"
      ]
     },
     "metadata": {
      "needs_background": "light"
     },
     "output_type": "display_data"
    }
   ],
   "source": [
    "sns.distplot(hcr_mid[\"dem_n\"])\n",
    "plt.axvline(50)"
   ]
  },
  {
   "cell_type": "markdown",
   "metadata": {},
   "source": [
    "The average D running for re-election recieved almos 60% of the vote, but quite a few lost re-election.\n",
    "\n",
    "Now let's compare the performance of those who voted for and against the bill. First, let's create separate data files for the Y and N voters."
   ]
  },
  {
   "cell_type": "code",
   "execution_count": 7,
   "metadata": {},
   "outputs": [],
   "source": [
    "hcr_mid_y = hcr_mid[hcr_mid[\"hcr_yes\"] == 1]\n",
    "hcr_mid_n = hcr_mid[hcr_mid[\"hcr_yes\"] == 0]"
   ]
  },
  {
   "cell_type": "markdown",
   "metadata": {},
   "source": [
    "And take the averages"
   ]
  },
  {
   "cell_type": "code",
   "execution_count": 8,
   "metadata": {},
   "outputs": [
    {
     "data": {
      "text/plain": [
       "60.203705"
      ]
     },
     "execution_count": 8,
     "metadata": {},
     "output_type": "execute_result"
    }
   ],
   "source": [
    "mean_y = np.mean(hcr_mid_y[\"dem_n\"])\n",
    "mean_y"
   ]
  },
  {
   "cell_type": "code",
   "execution_count": 9,
   "metadata": {},
   "outputs": [
    {
     "data": {
      "text/plain": [
       "46.871796"
      ]
     },
     "execution_count": 9,
     "metadata": {},
     "output_type": "execute_result"
    }
   ],
   "source": [
    "mean_n = np.mean(hcr_mid_n[\"dem_n\"])\n",
    "mean_n"
   ]
  },
  {
   "cell_type": "markdown",
   "metadata": {},
   "source": [
    "Here is the raw difference of means:"
   ]
  },
  {
   "cell_type": "code",
   "execution_count": 10,
   "metadata": {},
   "outputs": [
    {
     "data": {
      "text/plain": [
       "13.331909"
      ]
     },
     "execution_count": 10,
     "metadata": {},
     "output_type": "execute_result"
    }
   ],
   "source": [
    "dom = mean_y - mean_n\n",
    "dom"
   ]
  },
  {
   "cell_type": "markdown",
   "metadata": {},
   "source": [
    "This indicates those who voted Y did about 13% better, which i a huge difference! Let's do a t-test to see if this is statistically significant"
   ]
  },
  {
   "cell_type": "code",
   "execution_count": 11,
   "metadata": {},
   "outputs": [
    {
     "data": {
      "text/plain": [
       "Ttest_indResult(statistic=6.402170869398653, pvalue=7.394894688619953e-10)"
      ]
     },
     "execution_count": 11,
     "metadata": {},
     "output_type": "execute_result"
    }
   ],
   "source": [
    "t_model = stats.ttest_ind(hcr_mid_y[\"dem_n\"], hcr_mid_n[\"dem_n\"])\n",
    "t_model"
   ]
  },
  {
   "cell_type": "markdown",
   "metadata": {},
   "source": [
    "With a t-statistic above 6, this is easily statistically significant at the p < .01 level.\n",
    "\n",
    "As discussed in the lecture, we can also test this with a bivariate regression where our IV is the vote and the DV is the vote share."
   ]
  },
  {
   "cell_type": "code",
   "execution_count": 12,
   "metadata": {},
   "outputs": [
    {
     "data": {
      "text/plain": [
       "LinregressResult(slope=13.3319088319088, intercept=46.87179617327985, rvalue=0.3733899262686957, pvalue=7.394906089046733e-10, stderr=2.0824044958136767)"
      ]
     },
     "execution_count": 12,
     "metadata": {},
     "output_type": "execute_result"
    }
   ],
   "source": [
    "ols_model = stats.linregress(hcr_mid[\"hcr_yes\"], hcr_mid[\"dem_n\"])\n",
    "ols_model"
   ]
  },
  {
   "cell_type": "markdown",
   "metadata": {},
   "source": [
    "The \"slope\" is equal to the difference of means, and the intercept is the mean of those who voted N. (Why?) Note we also get the same p value as the difference of means test. We can also check the t value is the same by dividing the slope by the standard error:"
   ]
  },
  {
   "cell_type": "code",
   "execution_count": 13,
   "metadata": {},
   "outputs": [
    {
     "data": {
      "text/plain": [
       "6.402170595919456"
      ]
     },
     "execution_count": 13,
     "metadata": {},
     "output_type": "execute_result"
    }
   ],
   "source": [
    "ols_model[0]/ols_model[4]"
   ]
  },
  {
   "cell_type": "markdown",
   "metadata": {},
   "source": [
    "Now let's think about some reasons why this relatinship might not be causal. A major confounding variable is that those who voted Yes likely represent more liberal districts, making their re-election easier. To check this, we will look also bring Obama's 2008 vote share into our analysis.\n",
    "\n",
    "First, let's look at the relationship between Obama's 2008 vote share and the House members 2010 vote share."
   ]
  },
  {
   "cell_type": "code",
   "execution_count": 14,
   "metadata": {},
   "outputs": [
    {
     "data": {
      "text/plain": [
       "<matplotlib.axes._subplots.AxesSubplot at 0x7fb7c1f73e20>"
      ]
     },
     "execution_count": 14,
     "metadata": {},
     "output_type": "execute_result"
    },
    {
     "data": {
      "image/png": "[encoded data removed]",
      "text/plain": [
       "<Figure size 432x288 with 1 Axes>"
      ]
     },
     "metadata": {
      "needs_background": "light"
     },
     "output_type": "display_data"
    }
   ],
   "source": [
    "sns.scatterplot(x='obama', y='dem_n', data=hcr_mid)"
   ]
  },
  {
   "cell_type": "markdown",
   "metadata": {},
   "source": [
    "As we can see, there is a strong positive relationship. This shouldn't surprise us: most people vote for the same party consistently.\n",
    "\n",
    "Now let's do a version of the same plot where we plot the Y votes with green dots and the N votes with orange dots."
   ]
  },
  {
   "cell_type": "code",
   "execution_count": 15,
   "metadata": {},
   "outputs": [
    {
     "data": {
      "text/plain": [
       "<matplotlib.axes._subplots.AxesSubplot at 0x7fb7c1eedb80>"
      ]
     },
     "execution_count": 15,
     "metadata": {},
     "output_type": "execute_result"
    },
    {
     "data": {
      "image/png": "[encoded data removed]",
      "text/plain": [
       "<Figure size 432x288 with 1 Axes>"
      ]
     },
     "metadata": {
      "needs_background": "light"
     },
     "output_type": "display_data"
    }
   ],
   "source": [
    "sns.scatterplot(x='obama', y='dem_n', data=hcr_mid, color=\"green\")\n",
    "sns.scatterplot(x='obama', y='dem_n', data=hcr_mid_n, color=\"orange\")"
   ]
  },
  {
   "cell_type": "markdown",
   "metadata": {},
   "source": [
    "Note the orange dots are to the left, meaning those who voted N where generally in more moderate/conservative districts.\n",
    "\n",
    "We can visualize the difference in average vote share by adding horizontal lines:"
   ]
  },
  {
   "cell_type": "code",
   "execution_count": 16,
   "metadata": {},
   "outputs": [
    {
     "data": {
      "text/plain": [
       "<matplotlib.lines.Line2D at 0x7fb7c1e54c70>"
      ]
     },
     "execution_count": 16,
     "metadata": {},
     "output_type": "execute_result"
    },
    {
     "data": {
      "image/png": "[encoded data removed]",
      "text/plain": [
       "<Figure size 432x288 with 1 Axes>"
      ]
     },
     "metadata": {
      "needs_background": "light"
     },
     "output_type": "display_data"
    }
   ],
   "source": [
    "sns.scatterplot(x='obama', y='dem_n', data=hcr_mid_y, color=\"green\")\n",
    "sns.scatterplot(x='obama', y='dem_n', data=hcr_mid_n, color=\"orange\")\n",
    "plt.axhline(mean_y, color='green')\n",
    "plt.axhline(mean_n, color='orange')"
   ]
  },
  {
   "cell_type": "markdown",
   "metadata": {},
   "source": [
    "And we can look at the relationship between the vote and how liberal the district was by plotting the average Obama vote share among the Y and N districts:"
   ]
  },
  {
   "cell_type": "code",
   "execution_count": 37,
   "metadata": {},
   "outputs": [
    {
     "data": {
      "text/plain": [
       "<matplotlib.lines.Line2D at 0x7fb7c17e5820>"
      ]
     },
     "execution_count": 37,
     "metadata": {},
     "output_type": "execute_result"
    },
    {
     "data": {
      "image/png": "[encoded data removed]",
      "text/plain": [
       "<Figure size 432x288 with 1 Axes>"
      ]
     },
     "metadata": {
      "needs_background": "light"
     },
     "output_type": "display_data"
    }
   ],
   "source": [
    "sns.scatterplot(x='obama', y='dem_n', data=hcr_mid_y, color=\"green\")\n",
    "sns.scatterplot(x='obama', y='dem_n', data=hcr_mid_n, color=\"orange\")\n",
    "plt.axvline(np.mean(hcr_mid_y[\"obama\"]), color='green')\n",
    "plt.axvline(np.mean(hcr_mid_n[\"obama\"]), color='orange')"
   ]
  },
  {
   "cell_type": "markdown",
   "metadata": {},
   "source": [
    "Combining what we know so far: districts where members voted Y did much better in the election, but these were also just more liberal (\"safe\") disticts. \n",
    "\n",
    "Now lets use mulitvariate regression to \"control\" for Obama vote share.\n",
    "\n",
    "First, let's re-do our bivariate analysis using the `OLS` function from the statsmodels.formula.api library. "
   ]
  },
  {
   "cell_type": "code",
   "execution_count": 39,
   "metadata": {},
   "outputs": [
    {
     "data": {
      "text/html": [
       "<table class=\"simpletable\">\n",
       "<caption>OLS Regression Results</caption>\n",
       "<tr>\n",
       "  <th>Dep. Variable:</th>          <td>dem_n</td>      <th>  R-squared:         </th> <td>   0.139</td>\n",
       "</tr>\n",
       "<tr>\n",
       "  <th>Model:</th>                   <td>OLS</td>       <th>  Adj. R-squared:    </th> <td>   0.136</td>\n",
       "</tr>\n",
       "<tr>\n",
       "  <th>Method:</th>             <td>Least Squares</td>  <th>  F-statistic:       </th> <td>   40.99</td>\n",
       "</tr>\n",
       "<tr>\n",
       "  <th>Date:</th>             <td>Mon, 16 Nov 2020</td> <th>  Prob (F-statistic):</th> <td>7.39e-10</td>\n",
       "</tr>\n",
       "<tr>\n",
       "  <th>Time:</th>                 <td>15:40:27</td>     <th>  Log-Likelihood:    </th> <td> -993.81</td>\n",
       "</tr>\n",
       "<tr>\n",
       "  <th>No. Observations:</th>      <td>   255</td>      <th>  AIC:               </th> <td>   1992.</td>\n",
       "</tr>\n",
       "<tr>\n",
       "  <th>Df Residuals:</th>          <td>   253</td>      <th>  BIC:               </th> <td>   1999.</td>\n",
       "</tr>\n",
       "<tr>\n",
       "  <th>Df Model:</th>              <td>     1</td>      <th>                     </th>     <td> </td>   \n",
       "</tr>\n",
       "<tr>\n",
       "  <th>Covariance Type:</th>      <td>nonrobust</td>    <th>                     </th>     <td> </td>   \n",
       "</tr>\n",
       "</table>\n",
       "<table class=\"simpletable\">\n",
       "<tr>\n",
       "      <td></td>         <th>coef</th>     <th>std err</th>      <th>t</th>      <th>P>|t|</th>  <th>[0.025</th>    <th>0.975]</th>  \n",
       "</tr>\n",
       "<tr>\n",
       "  <th>Intercept</th> <td>   46.8718</td> <td>    1.917</td> <td>   24.456</td> <td> 0.000</td> <td>   43.097</td> <td>   50.646</td>\n",
       "</tr>\n",
       "<tr>\n",
       "  <th>hcr_yes</th>   <td>   13.3319</td> <td>    2.082</td> <td>    6.402</td> <td> 0.000</td> <td>    9.231</td> <td>   17.433</td>\n",
       "</tr>\n",
       "</table>\n",
       "<table class=\"simpletable\">\n",
       "<tr>\n",
       "  <th>Omnibus:</th>       <td>10.265</td> <th>  Durbin-Watson:     </th> <td>   1.412</td>\n",
       "</tr>\n",
       "<tr>\n",
       "  <th>Prob(Omnibus):</th> <td> 0.006</td> <th>  Jarque-Bera (JB):  </th> <td>  10.898</td>\n",
       "</tr>\n",
       "<tr>\n",
       "  <th>Skew:</th>          <td> 0.498</td> <th>  Prob(JB):          </th> <td> 0.00430</td>\n",
       "</tr>\n",
       "<tr>\n",
       "  <th>Kurtosis:</th>      <td> 2.817</td> <th>  Cond. No.          </th> <td>    4.93</td>\n",
       "</tr>\n",
       "</table><br/><br/>Warnings:<br/>[1] Standard Errors assume that the covariance matrix of the errors is correctly specified."
      ],
      "text/plain": [
       "<class 'statsmodels.iolib.summary.Summary'>\n",
       "\"\"\"\n",
       "                            OLS Regression Results                            \n",
       "==============================================================================\n",
       "Dep. Variable:                  dem_n   R-squared:                       0.139\n",
       "Model:                            OLS   Adj. R-squared:                  0.136\n",
       "Method:                 Least Squares   F-statistic:                     40.99\n",
       "Date:                Mon, 16 Nov 2020   Prob (F-statistic):           7.39e-10\n",
       "Time:                        15:40:27   Log-Likelihood:                -993.81\n",
       "No. Observations:                 255   AIC:                             1992.\n",
       "Df Residuals:                     253   BIC:                             1999.\n",
       "Df Model:                           1                                         \n",
       "Covariance Type:            nonrobust                                         \n",
       "==============================================================================\n",
       "                 coef    std err          t      P>|t|      [0.025      0.975]\n",
       "------------------------------------------------------------------------------\n",
       "Intercept     46.8718      1.917     24.456      0.000      43.097      50.646\n",
       "hcr_yes       13.3319      2.082      6.402      0.000       9.231      17.433\n",
       "==============================================================================\n",
       "Omnibus:                       10.265   Durbin-Watson:                   1.412\n",
       "Prob(Omnibus):                  0.006   Jarque-Bera (JB):               10.898\n",
       "Skew:                           0.498   Prob(JB):                      0.00430\n",
       "Kurtosis:                       2.817   Cond. No.                         4.93\n",
       "==============================================================================\n",
       "\n",
       "Warnings:\n",
       "[1] Standard Errors assume that the covariance matrix of the errors is correctly specified.\n",
       "\"\"\""
      ]
     },
     "execution_count": 39,
     "metadata": {},
     "output_type": "execute_result"
    }
   ],
   "source": [
    "ols_biv = smf.ols('dem_n ~ hcr_yes', data=hcr_mid).fit()\n",
    "ols_biv.summary()"
   ]
  },
  {
   "cell_type": "markdown",
   "metadata": {},
   "source": [
    "Now let's do the same, adding the Obama vote share"
   ]
  },
  {
   "cell_type": "code",
   "execution_count": 40,
   "metadata": {},
   "outputs": [
    {
     "data": {
      "text/html": [
       "<table class=\"simpletable\">\n",
       "<caption>OLS Regression Results</caption>\n",
       "<tr>\n",
       "  <th>Dep. Variable:</th>          <td>dem_n</td>      <th>  R-squared:         </th> <td>   0.839</td> \n",
       "</tr>\n",
       "<tr>\n",
       "  <th>Model:</th>                   <td>OLS</td>       <th>  Adj. R-squared:    </th> <td>   0.838</td> \n",
       "</tr>\n",
       "<tr>\n",
       "  <th>Method:</th>             <td>Least Squares</td>  <th>  F-statistic:       </th> <td>   657.5</td> \n",
       "</tr>\n",
       "<tr>\n",
       "  <th>Date:</th>             <td>Mon, 16 Nov 2020</td> <th>  Prob (F-statistic):</th> <td>9.98e-101</td>\n",
       "</tr>\n",
       "<tr>\n",
       "  <th>Time:</th>                 <td>15:40:29</td>     <th>  Log-Likelihood:    </th> <td> -779.96</td> \n",
       "</tr>\n",
       "<tr>\n",
       "  <th>No. Observations:</th>      <td>   255</td>      <th>  AIC:               </th> <td>   1566.</td> \n",
       "</tr>\n",
       "<tr>\n",
       "  <th>Df Residuals:</th>          <td>   252</td>      <th>  BIC:               </th> <td>   1577.</td> \n",
       "</tr>\n",
       "<tr>\n",
       "  <th>Df Model:</th>              <td>     2</td>      <th>                     </th>     <td> </td>    \n",
       "</tr>\n",
       "<tr>\n",
       "  <th>Covariance Type:</th>      <td>nonrobust</td>    <th>                     </th>     <td> </td>    \n",
       "</tr>\n",
       "</table>\n",
       "<table class=\"simpletable\">\n",
       "<tr>\n",
       "      <td></td>         <th>coef</th>     <th>std err</th>      <th>t</th>      <th>P>|t|</th>  <th>[0.025</th>    <th>0.975]</th>  \n",
       "</tr>\n",
       "<tr>\n",
       "  <th>Intercept</th> <td>    4.4892</td> <td>    1.526</td> <td>    2.943</td> <td> 0.004</td> <td>    1.485</td> <td>    7.494</td>\n",
       "</tr>\n",
       "<tr>\n",
       "  <th>hcr_yes</th>   <td>   -5.3155</td> <td>    1.063</td> <td>   -4.999</td> <td> 0.000</td> <td>   -7.410</td> <td>   -3.221</td>\n",
       "</tr>\n",
       "<tr>\n",
       "  <th>obama</th>     <td>    0.9510</td> <td>    0.029</td> <td>   33.113</td> <td> 0.000</td> <td>    0.894</td> <td>    1.008</td>\n",
       "</tr>\n",
       "</table>\n",
       "<table class=\"simpletable\">\n",
       "<tr>\n",
       "  <th>Omnibus:</th>       <td> 9.991</td> <th>  Durbin-Watson:     </th> <td>   1.936</td>\n",
       "</tr>\n",
       "<tr>\n",
       "  <th>Prob(Omnibus):</th> <td> 0.007</td> <th>  Jarque-Bera (JB):  </th> <td>  12.235</td>\n",
       "</tr>\n",
       "<tr>\n",
       "  <th>Skew:</th>          <td> 0.331</td> <th>  Prob(JB):          </th> <td> 0.00220</td>\n",
       "</tr>\n",
       "<tr>\n",
       "  <th>Kurtosis:</th>      <td> 3.844</td> <th>  Cond. No.          </th> <td>    294.</td>\n",
       "</tr>\n",
       "</table><br/><br/>Warnings:<br/>[1] Standard Errors assume that the covariance matrix of the errors is correctly specified."
      ],
      "text/plain": [
       "<class 'statsmodels.iolib.summary.Summary'>\n",
       "\"\"\"\n",
       "                            OLS Regression Results                            \n",
       "==============================================================================\n",
       "Dep. Variable:                  dem_n   R-squared:                       0.839\n",
       "Model:                            OLS   Adj. R-squared:                  0.838\n",
       "Method:                 Least Squares   F-statistic:                     657.5\n",
       "Date:                Mon, 16 Nov 2020   Prob (F-statistic):          9.98e-101\n",
       "Time:                        15:40:29   Log-Likelihood:                -779.96\n",
       "No. Observations:                 255   AIC:                             1566.\n",
       "Df Residuals:                     252   BIC:                             1577.\n",
       "Df Model:                           2                                         \n",
       "Covariance Type:            nonrobust                                         \n",
       "==============================================================================\n",
       "                 coef    std err          t      P>|t|      [0.025      0.975]\n",
       "------------------------------------------------------------------------------\n",
       "Intercept      4.4892      1.526      2.943      0.004       1.485       7.494\n",
       "hcr_yes       -5.3155      1.063     -4.999      0.000      -7.410      -3.221\n",
       "obama          0.9510      0.029     33.113      0.000       0.894       1.008\n",
       "==============================================================================\n",
       "Omnibus:                        9.991   Durbin-Watson:                   1.936\n",
       "Prob(Omnibus):                  0.007   Jarque-Bera (JB):               12.235\n",
       "Skew:                           0.331   Prob(JB):                      0.00220\n",
       "Kurtosis:                       3.844   Cond. No.                         294.\n",
       "==============================================================================\n",
       "\n",
       "Warnings:\n",
       "[1] Standard Errors assume that the covariance matrix of the errors is correctly specified.\n",
       "\"\"\""
      ]
     },
     "execution_count": 40,
     "metadata": {},
     "output_type": "execute_result"
    }
   ],
   "source": [
    "ols_biv = smf.ols('dem_n ~ hcr_yes + obama', data=hcr_mid).fit()\n",
    "ols_biv.summary()"
   ]
  },
  {
   "cell_type": "markdown",
   "metadata": {},
   "source": [
    "Now there is a negative coefficient on `hcr_yes`!\n",
    "\n",
    "To make a plot, we can pull out the coefficients by adding a `.params` after the name of our fitted model."
   ]
  },
  {
   "cell_type": "code",
   "execution_count": 21,
   "metadata": {},
   "outputs": [
    {
     "data": {
      "text/plain": [
       "Intercept    4.489197\n",
       "hcr_yes     -5.315472\n",
       "obama        0.951048\n",
       "dtype: float64"
      ]
     },
     "execution_count": 21,
     "metadata": {},
     "output_type": "execute_result"
    }
   ],
   "source": [
    "ols_biv.params"
   ]
  },
  {
   "cell_type": "markdown",
   "metadata": {},
   "source": [
    "Let's overlay the predicted value for Y and N votes as a function of Obama vote share."
   ]
  },
  {
   "cell_type": "code",
   "execution_count": 36,
   "metadata": {},
   "outputs": [
    {
     "data": {
      "text/plain": [
       "[<matplotlib.lines.Line2D at 0x7fb7c1a5c4c0>]"
      ]
     },
     "execution_count": 36,
     "metadata": {},
     "output_type": "execute_result"
    },
    {
     "data": {
      "image/png": "[encoded data removed]",
      "text/plain": [
       "<Figure size 432x288 with 1 Axes>"
      ]
     },
     "metadata": {
      "needs_background": "light"
     },
     "output_type": "display_data"
    }
   ],
   "source": [
    "sns.scatterplot(x='obama', y='dem_n', data=hcr_mid_y, color=\"green\")\n",
    "sns.scatterplot(x='obama', y='dem_n', data=hcr_mid_n, color=\"orange\")\n",
    "xrange = np.arange(30, 100)\n",
    "plt.plot(xrange, ols_biv.params[0] + xrange*ols_biv.params[2], color=\"orange\")\n",
    "plt.plot(xrange, ols_biv.params[0] + ols_biv.params[1] + xrange*ols_biv.params[2], color=\"green\")"
   ]
  },
  {
   "cell_type": "markdown",
   "metadata": {},
   "source": [
    "The takeaway is that the main drive of how well D's running did in 2010 is how well Obama did in 2008. The fact that those who voted for the ACA did better overall is hence misleading!"
   ]
  },
  {
   "cell_type": "code",
   "execution_count": null,
   "metadata": {},
   "outputs": [],
   "source": []
  }
 ],
 "metadata": {
  "kernelspec": {
   "display_name": "Python 3",
   "language": "python",
   "name": "python3"
  },
  "language_info": {
   "codemirror_mode": {
    "name": "ipython",
    "version": 3
   },
   "file_extension": ".py",
   "mimetype": "text/x-python",
   "name": "python",
   "nbconvert_exporter": "python",
   "pygments_lexer": "ipython3",
   "version": "3.8.6"
  }
 },
 "nbformat": 4,
 "nbformat_minor": 4
}
