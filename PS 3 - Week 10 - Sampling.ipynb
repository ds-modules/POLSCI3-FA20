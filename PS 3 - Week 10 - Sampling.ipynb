{
 "cells": [
  {
   "cell_type": "markdown",
   "metadata": {},
   "source": [
    "## PS 3 - Fall 2020 - Week 10: Sampling\n",
    "\n",
    "This week we will explore the magic of sampling. Software like Python is partiuclarly powerful for asking questions like \"if we repeatedly sampled from this population, what would the typical result be?\"\n",
    "\n",
    "We will use one of the data sets which some of you will work with for the final project. The data are on the congressional district level, and contain demographic information, past electoral results, and the results of the 2018 midterm elections (we will try to add 2020 results too!)\n",
    "\n",
    "Let's start by importing some libraries and the data."
   ]
  },
  {
   "cell_type": "code",
   "execution_count": null,
   "metadata": {},
   "outputs": [],
   "source": [
    "import seaborn as sns\n",
    "import pandas as pd\n",
    "import matplotlib.pyplot as plt\n",
    "import numpy as np\n",
    "plt.style.use('seaborn-whitegrid')\n",
    "# Loading in the data\n",
    "mid = pd.read_csv('cleaned_midterms.csv')"
   ]
  },
  {
   "cell_type": "code",
   "execution_count": null,
   "metadata": {},
   "outputs": [],
   "source": [
    "mid"
   ]
  },
  {
   "cell_type": "markdown",
   "metadata": {},
   "source": [
    "One demographic variable of interest is the percentage of residents in the district who are Black."
   ]
  },
  {
   "cell_type": "code",
   "execution_count": null,
   "metadata": {},
   "outputs": [],
   "source": [
    "mid.hist(\"Black\")"
   ]
  },
  {
   "cell_type": "markdown",
   "metadata": {},
   "source": [
    "Many districts have a few if any Black residents, and the numbers generally taper off at higher percentages, though there are a few which are majority Black. \n",
    "\n",
    "A similar function which will also plot a nice curve for us is the \"distplot\" from the Seaborn library:"
   ]
  },
  {
   "cell_type": "code",
   "execution_count": null,
   "metadata": {},
   "outputs": [],
   "source": [
    "sns.distplot(mid[\"Black\"])"
   ]
  },
  {
   "cell_type": "markdown",
   "metadata": {},
   "source": [
    "We can compute the mean and median:"
   ]
  },
  {
   "cell_type": "code",
   "execution_count": null,
   "metadata": {},
   "outputs": [],
   "source": [
    "np.mean(mid[\"Black\"])"
   ]
  },
  {
   "cell_type": "code",
   "execution_count": null,
   "metadata": {},
   "outputs": [],
   "source": [
    "np.median(mid[\"Black\"])"
   ]
  },
  {
   "cell_type": "markdown",
   "metadata": {},
   "source": [
    "The mean is fairly higher than the median, since the \"extreme\" observatiosn are all high percentages, which pull the mean upwards."
   ]
  },
  {
   "cell_type": "markdown",
   "metadata": {},
   "source": [
    "For what follows, congressional districts will be the \"population\" we are thinking about. Suppose for some reason we could only get data on a sample of congressional districts. (This isn't too realistic in the US, but in other places without good census data it might be costly to collect demographic data.)\n",
    "\n",
    "The question we will eventually want to ask is \"if we took a sample of the congressional districts and took the mean, what would our best guess and uncertainty be about the mean of the population\"?\n",
    "\n",
    "We can do this with the `.sample()` function, where we put the number of observations to take in parenthesis. This line will draw a sample of 10 observations, whre all have a equal chance of being included:"
   ]
  },
  {
   "cell_type": "code",
   "execution_count": null,
   "metadata": {},
   "outputs": [],
   "source": [
    "mid['Black'].sample(10)"
   ]
  },
  {
   "cell_type": "markdown",
   "metadata": {},
   "source": [
    "Run it a few times to see that the numbers change.\n",
    "\n",
    "We can then ask what the mean of a samples is. Run this a few times. You should generally get an answer that is roughly close to the truth (11.8), but frequently off by a few percentage points. "
   ]
  },
  {
   "cell_type": "code",
   "execution_count": null,
   "metadata": {},
   "outputs": [],
   "source": [
    "np.mean(mid['Black'].sample(10))"
   ]
  },
  {
   "cell_type": "markdown",
   "metadata": {},
   "source": [
    "What if we took a larger sample of 100? "
   ]
  },
  {
   "cell_type": "code",
   "execution_count": null,
   "metadata": {},
   "outputs": [],
   "source": [
    "np.mean(mid['Black'].sample(100))"
   ]
  },
  {
   "cell_type": "markdown",
   "metadata": {},
   "source": [
    "You should see that the numbers are generally closer to the truth, though there are random fluctuations.\n",
    "\n",
    "Now lets explore this systematically. What would happen if we took a **lot** of samples, say, 10,000, and each time took the sample mean. We can then study the properties of the 10,000 sample means."
   ]
  },
  {
   "cell_type": "code",
   "execution_count": null,
   "metadata": {},
   "outputs": [],
   "source": [
    "# Setting the sample size to 10; feel free to chance this later!\n",
    "n = 10\n",
    "# Telling our random number generator where to start so you get the same answer when running this\n",
    "np.random.seed(32020)\n",
    "# Don't worry about the details here: we are taking 10,000 samples and storing the resulting menas\n",
    "# in an array called \"sample_dist\"\n",
    "sample_dist = [np.mean(mid['Black'].sample(n)) for _ in range(10000)]\n",
    "# Comparing the average sample mean to the population mean, and plotting the distributions\n",
    "print(\"Population mean:\", np.mean(mid[\"Black\"]))\n",
    "print(\"Average sample mean:\", np.mean(sample_dist))\n",
    "sns.distplot(mid['Black'])\n",
    "sns.distplot(sample_dist)\n",
    "# Adding a horizontal line at the population mean\n",
    "plt.axvline(np.mean(mid[\"Black\"]), ymax=1, color='r')\n"
   ]
  },
  {
   "cell_type": "markdown",
   "metadata": {},
   "source": [
    "The average sample mean is almost exactly equal to the population mean. So, *on average*, the samples are correct. But individual samples may be off from the truth. How var off?\n",
    "\n",
    "The blue historgram and curve recreate the population distribution. The red curve is the **distribution of the sample means**. These are generally centered around the truth, which is at the red vertical line, though some are higher than the truth and some are lower. Sometimes we draw some cities with higher Black populations or smaller. \n",
    "\n",
    "Now let's compare what happens with samples sizes of 10 vs 100"
   ]
  },
  {
   "cell_type": "code",
   "execution_count": null,
   "metadata": {},
   "outputs": [],
   "source": [
    "np.random.seed(32020)\n",
    "# Drawing samples with size 10 and 100\n",
    "sample_dist10 = [np.mean(mid['Black'].sample(10)) for _ in range(10000)]\n",
    "sample_dist100 = [np.mean(mid['Black'].sample(100)) for _ in range(10000)]\n",
    "# Plotting the two distributions\n",
    "sns.distplot(sample_dist10)\n",
    "sns.distplot(sample_dist100)\n",
    "# Making a vertical line at the real population mean\n",
    "plt.axvline(np.mean(mid[\"Black\"]), ymax=1, color='r')\n"
   ]
  },
  {
   "cell_type": "markdown",
   "metadata": {},
   "source": [
    "The blue is the smaller samples (10), and the red is the bigger samples. Both of them are centered around the truth, but with bigger samples the sample means are much more tightly clustered around the truth.\n",
    "\n",
    "Another more subtle difference is that the blue distribution is slightly asymmetric, while the red one is starting to look \"normal\""
   ]
  },
  {
   "cell_type": "markdown",
   "metadata": {},
   "source": [
    "Now let's try the same thing for different variables. You can plug any variable in to the `varname=` line and see how things look"
   ]
  },
  {
   "cell_type": "code",
   "execution_count": null,
   "metadata": {},
   "outputs": [],
   "source": [
    "n = 100\n",
    "varname='Med_Income'\n",
    "sample_dist = [np.mean(mid[varname].sample(n)) for _ in range(10000)]\n",
    "print(\"Population mean:\", np.mean(mid[varname]))\n",
    "print(\"Average sample mean:\", np.mean(sample_dist))\n",
    "sns.distplot(sample_dist)\n",
    "plt.axvline(np.mean(mid[varname]), ymax=1, color='r')\n"
   ]
  },
  {
   "cell_type": "markdown",
   "metadata": {},
   "source": [
    "What you hopefully found is that no matter what the variable, the sample means are centered around the truth, and have a \"mound shaped\" distribution. This is the magic of the central limit theorem!"
   ]
  },
  {
   "cell_type": "markdown",
   "metadata": {},
   "source": [
    "## [OPTIONAL] Checking the Central Limit Theorem\n",
    "\n",
    "We'll go through this in more detail next week, but we can also check that our formula for confidence does in fact capture the true value 95% of the time"
   ]
  },
  {
   "cell_type": "code",
   "execution_count": null,
   "metadata": {},
   "outputs": [],
   "source": [
    "import random\n",
    "n = 100\n",
    "varname='Med_Income'\n",
    "sample_dist = [np.mean(random.choices(mid[varname], k=n)) for _ in range(10000)]\n",
    "print(\"Population mean:\", np.mean(mid[varname]))\n",
    "print(\"Average sample mean:\", np.mean(sample_dist))\n",
    "print(\"Population SD:\", np.std(mid[varname]))\n",
    "print(\"Theoretical SE:\", np.std(mid[varname])/np.sqrt(n))\n",
    "print(\"SD of sampling distribution:\", np.std(sample_dist))\n",
    "sns.distplot(sample_dist)\n",
    "plt.axvline(np.mean(mid[varname]), ymax=1, color='r')"
   ]
  },
  {
   "cell_type": "code",
   "execution_count": null,
   "metadata": {},
   "outputs": [],
   "source": [
    "def in_interval(n=100, varname='Black'):\n",
    "    sample = random.choices(mid[varname], k=n)\n",
    "    lower = np.mean(sample) - 1.96*np.std(sample)/np.sqrt(n)\n",
    "    upper = np.mean(sample) + 1.96*np.std(sample)/np.sqrt(n)\n",
    "    return 1*(np.mean(mid[varname]) > lower)*(np.mean(mid[varname]) < upper)\n"
   ]
  },
  {
   "cell_type": "code",
   "execution_count": null,
   "metadata": {},
   "outputs": [],
   "source": [
    "in_interval()"
   ]
  },
  {
   "cell_type": "code",
   "execution_count": null,
   "metadata": {},
   "outputs": [],
   "source": [
    "in95 = [in_interval(n=100, varname=\"Dem2018\") for _ in range(10000)]\n",
    "np.mean(in95)"
   ]
  },
  {
   "cell_type": "code",
   "execution_count": null,
   "metadata": {},
   "outputs": [],
   "source": []
  },
  {
   "cell_type": "code",
   "execution_count": null,
   "metadata": {},
   "outputs": [],
   "source": []
  }
 ],
 "metadata": {
  "kernelspec": {
   "display_name": "Python 3",
   "language": "python",
   "name": "python3"
  },
  "language_info": {
   "codemirror_mode": {
    "name": "ipython",
    "version": 3
   },
   "file_extension": ".py",
   "mimetype": "text/x-python",
   "name": "python",
   "nbconvert_exporter": "python",
   "pygments_lexer": "ipython3",
   "version": "3.8.6"
  }
 },
 "nbformat": 4,
 "nbformat_minor": 4
}
