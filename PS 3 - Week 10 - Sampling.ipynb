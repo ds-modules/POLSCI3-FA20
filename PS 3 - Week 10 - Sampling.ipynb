{
 "cells": [
  {
   "cell_type": "markdown",
   "metadata": {},
   "source": [
    "## PS 3 - Fall 2020 - Week 10: Sampling\n",
    "\n",
    "This week we will explore the magic of sampling. Software like Python is partiuclarly powerful for asking questions like \"if we repeatedly sampled from this population, what would the typical result be?\"\n",
    "\n",
    "We will use one of the data sets which some of you will work with for the final project. The data are on the congressional district level, and contain demographic information, past electoral results, and the results of the 2018 midterm elections (we will try to add 2020 results too!)\n",
    "\n",
    "Let's start by importing some libraries and the data."
   ]
  },
  {
   "cell_type": "code",
   "execution_count": 2,
   "metadata": {},
   "outputs": [],
   "source": [
    "import seaborn as sns\n",
    "import pandas as pd\n",
    "import matplotlib.pyplot as plt\n",
    "import numpy as np\n",
    "plt.style.use('seaborn-whitegrid')\n",
    "# Loading in the data\n",
    "mid = pd.read_csv('cleaned_midterms.csv')"
   ]
  },
  {
   "cell_type": "code",
   "execution_count": 2,
   "metadata": {},
   "outputs": [
    {
     "data": {
      "text/html": [
       "<div>\n",
       "<style scoped>\n",
       "    .dataframe tbody tr th:only-of-type {\n",
       "        vertical-align: middle;\n",
       "    }\n",
       "\n",
       "    .dataframe tbody tr th {\n",
       "        vertical-align: top;\n",
       "    }\n",
       "\n",
       "    .dataframe thead th {\n",
       "        text-align: right;\n",
       "    }\n",
       "</style>\n",
       "<table border=\"1\" class=\"dataframe\">\n",
       "  <thead>\n",
       "    <tr style=\"text-align: right;\">\n",
       "      <th></th>\n",
       "      <th>District</th>\n",
       "      <th>Dem2018</th>\n",
       "      <th>Rep2018</th>\n",
       "      <th>state</th>\n",
       "      <th>party</th>\n",
       "      <th>voteshare</th>\n",
       "      <th>TRUMP.SCORE</th>\n",
       "      <th>Inc_fname</th>\n",
       "      <th>Inc_lname</th>\n",
       "      <th>inc_year_elected</th>\n",
       "      <th>...</th>\n",
       "      <th>Black</th>\n",
       "      <th>Latino</th>\n",
       "      <th>Asian</th>\n",
       "      <th>Native</th>\n",
       "      <th>Other</th>\n",
       "      <th>BA</th>\n",
       "      <th>BA_WHite</th>\n",
       "      <th>Med_Income</th>\n",
       "      <th>Inc_F</th>\n",
       "      <th>Rep.forecast</th>\n",
       "    </tr>\n",
       "  </thead>\n",
       "  <tbody>\n",
       "    <tr>\n",
       "      <th>0</th>\n",
       "      <td>AK-1</td>\n",
       "      <td>45.8</td>\n",
       "      <td>53.7</td>\n",
       "      <td>AK</td>\n",
       "      <td>R</td>\n",
       "      <td>51.39</td>\n",
       "      <td>93.5</td>\n",
       "      <td>Don</td>\n",
       "      <td>Young</td>\n",
       "      <td>1973 Special</td>\n",
       "      <td>...</td>\n",
       "      <td>3.1</td>\n",
       "      <td>5.4</td>\n",
       "      <td>5.0</td>\n",
       "      <td>13.0</td>\n",
       "      <td>5.6</td>\n",
       "      <td>29.6</td>\n",
       "      <td>36.7</td>\n",
       "      <td>76440</td>\n",
       "      <td>0</td>\n",
       "      <td>51.39</td>\n",
       "    </tr>\n",
       "    <tr>\n",
       "      <th>1</th>\n",
       "      <td>AL-1</td>\n",
       "      <td>36.7</td>\n",
       "      <td>63.2</td>\n",
       "      <td>AL</td>\n",
       "      <td>R</td>\n",
       "      <td>65.84</td>\n",
       "      <td>96.8</td>\n",
       "      <td>Bradley</td>\n",
       "      <td>Byrne</td>\n",
       "      <td>2016</td>\n",
       "      <td>...</td>\n",
       "      <td>26.5</td>\n",
       "      <td>1.8</td>\n",
       "      <td>0.9</td>\n",
       "      <td>1.0</td>\n",
       "      <td>1.1</td>\n",
       "      <td>24.0</td>\n",
       "      <td>27.7</td>\n",
       "      <td>47083</td>\n",
       "      <td>0</td>\n",
       "      <td>65.84</td>\n",
       "    </tr>\n",
       "    <tr>\n",
       "      <th>2</th>\n",
       "      <td>AL-2</td>\n",
       "      <td>38.4</td>\n",
       "      <td>61.4</td>\n",
       "      <td>AL</td>\n",
       "      <td>R</td>\n",
       "      <td>57.86</td>\n",
       "      <td>96.7</td>\n",
       "      <td>Martha</td>\n",
       "      <td>Roby</td>\n",
       "      <td>2010</td>\n",
       "      <td>...</td>\n",
       "      <td>29.9</td>\n",
       "      <td>1.8</td>\n",
       "      <td>0.7</td>\n",
       "      <td>0.4</td>\n",
       "      <td>1.1</td>\n",
       "      <td>21.8</td>\n",
       "      <td>24.2</td>\n",
       "      <td>42035</td>\n",
       "      <td>1</td>\n",
       "      <td>57.86</td>\n",
       "    </tr>\n",
       "    <tr>\n",
       "      <th>3</th>\n",
       "      <td>AL-3</td>\n",
       "      <td>36.0</td>\n",
       "      <td>63.9</td>\n",
       "      <td>AL</td>\n",
       "      <td>R</td>\n",
       "      <td>62.03</td>\n",
       "      <td>96.8</td>\n",
       "      <td>Mike</td>\n",
       "      <td>Rogers</td>\n",
       "      <td>2002</td>\n",
       "      <td>...</td>\n",
       "      <td>25.1</td>\n",
       "      <td>1.7</td>\n",
       "      <td>0.7</td>\n",
       "      <td>0.3</td>\n",
       "      <td>0.9</td>\n",
       "      <td>22.8</td>\n",
       "      <td>23.7</td>\n",
       "      <td>46544</td>\n",
       "      <td>0</td>\n",
       "      <td>62.03</td>\n",
       "    </tr>\n",
       "    <tr>\n",
       "      <th>4</th>\n",
       "      <td>AL-4</td>\n",
       "      <td>20.1</td>\n",
       "      <td>79.8</td>\n",
       "      <td>AL</td>\n",
       "      <td>R</td>\n",
       "      <td>76.97</td>\n",
       "      <td>97.8</td>\n",
       "      <td>Robert</td>\n",
       "      <td>Aderholt</td>\n",
       "      <td>1996</td>\n",
       "      <td>...</td>\n",
       "      <td>6.9</td>\n",
       "      <td>1.8</td>\n",
       "      <td>0.5</td>\n",
       "      <td>0.7</td>\n",
       "      <td>1.3</td>\n",
       "      <td>17.0</td>\n",
       "      <td>17.8</td>\n",
       "      <td>41110</td>\n",
       "      <td>0</td>\n",
       "      <td>76.97</td>\n",
       "    </tr>\n",
       "    <tr>\n",
       "      <th>...</th>\n",
       "      <td>...</td>\n",
       "      <td>...</td>\n",
       "      <td>...</td>\n",
       "      <td>...</td>\n",
       "      <td>...</td>\n",
       "      <td>...</td>\n",
       "      <td>...</td>\n",
       "      <td>...</td>\n",
       "      <td>...</td>\n",
       "      <td>...</td>\n",
       "      <td>...</td>\n",
       "      <td>...</td>\n",
       "      <td>...</td>\n",
       "      <td>...</td>\n",
       "      <td>...</td>\n",
       "      <td>...</td>\n",
       "      <td>...</td>\n",
       "      <td>...</td>\n",
       "      <td>...</td>\n",
       "      <td>...</td>\n",
       "      <td>...</td>\n",
       "    </tr>\n",
       "    <tr>\n",
       "      <th>318</th>\n",
       "      <td>WI-7</td>\n",
       "      <td>38.5</td>\n",
       "      <td>60.2</td>\n",
       "      <td>WI</td>\n",
       "      <td>R</td>\n",
       "      <td>58.94</td>\n",
       "      <td>94.4</td>\n",
       "      <td>Sean</td>\n",
       "      <td>Duffy</td>\n",
       "      <td>2010</td>\n",
       "      <td>...</td>\n",
       "      <td>0.5</td>\n",
       "      <td>1.2</td>\n",
       "      <td>1.0</td>\n",
       "      <td>1.8</td>\n",
       "      <td>0.9</td>\n",
       "      <td>23.1</td>\n",
       "      <td>23.4</td>\n",
       "      <td>51738</td>\n",
       "      <td>0</td>\n",
       "      <td>58.94</td>\n",
       "    </tr>\n",
       "    <tr>\n",
       "      <th>319</th>\n",
       "      <td>WI-8</td>\n",
       "      <td>36.3</td>\n",
       "      <td>63.7</td>\n",
       "      <td>WI</td>\n",
       "      <td>R</td>\n",
       "      <td>60.91</td>\n",
       "      <td>94.6</td>\n",
       "      <td>Mike</td>\n",
       "      <td>Gallagher</td>\n",
       "      <td>2016</td>\n",
       "      <td>...</td>\n",
       "      <td>1.0</td>\n",
       "      <td>2.2</td>\n",
       "      <td>1.4</td>\n",
       "      <td>2.1</td>\n",
       "      <td>1.0</td>\n",
       "      <td>25.4</td>\n",
       "      <td>26.0</td>\n",
       "      <td>57888</td>\n",
       "      <td>0</td>\n",
       "      <td>60.91</td>\n",
       "    </tr>\n",
       "    <tr>\n",
       "      <th>320</th>\n",
       "      <td>WV-1</td>\n",
       "      <td>35.4</td>\n",
       "      <td>64.6</td>\n",
       "      <td>WV</td>\n",
       "      <td>R</td>\n",
       "      <td>62.64</td>\n",
       "      <td>97.8</td>\n",
       "      <td>David</td>\n",
       "      <td>McKinley</td>\n",
       "      <td>2010</td>\n",
       "      <td>...</td>\n",
       "      <td>2.4</td>\n",
       "      <td>0.9</td>\n",
       "      <td>0.6</td>\n",
       "      <td>0.2</td>\n",
       "      <td>0.9</td>\n",
       "      <td>23.5</td>\n",
       "      <td>23.1</td>\n",
       "      <td>45611</td>\n",
       "      <td>0</td>\n",
       "      <td>62.64</td>\n",
       "    </tr>\n",
       "    <tr>\n",
       "      <th>321</th>\n",
       "      <td>WV-2</td>\n",
       "      <td>43.0</td>\n",
       "      <td>54.0</td>\n",
       "      <td>WV</td>\n",
       "      <td>R</td>\n",
       "      <td>53.69</td>\n",
       "      <td>84.9</td>\n",
       "      <td>Alex</td>\n",
       "      <td>Mooney</td>\n",
       "      <td>2014</td>\n",
       "      <td>...</td>\n",
       "      <td>3.8</td>\n",
       "      <td>1.3</td>\n",
       "      <td>0.6</td>\n",
       "      <td>0.2</td>\n",
       "      <td>1.6</td>\n",
       "      <td>21.5</td>\n",
       "      <td>21.1</td>\n",
       "      <td>48358</td>\n",
       "      <td>0</td>\n",
       "      <td>53.69</td>\n",
       "    </tr>\n",
       "    <tr>\n",
       "      <th>322</th>\n",
       "      <td>WY-1</td>\n",
       "      <td>29.8</td>\n",
       "      <td>63.6</td>\n",
       "      <td>WY</td>\n",
       "      <td>R</td>\n",
       "      <td>63.15</td>\n",
       "      <td>95.7</td>\n",
       "      <td>Liz</td>\n",
       "      <td>Cheney</td>\n",
       "      <td>2016</td>\n",
       "      <td>...</td>\n",
       "      <td>0.9</td>\n",
       "      <td>6.9</td>\n",
       "      <td>0.6</td>\n",
       "      <td>1.8</td>\n",
       "      <td>1.5</td>\n",
       "      <td>27.1</td>\n",
       "      <td>28.5</td>\n",
       "      <td>59882</td>\n",
       "      <td>1</td>\n",
       "      <td>63.15</td>\n",
       "    </tr>\n",
       "  </tbody>\n",
       "</table>\n",
       "<p>323 rows × 37 columns</p>\n",
       "</div>"
      ],
      "text/plain": [
       "    District  Dem2018  Rep2018 state party  voteshare  TRUMP.SCORE Inc_fname  \\\n",
       "0       AK-1     45.8     53.7    AK     R      51.39         93.5       Don   \n",
       "1       AL-1     36.7     63.2    AL     R      65.84         96.8   Bradley   \n",
       "2       AL-2     38.4     61.4    AL     R      57.86         96.7    Martha   \n",
       "3       AL-3     36.0     63.9    AL     R      62.03         96.8      Mike   \n",
       "4       AL-4     20.1     79.8    AL     R      76.97         97.8    Robert   \n",
       "..       ...      ...      ...   ...   ...        ...          ...       ...   \n",
       "318     WI-7     38.5     60.2    WI     R      58.94         94.4      Sean   \n",
       "319     WI-8     36.3     63.7    WI     R      60.91         94.6      Mike   \n",
       "320     WV-1     35.4     64.6    WV     R      62.64         97.8     David   \n",
       "321     WV-2     43.0     54.0    WV     R      53.69         84.9      Alex   \n",
       "322     WY-1     29.8     63.6    WY     R      63.15         95.7       Liz   \n",
       "\n",
       "     Inc_lname inc_year_elected  ... Black Latino Asian Native Other    BA  \\\n",
       "0        Young     1973 Special  ...   3.1    5.4   5.0   13.0   5.6  29.6   \n",
       "1        Byrne             2016  ...  26.5    1.8   0.9    1.0   1.1  24.0   \n",
       "2         Roby             2010  ...  29.9    1.8   0.7    0.4   1.1  21.8   \n",
       "3       Rogers             2002  ...  25.1    1.7   0.7    0.3   0.9  22.8   \n",
       "4     Aderholt             1996  ...   6.9    1.8   0.5    0.7   1.3  17.0   \n",
       "..         ...              ...  ...   ...    ...   ...    ...   ...   ...   \n",
       "318      Duffy             2010  ...   0.5    1.2   1.0    1.8   0.9  23.1   \n",
       "319  Gallagher             2016  ...   1.0    2.2   1.4    2.1   1.0  25.4   \n",
       "320   McKinley             2010  ...   2.4    0.9   0.6    0.2   0.9  23.5   \n",
       "321     Mooney             2014  ...   3.8    1.3   0.6    0.2   1.6  21.5   \n",
       "322     Cheney             2016  ...   0.9    6.9   0.6    1.8   1.5  27.1   \n",
       "\n",
       "     BA_WHite  Med_Income  Inc_F  Rep.forecast  \n",
       "0        36.7       76440      0         51.39  \n",
       "1        27.7       47083      0         65.84  \n",
       "2        24.2       42035      1         57.86  \n",
       "3        23.7       46544      0         62.03  \n",
       "4        17.8       41110      0         76.97  \n",
       "..        ...         ...    ...           ...  \n",
       "318      23.4       51738      0         58.94  \n",
       "319      26.0       57888      0         60.91  \n",
       "320      23.1       45611      0         62.64  \n",
       "321      21.1       48358      0         53.69  \n",
       "322      28.5       59882      1         63.15  \n",
       "\n",
       "[323 rows x 37 columns]"
      ]
     },
     "execution_count": 2,
     "metadata": {},
     "output_type": "execute_result"
    }
   ],
   "source": [
    "mid"
   ]
  },
  {
   "cell_type": "markdown",
   "metadata": {},
   "source": [
    "One demographic variable of interest is the percentage of residents in the district who are Black."
   ]
  },
  {
   "cell_type": "code",
   "execution_count": 3,
   "metadata": {},
   "outputs": [
    {
     "data": {
      "text/plain": [
       "array([[<matplotlib.axes._subplots.AxesSubplot object at 0x7f740ccaadc0>]],\n",
       "      dtype=object)"
      ]
     },
     "execution_count": 3,
     "metadata": {},
     "output_type": "execute_result"
    },
    {
     "data": {
      "image/png": "[encoded data removed]",
      "text/plain": [
       "<Figure size 432x288 with 1 Axes>"
      ]
     },
     "metadata": {},
     "output_type": "display_data"
    }
   ],
   "source": [
    "mid.hist(\"Black\")"
   ]
  },
  {
   "cell_type": "markdown",
   "metadata": {},
   "source": [
    "Many districts have a few if any Black residents, and the numbers generally taper off at higher percentages, though there are a few which are majority Black. \n",
    "\n",
    "A similar function which will also plot a nice curve for us is the \"distplot\" from the Seaborn library:"
   ]
  },
  {
   "cell_type": "code",
   "execution_count": 4,
   "metadata": {},
   "outputs": [
    {
     "data": {
      "text/plain": [
       "<matplotlib.axes._subplots.AxesSubplot at 0x7f740a7be1c0>"
      ]
     },
     "execution_count": 4,
     "metadata": {},
     "output_type": "execute_result"
    },
    {
     "data": {
      "image/png": "[encoded data removed]",
      "text/plain": [
       "<Figure size 432x288 with 1 Axes>"
      ]
     },
     "metadata": {},
     "output_type": "display_data"
    }
   ],
   "source": [
    "sns.distplot(mid[\"Black\"])"
   ]
  },
  {
   "cell_type": "markdown",
   "metadata": {},
   "source": [
    "We can compute the mean and median:"
   ]
  },
  {
   "cell_type": "code",
   "execution_count": 5,
   "metadata": {},
   "outputs": [
    {
     "data": {
      "text/plain": [
       "11.792879256965945"
      ]
     },
     "execution_count": 5,
     "metadata": {},
     "output_type": "execute_result"
    }
   ],
   "source": [
    "np.mean(mid[\"Black\"])"
   ]
  },
  {
   "cell_type": "code",
   "execution_count": 6,
   "metadata": {},
   "outputs": [
    {
     "data": {
      "text/plain": [
       "7.0"
      ]
     },
     "execution_count": 6,
     "metadata": {},
     "output_type": "execute_result"
    }
   ],
   "source": [
    "np.median(mid[\"Black\"])"
   ]
  },
  {
   "cell_type": "markdown",
   "metadata": {},
   "source": [
    "The mean is fairly higher than the median, since the \"extreme\" observatiosn are all high percentages, which pull the mean upwards."
   ]
  },
  {
   "cell_type": "markdown",
   "metadata": {},
   "source": [
    "For what follows, congressional districts will be the \"population\" we are thinking about. Suppose for some reason we could only get data on a sample of congressional districts. (This isn't too realistic in the US, but in other places without good census data it might be costly to collect demographic data.)\n",
    "\n",
    "The question we will eventually want to ask is \"if we took a sample of the congressional districts and took the mean, what would our best guess and uncertainty be about the mean of the population\"?\n",
    "\n",
    "We can do this with the `.sample()` function, where we put the number of observations to take in parenthesis. This line will draw a sample of 10 observations, whre all have a equal chance of being included:"
   ]
  },
  {
   "cell_type": "code",
   "execution_count": 10,
   "metadata": {},
   "outputs": [
    {
     "data": {
      "text/plain": [
       "202     9.9\n",
       "0       3.1\n",
       "91     34.3\n",
       "220     3.8\n",
       "310     1.1\n",
       "207    10.6\n",
       "37      5.2\n",
       "12      5.0\n",
       "217    12.4\n",
       "169     4.9\n",
       "Name: Black, dtype: float64"
      ]
     },
     "execution_count": 10,
     "metadata": {},
     "output_type": "execute_result"
    }
   ],
   "source": [
    "mid['Black'].sample(10)"
   ]
  },
  {
   "cell_type": "markdown",
   "metadata": {},
   "source": [
    "Run it a few times to see that the numbers change.\n",
    "\n",
    "We can then ask what the mean of a samples is. Run this a few times. You should generally get an answer that is roughly close to the truth (11.8), but frequently off by a few percentage points. "
   ]
  },
  {
   "cell_type": "code",
   "execution_count": 26,
   "metadata": {},
   "outputs": [
    {
     "data": {
      "text/plain": [
       "13.87"
      ]
     },
     "execution_count": 26,
     "metadata": {},
     "output_type": "execute_result"
    }
   ],
   "source": [
    "np.mean(mid['Black'].sample(10))"
   ]
  },
  {
   "cell_type": "markdown",
   "metadata": {},
   "source": [
    "What if we took a larger sample of 100? "
   ]
  },
  {
   "cell_type": "code",
   "execution_count": 22,
   "metadata": {},
   "outputs": [
    {
     "data": {
      "text/plain": [
       "12.504000000000001"
      ]
     },
     "execution_count": 22,
     "metadata": {},
     "output_type": "execute_result"
    }
   ],
   "source": [
    "np.mean(mid['Black'].sample(100))"
   ]
  },
  {
   "cell_type": "markdown",
   "metadata": {},
   "source": [
    "You should see that the numbers are generally closer to the truth, though there are random fluctuations.\n",
    "\n",
    "Now lets explore this systematically. What would happen if we took a **lot** of samples, say, 10,000, and each time took the sample mean. We can then study the properties of the 10,000 sample means."
   ]
  },
  {
   "cell_type": "code",
   "execution_count": 27,
   "metadata": {},
   "outputs": [
    {
     "name": "stdout",
     "output_type": "stream",
     "text": [
      "Population mean: 11.792879256965945\n",
      "Average sample mean: 11.766241\n"
     ]
    },
    {
     "data": {
      "text/plain": [
       "<matplotlib.lines.Line2D at 0x7f740a6d64c0>"
      ]
     },
     "execution_count": 27,
     "metadata": {},
     "output_type": "execute_result"
    },
    {
     "data": {
      "image/png": "[encoded data removed]",
      "text/plain": [
       "<Figure size 432x288 with 1 Axes>"
      ]
     },
     "metadata": {},
     "output_type": "display_data"
    }
   ],
   "source": [
    "# Setting the sample size to 10; feel free to chance this later!\n",
    "n = 10\n",
    "# Telling our random number generator where to start so you get the same answer when running this\n",
    "np.random.seed(32020)\n",
    "# Don't worry about the details here: we are taking 10,000 samples and storing the resulting menas\n",
    "# in an array called \"sample_dist\"\n",
    "sample_dist = [np.mean(mid['Black'].sample(n)) for _ in range(10000)]\n",
    "# Comparing the average sample mean to the population mean, and plotting the distributions\n",
    "print(\"Population mean:\", np.mean(mid[\"Black\"]))\n",
    "print(\"Average sample mean:\", np.mean(sample_dist))\n",
    "sns.distplot(mid['Black'])\n",
    "sns.distplot(sample_dist)\n",
    "# Adding a horizontal line at the population mean\n",
    "plt.axvline(np.mean(mid[\"Black\"]), ymax=1, color='r')\n"
   ]
  },
  {
   "cell_type": "markdown",
   "metadata": {},
   "source": [
    "The average sample mean is almost exactly equal to the population mean. So, *on average*, the samples are correct. But individual samples may be off from the truth. How var off?\n",
    "\n",
    "The blue historgram and curve recreate the population distribution. The red curve is the **distribution of the sample means**. These are generally centered around the truth, which is at the red vertical line, though some are higher than the truth and some are lower. Sometimes we draw some cities with higher Black populations or smaller. \n",
    "\n",
    "Now let's compare what happens with samples sizes of 10 vs 100"
   ]
  },
  {
   "cell_type": "code",
   "execution_count": 28,
   "metadata": {},
   "outputs": [
    {
     "data": {
      "text/plain": [
       "<matplotlib.lines.Line2D at 0x7f740a490c10>"
      ]
     },
     "execution_count": 28,
     "metadata": {},
     "output_type": "execute_result"
    },
    {
     "data": {
      "image/png": "[encoded data removed]",
      "text/plain": [
       "<Figure size 432x288 with 1 Axes>"
      ]
     },
     "metadata": {},
     "output_type": "display_data"
    }
   ],
   "source": [
    "np.random.seed(32020)\n",
    "# Drawing samples with size 10 and 100\n",
    "sample_dist10 = [np.mean(mid['Black'].sample(10)) for _ in range(10000)]\n",
    "sample_dist100 = [np.mean(mid['Black'].sample(100)) for _ in range(10000)]\n",
    "# Plotting the two distributions\n",
    "sns.distplot(sample_dist10)\n",
    "sns.distplot(sample_dist100)\n",
    "# Making a vertical line at the real population mean\n",
    "plt.axvline(np.mean(mid[\"Black\"]), ymax=1, color='r')\n"
   ]
  },
  {
   "cell_type": "markdown",
   "metadata": {},
   "source": [
    "The blue is the smaller samples (10), and the red is the bigger samples. Both of them are centered around the truth, but with bigger samples the sample means are much more tightly clustered around the truth.\n",
    "\n",
    "Another more subtle difference is that the blue distribution is slightly asymmetric, while the red one is starting to look \"normal\""
   ]
  },
  {
   "cell_type": "markdown",
   "metadata": {},
   "source": [
    "Now let's try the same thing for different variables. You can plug any variable in to the `varname=` line and see how things look"
   ]
  },
  {
   "cell_type": "code",
   "execution_count": 29,
   "metadata": {},
   "outputs": [
    {
     "name": "stdout",
     "output_type": "stream",
     "text": [
      "Population mean: 60716.061919504646\n",
      "Average sample mean: 60698.425521000005\n"
     ]
    },
    {
     "data": {
      "text/plain": [
       "<matplotlib.lines.Line2D at 0x7f740a3c3a30>"
      ]
     },
     "execution_count": 29,
     "metadata": {},
     "output_type": "execute_result"
    },
    {
     "data": {
      "image/png": "[encoded data removed]",
      "text/plain": [
       "<Figure size 432x288 with 1 Axes>"
      ]
     },
     "metadata": {},
     "output_type": "display_data"
    }
   ],
   "source": [
    "n = 100\n",
    "varname='Med_Income'\n",
    "sample_dist = [np.mean(mid[varname].sample(n)) for _ in range(10000)]\n",
    "print(\"Population mean:\", np.mean(mid[varname]))\n",
    "print(\"Average sample mean:\", np.mean(sample_dist))\n",
    "sns.distplot(sample_dist)\n",
    "plt.axvline(np.mean(mid[varname]), ymax=1, color='r')\n"
   ]
  },
  {
   "cell_type": "markdown",
   "metadata": {},
   "source": [
    "What you hopefully found is that no matter what the variable, the sample means are centered around the truth, and have a \"mound shaped\" distribution. This is the magic of the central limit theorem!"
   ]
  },
  {
   "cell_type": "markdown",
   "metadata": {},
   "source": [
    "## [OPTIONAL] Checking the Central Limit Theorem\n",
    "\n",
    "We'll go through this in more detail next week, but we can also check that our formula for confidence does in fact capture the true value 95% of the time"
   ]
  },
  {
   "cell_type": "code",
   "execution_count": 3,
   "metadata": {},
   "outputs": [
    {
     "name": "stdout",
     "output_type": "stream",
     "text": [
      "Population mean: 60716.061919504646\n",
      "Average sample mean: 60697.989776999995\n",
      "Population SD: 16946.614525577636\n",
      "Theoretical SE: 1694.6614525577636\n",
      "SD of sampling distribution: 1699.6504094990594\n"
     ]
    },
    {
     "data": {
      "text/plain": [
       "<matplotlib.lines.Line2D at 0x7f3d5b2087c0>"
      ]
     },
     "execution_count": 3,
     "metadata": {},
     "output_type": "execute_result"
    },
    {
     "data": {
      "image/png": "[encoded data removed]",
      "text/plain": [
       "<Figure size 432x288 with 1 Axes>"
      ]
     },
     "metadata": {},
     "output_type": "display_data"
    }
   ],
   "source": [
    "import random\n",
    "n = 100\n",
    "varname='Med_Income'\n",
    "sample_dist = [np.mean(random.choices(mid[varname], k=n)) for _ in range(10000)]\n",
    "print(\"Population mean:\", np.mean(mid[varname]))\n",
    "print(\"Average sample mean:\", np.mean(sample_dist))\n",
    "print(\"Population SD:\", np.std(mid[varname]))\n",
    "print(\"Theoretical SE:\", np.std(mid[varname])/np.sqrt(n))\n",
    "print(\"SD of sampling distribution:\", np.std(sample_dist))\n",
    "sns.distplot(sample_dist)\n",
    "plt.axvline(np.mean(mid[varname]), ymax=1, color='r')"
   ]
  },
  {
   "cell_type": "code",
   "execution_count": 4,
   "metadata": {},
   "outputs": [],
   "source": [
    "def in_interval(n=100, varname='Black'):\n",
    "    sample = random.choices(mid[varname], k=n)\n",
    "    lower = np.mean(sample) - 1.96*np.std(sample)/np.sqrt(n)\n",
    "    upper = np.mean(sample) + 1.96*np.std(sample)/np.sqrt(n)\n",
    "    return 1*(np.mean(mid[varname]) > lower)*(np.mean(mid[varname]) < upper)\n"
   ]
  },
  {
   "cell_type": "code",
   "execution_count": 5,
   "metadata": {},
   "outputs": [
    {
     "data": {
      "text/plain": [
       "0"
      ]
     },
     "execution_count": 5,
     "metadata": {},
     "output_type": "execute_result"
    }
   ],
   "source": [
    "in_interval()"
   ]
  },
  {
   "cell_type": "code",
   "execution_count": 6,
   "metadata": {},
   "outputs": [
    {
     "data": {
      "text/plain": [
       "0.9429"
      ]
     },
     "execution_count": 6,
     "metadata": {},
     "output_type": "execute_result"
    }
   ],
   "source": [
    "in95 = [in_interval(n=100, varname=\"Dem2018\") for _ in range(10000)]\n",
    "np.mean(in95)"
   ]
  },
  {
   "cell_type": "code",
   "execution_count": null,
   "metadata": {},
   "outputs": [],
   "source": []
  },
  {
   "cell_type": "code",
   "execution_count": null,
   "metadata": {},
   "outputs": [],
   "source": []
  }
 ],
 "metadata": {
  "kernelspec": {
   "display_name": "Python 3",
   "language": "python",
   "name": "python3"
  },
  "language_info": {
   "codemirror_mode": {
    "name": "ipython",
    "version": 3
   },
   "file_extension": ".py",
   "mimetype": "text/x-python",
   "name": "python",
   "nbconvert_exporter": "python",
   "pygments_lexer": "ipython3",
   "version": "3.8.6"
  }
 },
 "nbformat": 4,
 "nbformat_minor": 4
}
