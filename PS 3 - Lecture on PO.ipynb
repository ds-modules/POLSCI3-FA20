{
 "cells": [
  {
   "cell_type": "markdown",
   "metadata": {},
   "source": [
    "## PS 3 Fall 2020 - Lecture Notebook for Week 6 - Potential Outcomes and Arrays\n",
    "\n",
    "Here is how we can do some potential outcomes calculations in Python, which will also give us practice with arrays.\n",
    "\n",
    "We'll be using \"made up\" data, but to make things more interesting let's use a real example which I've written about: international monitoring of elections.\n",
    "\n",
    "The outcome we care about is how fraudulent elections are, which we'll suppose is measured on a scale from 0 (perfectly clean) to 10 (completely fraudulent). \n",
    "\n",
    "Our independent or treatment variable will be whether international monitors are present. \n",
    "\n",
    "An interesting methodological challenge when studying this question in the real world is that we often measure how fraudulent elections are using reports from international monitors: so the presence of our independent variable may be required to measure the dependent variable! For our exercise here we will sweep this under the rug, and suppose that we get a reliable measurement of fraudulent elections are from other sources. \n",
    "\n",
    "First, let's create an array of potential outcomes without the treatment. That is, how fraudulent would the election be in the (sometimes hypothetical) scenario with no monitors.\n",
    "\n",
    "We are going to use the \"numpy\" library, which creates some nice functions for dealing with arrays.\n",
    "\n",
    "To keep things simple, we are going to imagine a data set with 8 elections."
   ]
  },
  {
   "cell_type": "code",
   "execution_count": null,
   "metadata": {},
   "outputs": [],
   "source": [
    "import numpy as np\n",
    "y0 = np.array([8, 2, 5, 8, 2, 3, 4, 3])\n",
    "y0"
   ]
  },
  {
   "cell_type": "markdown",
   "metadata": {},
   "source": [
    "Lets assume that the causal effect is equal to -1 for everyone. In words, monitors decrease the amount of fraud by 1 point on a 10 point scale.\n",
    "\n",
    "To do this, we will define a variable called k (think kappa from the slides), and add that to y0."
   ]
  },
  {
   "cell_type": "code",
   "execution_count": null,
   "metadata": {},
   "outputs": [],
   "source": [
    "k=-1\n",
    "y1 = y0 + k\n",
    "y1"
   ]
  },
  {
   "cell_type": "markdown",
   "metadata": {},
   "source": [
    "Note that we have done something kind of cool here: we added a number to an array, which is a list of numbers. Numpy deals with this the way that we would like: it subtracts 1 from all of the entries.\n",
    "\n",
    "Now let's suppose that 4 of the countries have election monitors while 4 do not. To capture this, we create an array of 0s and 1,s where 0 means not monitored and 1 means monitored. \n",
    "\n",
    " "
   ]
  },
  {
   "cell_type": "code",
   "execution_count": null,
   "metadata": {},
   "outputs": [],
   "source": [
    "d = np.array([1,0,1,1,0,0,1,0])\n",
    "d"
   ]
  },
  {
   "cell_type": "markdown",
   "metadata": {},
   "source": [
    "We are going to compute their realized fraud outcome with a clever array trick. Our goal is to get the value from y0 when d=0 and from y1 when d=1. To do this, we will multiply y1 times d, which will give us the realized outcome from those monitored and 0 otherwise, and then y0 times 1-d, which will give us the realized outcome for the non-monitored and 0 otherwise. So, by adding $y1*d$ and $y0*(1-d)$ we are always going to get the realized outcome plus 0, so the realized outcome."
   ]
  },
  {
   "cell_type": "code",
   "execution_count": null,
   "metadata": {},
   "outputs": [],
   "source": [
    "y1*d"
   ]
  },
  {
   "cell_type": "code",
   "execution_count": null,
   "metadata": {},
   "outputs": [],
   "source": [
    "y0*(1-d)"
   ]
  },
  {
   "cell_type": "code",
   "execution_count": null,
   "metadata": {},
   "outputs": [],
   "source": [
    "y = y1*d + y0*(1-d)\n",
    "y"
   ]
  },
  {
   "cell_type": "markdown",
   "metadata": {},
   "source": [
    "What could we actually observe in reality? The monitor status, and the observed amount of fraud. Here is one way to print that."
   ]
  },
  {
   "cell_type": "code",
   "execution_count": null,
   "metadata": {},
   "outputs": [],
   "source": [
    "print(np.column_stack((d,y)))"
   ]
  },
  {
   "cell_type": "markdown",
   "metadata": {},
   "source": [
    "Now let's think about how we can compute a difference of means for those with and without monitors. We will do this in a few steps. First, we want to compute the average level of fraud for countries with monitors. There is a nice trick for this: we will take the \"subset\" of observed outcomes which are monitored (d==1). The syntax for this is to add the condition we want in square brackets:"
   ]
  },
  {
   "cell_type": "code",
   "execution_count": null,
   "metadata": {},
   "outputs": [],
   "source": [
    "y[d==1]"
   ]
  },
  {
   "cell_type": "markdown",
   "metadata": {},
   "source": [
    "This returned an array with four entries, which makes sense because four of our countries have monitors. \n",
    "\n",
    "If you return to the printed version above, you can check that it pulled the outcome for the four countries with monitors."
   ]
  },
  {
   "cell_type": "markdown",
   "metadata": {},
   "source": [
    "We can do the same for the non-monitored countries"
   ]
  },
  {
   "cell_type": "code",
   "execution_count": null,
   "metadata": {},
   "outputs": [],
   "source": [
    "y[d==0]"
   ]
  },
  {
   "cell_type": "markdown",
   "metadata": {},
   "source": [
    "Now we can compute the average fraud level in the monitored countries with the np.mean function:"
   ]
  },
  {
   "cell_type": "code",
   "execution_count": null,
   "metadata": {},
   "outputs": [],
   "source": [
    "np.mean(y[d==1])"
   ]
  },
  {
   "cell_type": "markdown",
   "metadata": {},
   "source": [
    "Note that if we did the same thing but looked at our y1 vector, we get the same reason, since the \"average potential outcome with monitoring among the monitored\" is just \"average outcome among the monitored\""
   ]
  },
  {
   "cell_type": "code",
   "execution_count": null,
   "metadata": {},
   "outputs": [],
   "source": [
    "np.mean(y1[d==1])"
   ]
  },
  {
   "cell_type": "markdown",
   "metadata": {},
   "source": [
    "Now lets do the non-monitored elections:"
   ]
  },
  {
   "cell_type": "code",
   "execution_count": null,
   "metadata": {},
   "outputs": [],
   "source": [
    "np.mean(y[d==0])"
   ]
  },
  {
   "cell_type": "markdown",
   "metadata": {},
   "source": [
    "Finally, let's put this together and compute our difference of means, which we will save as a variable called dom"
   ]
  },
  {
   "cell_type": "code",
   "execution_count": null,
   "metadata": {},
   "outputs": [],
   "source": [
    "dom = np.mean(y[d==1]) - np.mean(y[d==0])\n",
    "dom"
   ]
  },
  {
   "cell_type": "markdown",
   "metadata": {},
   "source": [
    "What does this mean in words? The elections with monitors were almost 3 points more fraudulent than those with no monitors! Maybe the monitors should stayed home?\n",
    "\n",
    "But wait, as we learned in the lecture, this might not really capture the causal effect (which we assumed was -1). \n",
    "\n",
    "In particular, we can use our selection bias formula from the slides to calculate how wrong our difference of means is."
   ]
  },
  {
   "cell_type": "code",
   "execution_count": null,
   "metadata": {},
   "outputs": [],
   "source": [
    "sb = np.mean(y0[d==1]) - np.mean(y0[d==0])\n",
    "sb"
   ]
  },
  {
   "cell_type": "markdown",
   "metadata": {},
   "source": [
    "However, notice that this requires knowing how fraudultent the monitored elections would have been without monitoring: it's an unobserved counterfactual!\n",
    "\n",
    "Still, in this hypothetical mode, we can check that the real causal effect plus our selection bias is equal to the difference of means:"
   ]
  },
  {
   "cell_type": "code",
   "execution_count": null,
   "metadata": {},
   "outputs": [],
   "source": [
    "print(k + sb,dom)"
   ]
  },
  {
   "cell_type": "markdown",
   "metadata": {},
   "source": [
    "What if we flipped who the monitors went to go check. We can do this by defining a new alternative treatment variable d2 which is equal to 1 when d is 0 and equal to 0 when d is equal to 1"
   ]
  },
  {
   "cell_type": "code",
   "execution_count": null,
   "metadata": {},
   "outputs": [],
   "source": [
    "d2 = 1-d\n",
    "y2 = y1*d2 + y0*(1-d2)"
   ]
  },
  {
   "cell_type": "code",
   "execution_count": null,
   "metadata": {},
   "outputs": [],
   "source": [
    "dom2 = np.mean(y2[d2==1]) - np.mean(y2[d2==0])\n",
    "dom2"
   ]
  },
  {
   "cell_type": "markdown",
   "metadata": {},
   "source": [
    "Now the difference of means is very negative! We can also compute the selection bias with this new monitoring regime"
   ]
  },
  {
   "cell_type": "code",
   "execution_count": null,
   "metadata": {},
   "outputs": [],
   "source": [
    "sb2 = np.mean(y0[d2==1]) - np.mean(y0[d2==0])\n",
    "sb2"
   ]
  },
  {
   "cell_type": "markdown",
   "metadata": {},
   "source": [
    "Notice this is the exact opposite as the selection bias with our initial treament. Think through why!"
   ]
  },
  {
   "cell_type": "code",
   "execution_count": null,
   "metadata": {},
   "outputs": [],
   "source": []
  }
 ],
 "metadata": {
  "kernelspec": {
   "display_name": "Python 3",
   "language": "python",
   "name": "python3"
  },
  "language_info": {
   "codemirror_mode": {
    "name": "ipython",
    "version": 3
   },
   "file_extension": ".py",
   "mimetype": "text/x-python",
   "name": "python",
   "nbconvert_exporter": "python",
   "pygments_lexer": "ipython3",
   "version": "3.8.5"
  }
 },
 "nbformat": 4,
 "nbformat_minor": 4
}
