{
 "cells": [
  {
   "cell_type": "markdown",
   "metadata": {},
   "source": [
    "# PS 3 - Fall 2020 Lecture 7: Experiments\n",
    "\n",
    "\n",
    "In this notebook, we will see how randomly picking treatment and control groups will minimize selection bias.\n",
    "\n",
    "We will also get some practice with using data tables from the datascience library.\n",
    "\n",
    "First, let's see see how our selection bias formula works with varying treatment effects.\n",
    "\n",
    "We are going to import the now familiar numpy library, and also some function related to tables from the datascience library"
   ]
  },
  {
   "cell_type": "code",
   "execution_count": 2,
   "metadata": {},
   "outputs": [],
   "source": [
    "import numpy as np\n",
    "from datascience import Table"
   ]
  },
  {
   "cell_type": "markdown",
   "metadata": {},
   "source": [
    "We are going to stick with the election monitoring example, but use some made up data to get practice with the key concepts. This first line of code defines the number of observations in our hypothetical data, which here correspond to elections. \n",
    "\n",
    "Let's assume the fraud levels without monitoring are uninformly distributed between 0 and 10; i.e., each number in this range is equally likely. Unlike last week, we are going to let the causal effect vary, in particular from -3 to 1 (and any number in that range is equally likely). \n"
   ]
  },
  {
   "cell_type": "code",
   "execution_count": 3,
   "metadata": {},
   "outputs": [],
   "source": [
    "# Setting the number of elections to 2000\n",
    "n=2000\n",
    "np.random.seed(32020)\n",
    "# Creating a base \"all seeing mode\" table with potential outcomes w/o monitoring and treatment effect\n",
    "fraud_asm = Table().with_columns(\n",
    "    'y0', np.random.randint(0, 10, n),\n",
    "    'k', np.random.randint(-3, 1, n)\n",
    ")"
   ]
  },
  {
   "cell_type": "code",
   "execution_count": 4,
   "metadata": {},
   "outputs": [
    {
     "data": {
      "text/html": [
       "<table border=\"1\" class=\"dataframe\">\n",
       "    <thead>\n",
       "        <tr>\n",
       "            <th>y0</th> <th>k</th>\n",
       "        </tr>\n",
       "    </thead>\n",
       "    <tbody>\n",
       "        <tr>\n",
       "            <td>5   </td> <td>-2  </td>\n",
       "        </tr>\n",
       "        <tr>\n",
       "            <td>0   </td> <td>-3  </td>\n",
       "        </tr>\n",
       "        <tr>\n",
       "            <td>9   </td> <td>-1  </td>\n",
       "        </tr>\n",
       "        <tr>\n",
       "            <td>5   </td> <td>-1  </td>\n",
       "        </tr>\n",
       "        <tr>\n",
       "            <td>5   </td> <td>0   </td>\n",
       "        </tr>\n",
       "        <tr>\n",
       "            <td>6   </td> <td>0   </td>\n",
       "        </tr>\n",
       "        <tr>\n",
       "            <td>2   </td> <td>-1  </td>\n",
       "        </tr>\n",
       "        <tr>\n",
       "            <td>5   </td> <td>0   </td>\n",
       "        </tr>\n",
       "        <tr>\n",
       "            <td>3   </td> <td>-3  </td>\n",
       "        </tr>\n",
       "        <tr>\n",
       "            <td>6   </td> <td>-2  </td>\n",
       "        </tr>\n",
       "    </tbody>\n",
       "</table>\n",
       "<p>... (1990 rows omitted)</p>"
      ],
      "text/plain": [
       "y0   | k\n",
       "5    | -2\n",
       "0    | -3\n",
       "9    | -1\n",
       "5    | -1\n",
       "5    | 0\n",
       "6    | 0\n",
       "2    | -1\n",
       "5    | 0\n",
       "3    | -3\n",
       "6    | -2\n",
       "... (1990 rows omitted)"
      ]
     },
     "execution_count": 4,
     "metadata": {},
     "output_type": "execute_result"
    }
   ],
   "source": [
    "# Peeking at the top of the table\n",
    "fraud_asm"
   ]
  },
  {
   "cell_type": "markdown",
   "metadata": {},
   "source": [
    "What is the average treatment effect in our data? To \"pull\" the causal effect from out data, we use square brackets and then include the variable name in quotation marks."
   ]
  },
  {
   "cell_type": "code",
   "execution_count": 5,
   "metadata": {},
   "outputs": [
    {
     "data": {
      "text/plain": [
       "-1.5015"
      ]
     },
     "execution_count": 5,
     "metadata": {},
     "output_type": "execute_result"
    }
   ],
   "source": [
    "# We can compute the average treatment effect from our (hypothetical) data\n",
    "np.mean(fraud_asm[\"k\"])"
   ]
  },
  {
   "cell_type": "markdown",
   "metadata": {},
   "source": [
    "Now let's compute the potential outcome with monitoring, which by definition is the potential outcome without monitoing plus the (individual-level) treatment effect. (Side note: this will sometimes give us numbers below 0 or above 10. To simplify I'll just leave this: think of them as EXTRA clean or EXTRA fraudlent elections).\n",
    "\n",
    "In terms of the code, by saying \"fraud_table[\"y1\"]=\"... we are telling Python to add a new variable to fraud table called y1, and then set it equal to what we ask for on the right hand side of the equation. Under the hood, you can think of this is pulling out the y0 and k arrays, adding them to get a third array, and then adding that to our data table."
   ]
  },
  {
   "cell_type": "code",
   "execution_count": 6,
   "metadata": {},
   "outputs": [
    {
     "data": {
      "text/html": [
       "<table border=\"1\" class=\"dataframe\">\n",
       "    <thead>\n",
       "        <tr>\n",
       "            <th>y0</th> <th>k</th> <th>y1</th>\n",
       "        </tr>\n",
       "    </thead>\n",
       "    <tbody>\n",
       "        <tr>\n",
       "            <td>5   </td> <td>-2  </td> <td>3   </td>\n",
       "        </tr>\n",
       "        <tr>\n",
       "            <td>0   </td> <td>-3  </td> <td>-3  </td>\n",
       "        </tr>\n",
       "        <tr>\n",
       "            <td>9   </td> <td>-1  </td> <td>8   </td>\n",
       "        </tr>\n",
       "        <tr>\n",
       "            <td>5   </td> <td>-1  </td> <td>4   </td>\n",
       "        </tr>\n",
       "        <tr>\n",
       "            <td>5   </td> <td>0   </td> <td>5   </td>\n",
       "        </tr>\n",
       "        <tr>\n",
       "            <td>6   </td> <td>0   </td> <td>6   </td>\n",
       "        </tr>\n",
       "        <tr>\n",
       "            <td>2   </td> <td>-1  </td> <td>1   </td>\n",
       "        </tr>\n",
       "        <tr>\n",
       "            <td>5   </td> <td>0   </td> <td>5   </td>\n",
       "        </tr>\n",
       "        <tr>\n",
       "            <td>3   </td> <td>-3  </td> <td>0   </td>\n",
       "        </tr>\n",
       "        <tr>\n",
       "            <td>6   </td> <td>-2  </td> <td>4   </td>\n",
       "        </tr>\n",
       "    </tbody>\n",
       "</table>\n",
       "<p>... (1990 rows omitted)</p>"
      ],
      "text/plain": [
       "y0   | k    | y1\n",
       "5    | -2   | 3\n",
       "0    | -3   | -3\n",
       "9    | -1   | 8\n",
       "5    | -1   | 4\n",
       "5    | 0    | 5\n",
       "6    | 0    | 6\n",
       "2    | -1   | 1\n",
       "5    | 0    | 5\n",
       "3    | -3   | 0\n",
       "6    | -2   | 4\n",
       "... (1990 rows omitted)"
      ]
     },
     "execution_count": 6,
     "metadata": {},
     "output_type": "execute_result"
    }
   ],
   "source": [
    "# Computing the potential outcome with monitoring\n",
    "fraud_asm[\"y1\"] = fraud_asm[\"y0\"] + fraud_asm[\"k\"]\n",
    "fraud_asm"
   ]
  },
  {
   "cell_type": "markdown",
   "metadata": {},
   "source": [
    "Now let's determine whether a country is monitored, and the realized outcome. To keep things conceptually clear, we'll do this in a new table for the \"real\" data.\n",
    "\n",
    "To simplify, let's suppose monitors tend to go to countries where (1) the baseline level of fraud is high, and (2) they expect that their presence will reduce fraud. Specifically, they go to countries where the potential outcome with no monitoring is 5 or more, and the election-level treatment effect is negative."
   ]
  },
  {
   "cell_type": "code",
   "execution_count": 28,
   "metadata": {},
   "outputs": [
    {
     "data": {
      "text/html": [
       "<table border=\"1\" class=\"dataframe\">\n",
       "    <thead>\n",
       "        <tr>\n",
       "            <th>d</th> <th>y</th>\n",
       "        </tr>\n",
       "    </thead>\n",
       "    <tbody>\n",
       "        <tr>\n",
       "            <td>1   </td> <td>3   </td>\n",
       "        </tr>\n",
       "        <tr>\n",
       "            <td>0   </td> <td>0   </td>\n",
       "        </tr>\n",
       "        <tr>\n",
       "            <td>1   </td> <td>8   </td>\n",
       "        </tr>\n",
       "        <tr>\n",
       "            <td>1   </td> <td>4   </td>\n",
       "        </tr>\n",
       "        <tr>\n",
       "            <td>0   </td> <td>5   </td>\n",
       "        </tr>\n",
       "        <tr>\n",
       "            <td>0   </td> <td>6   </td>\n",
       "        </tr>\n",
       "        <tr>\n",
       "            <td>0   </td> <td>2   </td>\n",
       "        </tr>\n",
       "        <tr>\n",
       "            <td>0   </td> <td>5   </td>\n",
       "        </tr>\n",
       "        <tr>\n",
       "            <td>0   </td> <td>3   </td>\n",
       "        </tr>\n",
       "        <tr>\n",
       "            <td>1   </td> <td>4   </td>\n",
       "        </tr>\n",
       "    </tbody>\n",
       "</table>\n",
       "<p>... (1990 rows omitted)</p>"
      ],
      "text/plain": [
       "d    | y\n",
       "1    | 3\n",
       "0    | 0\n",
       "1    | 8\n",
       "1    | 4\n",
       "0    | 5\n",
       "0    | 6\n",
       "0    | 2\n",
       "0    | 5\n",
       "0    | 3\n",
       "1    | 4\n",
       "... (1990 rows omitted)"
      ]
     },
     "execution_count": 28,
     "metadata": {},
     "output_type": "execute_result"
    }
   ],
   "source": [
    "fraud_real = Table().with_columns(\n",
    "    'd', 1*(fraud_asm[\"y0\"] >= 5)*(fraud_asm[\"k\"] < 0))\n",
    "\n",
    "# Once the monitoring presence is set, compute the realized outcome like before\n",
    "fraud_real[\"y\"] = fraud_real[\"d\"]*fraud_asm[\"y1\"] + (1 - fraud_real[\"d\"])*fraud_asm[\"y0\"]\n",
    "fraud_real"
   ]
  },
  {
   "cell_type": "markdown",
   "metadata": {},
   "source": [
    "Now let's look at the average of several things for the monitored elecitons..."
   ]
  },
  {
   "cell_type": "code",
   "execution_count": 29,
   "metadata": {},
   "outputs": [
    {
     "data": {
      "text/html": [
       "<table border=\"1\" class=\"dataframe\">\n",
       "    <thead>\n",
       "        <tr>\n",
       "            <th>y0</th> <th>k</th> <th>y1</th>\n",
       "        </tr>\n",
       "    </thead>\n",
       "    <tbody>\n",
       "        <tr>\n",
       "            <td>6.97055</td> <td>-1.98079</td> <td>4.98976</td>\n",
       "        </tr>\n",
       "    </tbody>\n",
       "</table>"
      ],
      "text/plain": [
       "y0      | k        | y1\n",
       "6.97055 | -1.98079 | 4.98976"
      ]
     },
     "execution_count": 29,
     "metadata": {},
     "output_type": "execute_result"
    }
   ],
   "source": [
    "np.mean(fraud_asm.where(fraud_real[\"d\"]==1))"
   ]
  },
  {
   "cell_type": "markdown",
   "metadata": {},
   "source": [
    "...vs non-monitored"
   ]
  },
  {
   "cell_type": "code",
   "execution_count": 30,
   "metadata": {},
   "outputs": [
    {
     "data": {
      "text/html": [
       "<table border=\"1\" class=\"dataframe\">\n",
       "    <thead>\n",
       "        <tr>\n",
       "            <th>y0</th> <th>k</th> <th>y1</th>\n",
       "        </tr>\n",
       "    </thead>\n",
       "    <tbody>\n",
       "        <tr>\n",
       "            <td>2.96719</td> <td>-1.19442</td> <td>1.77276</td>\n",
       "        </tr>\n",
       "    </tbody>\n",
       "</table>"
      ],
      "text/plain": [
       "y0      | k        | y1\n",
       "2.96719 | -1.19442 | 1.77276"
      ]
     },
     "execution_count": 30,
     "metadata": {},
     "output_type": "execute_result"
    }
   ],
   "source": [
    "np.mean(fraud_asm.where(fraud_real[\"d\"]==0))"
   ]
  },
  {
   "cell_type": "markdown",
   "metadata": {},
   "source": [
    "What do you notice in the differences?"
   ]
  },
  {
   "cell_type": "markdown",
   "metadata": {},
   "source": [
    "Now let's check our formula works. Some of the code here is a bit ugly. First, we compute the difference of means, then the ATET and selection bias using the formulas from the slides."
   ]
  },
  {
   "cell_type": "code",
   "execution_count": 31,
   "metadata": {},
   "outputs": [
    {
     "data": {
      "text/plain": [
       "2.022570503939439"
      ]
     },
     "execution_count": 31,
     "metadata": {},
     "output_type": "execute_result"
    }
   ],
   "source": [
    "avg_mon = np.mean(fraud_real.where(fraud_real[\"d\"]==1)[\"y\"])\n",
    "avg_nm = np.mean(fraud_real.where(fraud_real[\"d\"]==0)[\"y\"])\n",
    "dom = avg_mon - avg_nm\n",
    "dom"
   ]
  },
  {
   "cell_type": "code",
   "execution_count": 25,
   "metadata": {
    "scrolled": true
   },
   "outputs": [
    {
     "data": {
      "text/plain": [
       "-1.9807938540332906"
      ]
     },
     "execution_count": 25,
     "metadata": {},
     "output_type": "execute_result"
    }
   ],
   "source": [
    "atet = np.mean(fraud_asm.where(fraud_real[\"d\"]==1)[\"y1\"]) - np.mean(fraud_asm.where(fraud_real[\"d\"]==1)[\"y0\"])\n",
    "atet"
   ]
  },
  {
   "cell_type": "code",
   "execution_count": 26,
   "metadata": {},
   "outputs": [
    {
     "data": {
      "text/plain": [
       "4.00336435797273"
      ]
     },
     "execution_count": 26,
     "metadata": {},
     "output_type": "execute_result"
    }
   ],
   "source": [
    "sb = np.mean(fraud_asm.where(fraud_real[\"d\"]==1)[\"y0\"]) - np.mean(fraud_asm.where(fraud_real[\"d\"]==0)[\"y0\"])\n",
    "sb"
   ]
  },
  {
   "cell_type": "markdown",
   "metadata": {},
   "source": [
    "Let's check that our difference of means is in fact the same as the ATET plus bias"
   ]
  },
  {
   "cell_type": "code",
   "execution_count": 27,
   "metadata": {},
   "outputs": [
    {
     "data": {
      "text/plain": [
       "(2.022570503939439, 2.0225705039394395)"
      ]
     },
     "execution_count": 27,
     "metadata": {},
     "output_type": "execute_result"
    }
   ],
   "source": [
    "dom, atet + sb"
   ]
  },
  {
   "cell_type": "markdown",
   "metadata": {},
   "source": [
    "Notice our average treatment effect on everyone is a bit different:"
   ]
  },
  {
   "cell_type": "code",
   "execution_count": 15,
   "metadata": {},
   "outputs": [
    {
     "data": {
      "text/plain": [
       "-1.5015"
      ]
     },
     "execution_count": 15,
     "metadata": {},
     "output_type": "execute_result"
    }
   ],
   "source": [
    "ate = np.mean(fraud_asm[\"y1\"]) - np.mean(fraud_asm[\"y0\"])\n",
    "ate"
   ]
  },
  {
   "cell_type": "markdown",
   "metadata": {},
   "source": [
    "Now let's consider an alternate world where monitoring gets randomly assigned. We'll call this monitoring status d2, and the resulting outcome y2."
   ]
  },
  {
   "cell_type": "code",
   "execution_count": 16,
   "metadata": {},
   "outputs": [
    {
     "data": {
      "text/html": [
       "<table border=\"1\" class=\"dataframe\">\n",
       "    <thead>\n",
       "        <tr>\n",
       "            <th>d</th> <th>y</th>\n",
       "        </tr>\n",
       "    </thead>\n",
       "    <tbody>\n",
       "        <tr>\n",
       "            <td>0   </td> <td>5   </td>\n",
       "        </tr>\n",
       "        <tr>\n",
       "            <td>0   </td> <td>0   </td>\n",
       "        </tr>\n",
       "        <tr>\n",
       "            <td>1   </td> <td>8   </td>\n",
       "        </tr>\n",
       "        <tr>\n",
       "            <td>1   </td> <td>4   </td>\n",
       "        </tr>\n",
       "        <tr>\n",
       "            <td>0   </td> <td>5   </td>\n",
       "        </tr>\n",
       "        <tr>\n",
       "            <td>1   </td> <td>6   </td>\n",
       "        </tr>\n",
       "        <tr>\n",
       "            <td>0   </td> <td>2   </td>\n",
       "        </tr>\n",
       "        <tr>\n",
       "            <td>1   </td> <td>5   </td>\n",
       "        </tr>\n",
       "        <tr>\n",
       "            <td>1   </td> <td>0   </td>\n",
       "        </tr>\n",
       "        <tr>\n",
       "            <td>1   </td> <td>4   </td>\n",
       "        </tr>\n",
       "    </tbody>\n",
       "</table>\n",
       "<p>... (1990 rows omitted)</p>"
      ],
      "text/plain": [
       "d    | y\n",
       "0    | 5\n",
       "0    | 0\n",
       "1    | 8\n",
       "1    | 4\n",
       "0    | 5\n",
       "1    | 6\n",
       "0    | 2\n",
       "1    | 5\n",
       "1    | 0\n",
       "1    | 4\n",
       "... (1990 rows omitted)"
      ]
     },
     "execution_count": 16,
     "metadata": {},
     "output_type": "execute_result"
    }
   ],
   "source": [
    "fraud_exp = Table().with_columns(\n",
    "    'd', np.random.binomial(1, .5, n))\n",
    "fraud_exp[\"y\"] = fraud_exp[\"d\"]*fraud_asm[\"y1\"] + (1 - fraud_exp[\"d\"])*fraud_asm[\"y0\"]\n",
    "fraud_exp"
   ]
  },
  {
   "cell_type": "code",
   "execution_count": 17,
   "metadata": {},
   "outputs": [
    {
     "data": {
      "text/html": [
       "<table border=\"1\" class=\"dataframe\">\n",
       "    <thead>\n",
       "        <tr>\n",
       "            <th>y0</th> <th>k</th> <th>y1</th>\n",
       "        </tr>\n",
       "    </thead>\n",
       "    <tbody>\n",
       "        <tr>\n",
       "            <td>4.54275</td> <td>-1.51297</td> <td>3.02978</td>\n",
       "        </tr>\n",
       "    </tbody>\n",
       "</table>"
      ],
      "text/plain": [
       "y0      | k        | y1\n",
       "4.54275 | -1.51297 | 3.02978"
      ]
     },
     "execution_count": 17,
     "metadata": {},
     "output_type": "execute_result"
    }
   ],
   "source": [
    "np.mean(fraud_asm.where(fraud_exp[\"d\"]==1))"
   ]
  },
  {
   "cell_type": "code",
   "execution_count": 18,
   "metadata": {},
   "outputs": [
    {
     "data": {
      "text/html": [
       "<table border=\"1\" class=\"dataframe\">\n",
       "    <thead>\n",
       "        <tr>\n",
       "            <th>y0</th> <th>k</th> <th>y1</th>\n",
       "        </tr>\n",
       "    </thead>\n",
       "    <tbody>\n",
       "        <tr>\n",
       "            <td>4.51721</td> <td>-1.48905</td> <td>3.02815</td>\n",
       "        </tr>\n",
       "    </tbody>\n",
       "</table>"
      ],
      "text/plain": [
       "y0      | k        | y1\n",
       "4.51721 | -1.48905 | 3.02815"
      ]
     },
     "execution_count": 18,
     "metadata": {},
     "output_type": "execute_result"
    }
   ],
   "source": [
    "np.mean(fraud_asm.where(fraud_exp[\"d\"]==0))"
   ]
  },
  {
   "cell_type": "code",
   "execution_count": 19,
   "metadata": {},
   "outputs": [
    {
     "data": {
      "text/plain": [
       "-1.4874263637174092"
      ]
     },
     "execution_count": 19,
     "metadata": {},
     "output_type": "execute_result"
    }
   ],
   "source": [
    "avg_mon_exp = np.mean(fraud_exp.where(fraud_exp[\"d\"]==1)[\"y\"])\n",
    "avg_nm_exp = np.mean(fraud_exp.where(fraud_exp[\"d\"]==0)[\"y\"])\n",
    "dom_exp = avg_mon_exp - avg_nm_exp\n",
    "dom_exp"
   ]
  },
  {
   "cell_type": "code",
   "execution_count": 20,
   "metadata": {},
   "outputs": [
    {
     "data": {
      "text/plain": [
       "-1.5129682997118152"
      ]
     },
     "execution_count": 20,
     "metadata": {},
     "output_type": "execute_result"
    }
   ],
   "source": [
    "atet_exp = np.mean(fraud_asm.where(fraud_exp[\"d\"]==1)[\"y1\"]) - np.mean(fraud_asm.where(fraud_exp[\"d\"]==1)[\"y0\"])\n",
    "atet_exp"
   ]
  },
  {
   "cell_type": "markdown",
   "metadata": {},
   "source": [
    "Now our difference of means is very close to the ATET!"
   ]
  },
  {
   "cell_type": "markdown",
   "metadata": {},
   "source": [
    "As an exercise, you may want to fiddle with the code and try decreasing/increasing the sample size."
   ]
  },
  {
   "cell_type": "code",
   "execution_count": null,
   "metadata": {},
   "outputs": [],
   "source": []
  }
 ],
 "metadata": {
  "kernelspec": {
   "display_name": "Python 3",
   "language": "python",
   "name": "python3"
  },
  "language_info": {
   "codemirror_mode": {
    "name": "ipython",
    "version": 3
   },
   "file_extension": ".py",
   "mimetype": "text/x-python",
   "name": "python",
   "nbconvert_exporter": "python",
   "pygments_lexer": "ipython3",
   "version": "3.8.5"
  }
 },
 "nbformat": 4,
 "nbformat_minor": 4
}
