{
 "cells": [
  {
   "cell_type": "markdown",
   "metadata": {},
   "source": [
    "# PS 3 Group Project 2  - World Values Survey"
   ]
  },
  {
   "cell_type": "markdown",
   "metadata": {},
   "source": [
    "## Logistics and grading\n",
    "\n",
    "You will be working in groups of five for this project, and there are five parts. Everyone will be primarily responsible as the lead writer for one part. Your final grade for the project will be 50% determined by the part you are the lead writer for, and 50% by the entire project.\n",
    "\n",
    "To help facilitate coordination, the spreadsheet with group assignments also indicates an assignment of group members to a part, but you are welcome to swap. **MAKE SURE TO FILL IN WHO WAS RESPONSIBLE FOR EACH PART AT THE BEGINNING OF THAT SECTION**\n",
    "\n",
    "Your group will turn in one file at the end, and we recommend the group member assigned to part 1 also combines the input of individual group members into one submission, but you are welcome to reassign that job.\n",
    "\n",
    "## Tips\n",
    "\n",
    "Every group member can work in their own draft notebook, and then send over the code to the member in charge of combining. This is one time where copying and pasting code between group members is totally acceptable! If another workflow works better for you that's fine as well, just be sure to turn in a notebook that answers all the questions and indicates who was in charge of each part. \n",
    "\n",
    "We created some cells where you can put your answers, but if you would like to switch back and forth between code and words you can create additional code or markdown cells. One way to do that is with the \"Insert\" menu.\n",
    "\n",
    "Working with real data always brings up unanticipated issues, so if it seems like the variables you have chosen don't seem to fit well wtih some questions or you are getting error messages, be in touch with us by email or on Piazza and we will try to get things sorted quickly!\n",
    "\n",
    "## Getting started\n",
    "In this project you will be working with data from the World Values Survey, compiled from several sources. This first block of code loads it up as `wvs`, and also imports the libraries we have used in the lecture notebooks and problem sets."
   ]
  },
  {
   "cell_type": "code",
   "execution_count": null,
   "metadata": {},
   "outputs": [],
   "source": [
    "import pandas as pd\n",
    "import numpy as np\n",
    "import seaborn as sns \n",
    "from scipy import stats\n",
    "import matplotlib.pyplot as plt\n",
    "from matplotlib import pyplot as plt\n",
    "import statsmodels.formula.api as smf\n",
    "\n",
    "wvs = pd.read_csv(\"data/cleaned/worldvalues.csv\")\n",
    "wvs"
   ]
  },
  {
   "cell_type": "markdown",
   "metadata": {},
   "source": [
    "## Part 1: What do you want to learn about?\n",
    "*Insert lead writer here*"
   ]
  },
  {
   "cell_type": "markdown",
   "metadata": {},
   "source": [
    "Read this <a href=\"https://berkeley.box.com/s/17byyb3d1i6yrloei4kjdh7xrf82so19\">codebook</a>, which contains some description of the variables in the data."
   ]
  },
  {
   "cell_type": "markdown",
   "metadata": {},
   "source": [
    "1.1 Identify two pairs of variables that may be related to each other."
   ]
  },
  {
   "cell_type": "markdown",
   "metadata": {},
   "source": [
    "*Answer to 1.1 here*"
   ]
  },
  {
   "cell_type": "markdown",
   "metadata": {},
   "source": [
    "1.2 For each pair, come up with a theoretical argument about why one might cause the other. (100-200 words.)"
   ]
  },
  {
   "cell_type": "markdown",
   "metadata": {},
   "source": [
    "*Answer to 1.2 here*"
   ]
  },
  {
   "cell_type": "markdown",
   "metadata": {},
   "source": [
    "1.3 Given the theoretical argument you provided and how the variables are measured, do you have any concerns about the reliability or validity of these variables? As we haven't given too much information about how the data were collected, it's ok to just discuss hypothetical issues. (100-200 words)"
   ]
  },
  {
   "cell_type": "markdown",
   "metadata": {},
   "source": [
    "*Answer to 1.3 here*"
   ]
  },
  {
   "cell_type": "markdown",
   "metadata": {},
   "source": [
    "## Part 2: Descriptives\n",
    "*Insert lead writer here*\n",
    "\n",
    "[For this part, you may want to refer back to the week 9 notebook and problem set 3]"
   ]
  },
  {
   "cell_type": "markdown",
   "metadata": {},
   "source": [
    "2.1 Identify a categorical, ordinal, and numeric variable in the data set. (You may use the variables identified in part 1.1 or others). "
   ]
  },
  {
   "cell_type": "markdown",
   "metadata": {},
   "source": [
    "*Answer to 2.1 here*"
   ]
  },
  {
   "cell_type": "markdown",
   "metadata": {},
   "source": [
    "2.2 Write code to come up with descriptive statistics for these three variables. What are typical values? What does the distribution look like? "
   ]
  },
  {
   "cell_type": "code",
   "execution_count": null,
   "metadata": {},
   "outputs": [],
   "source": [
    "# Code for 2.2"
   ]
  },
  {
   "cell_type": "markdown",
   "metadata": {},
   "source": [
    "*Words for 2.2*"
   ]
  },
  {
   "cell_type": "markdown",
   "metadata": {},
   "source": [
    "2.3 Repeat this process for the remaining variables you identifed in part 1.1"
   ]
  },
  {
   "cell_type": "code",
   "execution_count": null,
   "metadata": {},
   "outputs": [],
   "source": [
    "# Code for 2.3"
   ]
  },
  {
   "cell_type": "markdown",
   "metadata": {},
   "source": [
    "*Words for 2.3*"
   ]
  },
  {
   "cell_type": "markdown",
   "metadata": {},
   "source": [
    "## Part 3: Relationships\n",
    "\n",
    "*Insert lead writer here*\n",
    "\n",
    "[For this part, you may want to refer back to the week 12 and 13 notebooks and problem set 4]\n",
    "\n"
   ]
  },
  {
   "cell_type": "markdown",
   "metadata": {},
   "source": [
    "3.1 For each pair of variables from 1.1, come up with an appropriate way to measure the strength of the relationship between the variables. If possible, come up with a visual way to represent this. Interpret the results.\n"
   ]
  },
  {
   "cell_type": "code",
   "execution_count": null,
   "metadata": {},
   "outputs": [],
   "source": [
    "# Code for 3.1"
   ]
  },
  {
   "cell_type": "markdown",
   "metadata": {},
   "source": [
    "*Words for 3.1*"
   ]
  },
  {
   "cell_type": "markdown",
   "metadata": {},
   "source": [
    "3.2 For each pair, conduct a hypothesis test where the null hypothesis is that there is no relationship between the two variables. What do you learn from these tests?"
   ]
  },
  {
   "cell_type": "code",
   "execution_count": null,
   "metadata": {},
   "outputs": [],
   "source": [
    "#Code for 3.2"
   ]
  },
  {
   "cell_type": "markdown",
   "metadata": {},
   "source": [
    "*Words for 3.2*"
   ]
  },
  {
   "cell_type": "markdown",
   "metadata": {},
   "source": [
    "## Part 4: Causal inference\n",
    "\n",
    "*Insert Lead Writer Here*\n",
    "\n",
    "[For this part, you may want to refer back to the week 14 notebook and problem set 4]"
   ]
  },
  {
   "cell_type": "markdown",
   "metadata": {},
   "source": [
    "4.1 If you found a strong relationship between the variables in part 3, what might be some alternative explanations? If you did not find a strong relationship, could there be confounding variables which mask a true causal relationship? If possible, describe these concerns in terms of potential outcomes. (100-200 words) "
   ]
  },
  {
   "cell_type": "markdown",
   "metadata": {},
   "source": [
    "*Words for 4.1*"
   ]
  },
  {
   "cell_type": "markdown",
   "metadata": {},
   "source": [
    "4.2 Identify a variable (Z) in the dataset which could be a confounding variable for one of the relationships you studied (ideally corresponding to your answer from 4.1, but it's ok if not). Look at the relationzhip between your main independent and dependent variables and Z. Does this provide evidence that Z is an important confounding variable?"
   ]
  },
  {
   "cell_type": "code",
   "execution_count": null,
   "metadata": {},
   "outputs": [],
   "source": [
    "#Code for 4.2"
   ]
  },
  {
   "cell_type": "markdown",
   "metadata": {},
   "source": [
    "*Words for 4.2*"
   ]
  },
  {
   "cell_type": "markdown",
   "metadata": {},
   "source": [
    "4.3 Identify a variable (Z) in the dataset which could be a confounding variable for one of the relationships you studied (ideally corresponding to your answer from 4.1, but it's ok if not). Look at the relationship between your main independent and dependent variables and Z. Does this provide evidence that Z is an important confounding variable?"
   ]
  },
  {
   "cell_type": "code",
   "execution_count": null,
   "metadata": {},
   "outputs": [],
   "source": [
    "#Code for 4.3"
   ]
  },
  {
   "cell_type": "markdown",
   "metadata": {},
   "source": [
    "*Words for 4.3*"
   ]
  },
  {
   "cell_type": "markdown",
   "metadata": {},
   "source": [
    "## Part 5: Next Steps\n",
    "*Insert lead writer here*\n",
    "\n",
    "\n"
   ]
  },
  {
   "cell_type": "markdown",
   "metadata": {},
   "source": [
    "5.1 Summarize what you learned from parts 1-4. (100-200 words)"
   ]
  },
  {
   "cell_type": "markdown",
   "metadata": {},
   "source": [
    "*Words for 5.1*"
   ]
  },
  {
   "cell_type": "markdown",
   "metadata": {},
   "source": [
    "5.2 Discuss some future reasarch that could be done to build on your analysis here. Here are some questions you might want to answer (though you need not answer all of them!)\n",
    "- If you wanted to learn more about the causal relationships from part 1, what additional data would be useful to collect?\n",
    "- If you didn't have any money or time constraints, would it be possible to design an experiment to provide evidence about the relationship?\n",
    "- Would it be feasible to find a \"natural experiment\"?\n",
    "- Could you ask a slightly different question which would allow for a more credible causal analysis?\n",
    "\n",
    "(200-300 words)"
   ]
  },
  {
   "cell_type": "markdown",
   "metadata": {},
   "source": [
    "*Words for 5.2*"
   ]
  }
 ],
 "metadata": {
  "kernelspec": {
   "display_name": "Python 3",
   "language": "python",
   "name": "python3"
  },
  "language_info": {
   "codemirror_mode": {
    "name": "ipython",
    "version": 3
   },
   "file_extension": ".py",
   "mimetype": "text/x-python",
   "name": "python",
   "nbconvert_exporter": "python",
   "pygments_lexer": "ipython3",
   "version": "3.8.6"
  }
 },
 "nbformat": 4,
 "nbformat_minor": 4
}
