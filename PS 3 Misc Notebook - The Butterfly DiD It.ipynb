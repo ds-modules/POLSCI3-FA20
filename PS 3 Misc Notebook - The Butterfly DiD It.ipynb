{
 "cells": [
  {
   "cell_type": "markdown",
   "metadata": {},
   "source": [
    "## PS 3 - Misc Notebook - The Butterfly DiD it\n",
    "\n",
    "Here we do a variant of a key analysis in <a href=\"http://sekhon.berkeley.edu/papers/butterfly.pdf\">Wand et al, \"The Butterfly Did It\"</a>\n",
    "\n",
    "Replication data from <a href=\"https://dataverse.harvard.edu/file.xhtml?persistentId=doi:10.7910/DVN/EZ1UDS/NFKBTV&version=1.2\">here</a>.\n",
    "\n",
    "Loading up the data"
   ]
  },
  {
   "cell_type": "code",
   "execution_count": 1,
   "metadata": {},
   "outputs": [
    {
     "data": {
      "text/html": [
       "<div>\n",
       "<style scoped>\n",
       "    .dataframe tbody tr th:only-of-type {\n",
       "        vertical-align: middle;\n",
       "    }\n",
       "\n",
       "    .dataframe tbody tr th {\n",
       "        vertical-align: top;\n",
       "    }\n",
       "\n",
       "    .dataframe thead th {\n",
       "        text-align: right;\n",
       "    }\n",
       "</style>\n",
       "<table border=\"1\" class=\"dataframe\">\n",
       "  <thead>\n",
       "    <tr style=\"text-align: right;\">\n",
       "      <th></th>\n",
       "      <th>@#</th>\n",
       "      <th>County</th>\n",
       "      <th>TotalPresVotes</th>\n",
       "      <th>TotalBuchanan</th>\n",
       "      <th>TotalAbsentee</th>\n",
       "      <th>BuchananAbsentee</th>\n",
       "      <th>ElecdayBuch</th>\n",
       "      <th>AbsenteeBuch</th>\n",
       "      <th>AbsElecRatio</th>\n",
       "      <th>Difference</th>\n",
       "    </tr>\n",
       "  </thead>\n",
       "  <tbody>\n",
       "    <tr>\n",
       "      <th>0</th>\n",
       "      <td>1</td>\n",
       "      <td>Alachua</td>\n",
       "      <td>85729</td>\n",
       "      <td>263</td>\n",
       "      <td>10694</td>\n",
       "      <td>40</td>\n",
       "      <td>0.297195</td>\n",
       "      <td>0.374042</td>\n",
       "      <td>1.258574</td>\n",
       "      <td>-0.076847</td>\n",
       "    </tr>\n",
       "    <tr>\n",
       "      <th>1</th>\n",
       "      <td>2</td>\n",
       "      <td>Baker</td>\n",
       "      <td>8154</td>\n",
       "      <td>73</td>\n",
       "      <td>1111</td>\n",
       "      <td>4</td>\n",
       "      <td>0.979696</td>\n",
       "      <td>0.360036</td>\n",
       "      <td>0.367498</td>\n",
       "      <td>0.619660</td>\n",
       "    </tr>\n",
       "    <tr>\n",
       "      <th>2</th>\n",
       "      <td>3</td>\n",
       "      <td>Bay</td>\n",
       "      <td>58805</td>\n",
       "      <td>248</td>\n",
       "      <td>12587</td>\n",
       "      <td>37</td>\n",
       "      <td>0.456532</td>\n",
       "      <td>0.293954</td>\n",
       "      <td>0.643885</td>\n",
       "      <td>0.162578</td>\n",
       "    </tr>\n",
       "    <tr>\n",
       "      <th>3</th>\n",
       "      <td>4</td>\n",
       "      <td>Bradford</td>\n",
       "      <td>8673</td>\n",
       "      <td>65</td>\n",
       "      <td>1126</td>\n",
       "      <td>4</td>\n",
       "      <td>0.808268</td>\n",
       "      <td>0.355240</td>\n",
       "      <td>0.439507</td>\n",
       "      <td>0.453028</td>\n",
       "    </tr>\n",
       "    <tr>\n",
       "      <th>4</th>\n",
       "      <td>5</td>\n",
       "      <td>Brevard</td>\n",
       "      <td>218395</td>\n",
       "      <td>570</td>\n",
       "      <td>31811</td>\n",
       "      <td>83</td>\n",
       "      <td>0.261008</td>\n",
       "      <td>0.260916</td>\n",
       "      <td>0.999646</td>\n",
       "      <td>0.000092</td>\n",
       "    </tr>\n",
       "    <tr>\n",
       "      <th>...</th>\n",
       "      <td>...</td>\n",
       "      <td>...</td>\n",
       "      <td>...</td>\n",
       "      <td>...</td>\n",
       "      <td>...</td>\n",
       "      <td>...</td>\n",
       "      <td>...</td>\n",
       "      <td>...</td>\n",
       "      <td>...</td>\n",
       "      <td>...</td>\n",
       "    </tr>\n",
       "    <tr>\n",
       "      <th>62</th>\n",
       "      <td>63</td>\n",
       "      <td>Union</td>\n",
       "      <td>3826</td>\n",
       "      <td>37</td>\n",
       "      <td>661</td>\n",
       "      <td>3</td>\n",
       "      <td>1.074250</td>\n",
       "      <td>0.453858</td>\n",
       "      <td>0.422488</td>\n",
       "      <td>0.620392</td>\n",
       "    </tr>\n",
       "    <tr>\n",
       "      <th>63</th>\n",
       "      <td>64</td>\n",
       "      <td>Volusia</td>\n",
       "      <td>183653</td>\n",
       "      <td>498</td>\n",
       "      <td>28018</td>\n",
       "      <td>82</td>\n",
       "      <td>0.267292</td>\n",
       "      <td>0.292669</td>\n",
       "      <td>1.094941</td>\n",
       "      <td>-0.025377</td>\n",
       "    </tr>\n",
       "    <tr>\n",
       "      <th>64</th>\n",
       "      <td>65</td>\n",
       "      <td>Wakulla</td>\n",
       "      <td>8587</td>\n",
       "      <td>46</td>\n",
       "      <td>1101</td>\n",
       "      <td>6</td>\n",
       "      <td>0.534331</td>\n",
       "      <td>0.544959</td>\n",
       "      <td>1.019891</td>\n",
       "      <td>-0.010628</td>\n",
       "    </tr>\n",
       "    <tr>\n",
       "      <th>65</th>\n",
       "      <td>66</td>\n",
       "      <td>Walton</td>\n",
       "      <td>18318</td>\n",
       "      <td>120</td>\n",
       "      <td>3084</td>\n",
       "      <td>19</td>\n",
       "      <td>0.662991</td>\n",
       "      <td>0.616083</td>\n",
       "      <td>0.929248</td>\n",
       "      <td>0.046908</td>\n",
       "    </tr>\n",
       "    <tr>\n",
       "      <th>66</th>\n",
       "      <td>67</td>\n",
       "      <td>Washington</td>\n",
       "      <td>8025</td>\n",
       "      <td>88</td>\n",
       "      <td>1079</td>\n",
       "      <td>9</td>\n",
       "      <td>1.137345</td>\n",
       "      <td>0.834106</td>\n",
       "      <td>0.733379</td>\n",
       "      <td>0.303240</td>\n",
       "    </tr>\n",
       "  </tbody>\n",
       "</table>\n",
       "<p>67 rows × 10 columns</p>\n",
       "</div>"
      ],
      "text/plain": [
       "    @#      County  TotalPresVotes  TotalBuchanan  TotalAbsentee  \\\n",
       "0    1     Alachua           85729            263          10694   \n",
       "1    2       Baker            8154             73           1111   \n",
       "2    3         Bay           58805            248          12587   \n",
       "3    4    Bradford            8673             65           1126   \n",
       "4    5     Brevard          218395            570          31811   \n",
       "..  ..         ...             ...            ...            ...   \n",
       "62  63       Union            3826             37            661   \n",
       "63  64     Volusia          183653            498          28018   \n",
       "64  65     Wakulla            8587             46           1101   \n",
       "65  66      Walton           18318            120           3084   \n",
       "66  67  Washington            8025             88           1079   \n",
       "\n",
       "    BuchananAbsentee  ElecdayBuch  AbsenteeBuch  AbsElecRatio  Difference  \n",
       "0                 40     0.297195      0.374042      1.258574   -0.076847  \n",
       "1                  4     0.979696      0.360036      0.367498    0.619660  \n",
       "2                 37     0.456532      0.293954      0.643885    0.162578  \n",
       "3                  4     0.808268      0.355240      0.439507    0.453028  \n",
       "4                 83     0.261008      0.260916      0.999646    0.000092  \n",
       "..               ...          ...           ...           ...         ...  \n",
       "62                 3     1.074250      0.453858      0.422488    0.620392  \n",
       "63                82     0.267292      0.292669      1.094941   -0.025377  \n",
       "64                 6     0.534331      0.544959      1.019891   -0.010628  \n",
       "65                19     0.662991      0.616083      0.929248    0.046908  \n",
       "66                 9     1.137345      0.834106      0.733379    0.303240  \n",
       "\n",
       "[67 rows x 10 columns]"
      ]
     },
     "execution_count": 1,
     "metadata": {},
     "output_type": "execute_result"
    }
   ],
   "source": [
    "import seaborn as sns\n",
    "import pandas as pd\n",
    "import matplotlib.pyplot as plt\n",
    "import numpy as np\n",
    "plt.style.use('seaborn-whitegrid')\n",
    "# Loading in the data\n",
    "florida = pd.read_csv('Abseday.FL2000.tab', sep='\\t')\n",
    "florida"
   ]
  },
  {
   "cell_type": "markdown",
   "metadata": {},
   "source": [
    "Computing the same day totals by subtracting Absentee from Total"
   ]
  },
  {
   "cell_type": "code",
   "execution_count": 2,
   "metadata": {},
   "outputs": [],
   "source": [
    "florida['SDTotal'] = florida['TotalPresVotes'] - florida['TotalAbsentee']\n",
    "florida['SDBuchanan'] = florida['TotalBuchanan'] - florida['BuchananAbsentee']"
   ]
  },
  {
   "cell_type": "markdown",
   "metadata": {},
   "source": [
    "Separating out PBC from the rest of Florida"
   ]
  },
  {
   "cell_type": "code",
   "execution_count": 3,
   "metadata": {},
   "outputs": [
    {
     "data": {
      "text/html": [
       "<div>\n",
       "<style scoped>\n",
       "    .dataframe tbody tr th:only-of-type {\n",
       "        vertical-align: middle;\n",
       "    }\n",
       "\n",
       "    .dataframe tbody tr th {\n",
       "        vertical-align: top;\n",
       "    }\n",
       "\n",
       "    .dataframe thead th {\n",
       "        text-align: right;\n",
       "    }\n",
       "</style>\n",
       "<table border=\"1\" class=\"dataframe\">\n",
       "  <thead>\n",
       "    <tr style=\"text-align: right;\">\n",
       "      <th></th>\n",
       "      <th>@#</th>\n",
       "      <th>County</th>\n",
       "      <th>TotalPresVotes</th>\n",
       "      <th>TotalBuchanan</th>\n",
       "      <th>TotalAbsentee</th>\n",
       "      <th>BuchananAbsentee</th>\n",
       "      <th>ElecdayBuch</th>\n",
       "      <th>AbsenteeBuch</th>\n",
       "      <th>AbsElecRatio</th>\n",
       "      <th>Difference</th>\n",
       "      <th>SDTotal</th>\n",
       "      <th>SDBuchanan</th>\n",
       "    </tr>\n",
       "  </thead>\n",
       "  <tbody>\n",
       "    <tr>\n",
       "      <th>49</th>\n",
       "      <td>50</td>\n",
       "      <td>Palm Beach</td>\n",
       "      <td>433186</td>\n",
       "      <td>3411</td>\n",
       "      <td>45830</td>\n",
       "      <td>101</td>\n",
       "      <td>0.854511</td>\n",
       "      <td>0.22038</td>\n",
       "      <td>0.257901</td>\n",
       "      <td>0.634131</td>\n",
       "      <td>387356</td>\n",
       "      <td>3310</td>\n",
       "    </tr>\n",
       "  </tbody>\n",
       "</table>\n",
       "</div>"
      ],
      "text/plain": [
       "    @#      County  TotalPresVotes  TotalBuchanan  TotalAbsentee  \\\n",
       "49  50  Palm Beach          433186           3411          45830   \n",
       "\n",
       "    BuchananAbsentee  ElecdayBuch  AbsenteeBuch  AbsElecRatio  Difference  \\\n",
       "49               101     0.854511       0.22038      0.257901    0.634131   \n",
       "\n",
       "    SDTotal  SDBuchanan  \n",
       "49   387356        3310  "
      ]
     },
     "execution_count": 3,
     "metadata": {},
     "output_type": "execute_result"
    }
   ],
   "source": [
    "PBC = florida[florida['County']==\"Palm Beach\"]\n",
    "noPBC = florida[florida['County']!=\"Palm Beach\"]\n",
    "PBC"
   ]
  },
  {
   "cell_type": "code",
   "execution_count": 4,
   "metadata": {},
   "outputs": [
    {
     "data": {
      "text/html": [
       "<div>\n",
       "<style scoped>\n",
       "    .dataframe tbody tr th:only-of-type {\n",
       "        vertical-align: middle;\n",
       "    }\n",
       "\n",
       "    .dataframe tbody tr th {\n",
       "        vertical-align: top;\n",
       "    }\n",
       "\n",
       "    .dataframe thead th {\n",
       "        text-align: right;\n",
       "    }\n",
       "</style>\n",
       "<table border=\"1\" class=\"dataframe\">\n",
       "  <thead>\n",
       "    <tr style=\"text-align: right;\">\n",
       "      <th></th>\n",
       "      <th>@#</th>\n",
       "      <th>County</th>\n",
       "      <th>TotalPresVotes</th>\n",
       "      <th>TotalBuchanan</th>\n",
       "      <th>TotalAbsentee</th>\n",
       "      <th>BuchananAbsentee</th>\n",
       "      <th>ElecdayBuch</th>\n",
       "      <th>AbsenteeBuch</th>\n",
       "      <th>AbsElecRatio</th>\n",
       "      <th>Difference</th>\n",
       "      <th>SDTotal</th>\n",
       "      <th>SDBuchanan</th>\n",
       "    </tr>\n",
       "  </thead>\n",
       "  <tbody>\n",
       "    <tr>\n",
       "      <th>0</th>\n",
       "      <td>1</td>\n",
       "      <td>Alachua</td>\n",
       "      <td>85729</td>\n",
       "      <td>263</td>\n",
       "      <td>10694</td>\n",
       "      <td>40</td>\n",
       "      <td>0.297195</td>\n",
       "      <td>0.374042</td>\n",
       "      <td>1.258574</td>\n",
       "      <td>-0.076847</td>\n",
       "      <td>75035</td>\n",
       "      <td>223</td>\n",
       "    </tr>\n",
       "    <tr>\n",
       "      <th>1</th>\n",
       "      <td>2</td>\n",
       "      <td>Baker</td>\n",
       "      <td>8154</td>\n",
       "      <td>73</td>\n",
       "      <td>1111</td>\n",
       "      <td>4</td>\n",
       "      <td>0.979696</td>\n",
       "      <td>0.360036</td>\n",
       "      <td>0.367498</td>\n",
       "      <td>0.619660</td>\n",
       "      <td>7043</td>\n",
       "      <td>69</td>\n",
       "    </tr>\n",
       "    <tr>\n",
       "      <th>2</th>\n",
       "      <td>3</td>\n",
       "      <td>Bay</td>\n",
       "      <td>58805</td>\n",
       "      <td>248</td>\n",
       "      <td>12587</td>\n",
       "      <td>37</td>\n",
       "      <td>0.456532</td>\n",
       "      <td>0.293954</td>\n",
       "      <td>0.643885</td>\n",
       "      <td>0.162578</td>\n",
       "      <td>46218</td>\n",
       "      <td>211</td>\n",
       "    </tr>\n",
       "    <tr>\n",
       "      <th>3</th>\n",
       "      <td>4</td>\n",
       "      <td>Bradford</td>\n",
       "      <td>8673</td>\n",
       "      <td>65</td>\n",
       "      <td>1126</td>\n",
       "      <td>4</td>\n",
       "      <td>0.808268</td>\n",
       "      <td>0.355240</td>\n",
       "      <td>0.439507</td>\n",
       "      <td>0.453028</td>\n",
       "      <td>7547</td>\n",
       "      <td>61</td>\n",
       "    </tr>\n",
       "    <tr>\n",
       "      <th>4</th>\n",
       "      <td>5</td>\n",
       "      <td>Brevard</td>\n",
       "      <td>218395</td>\n",
       "      <td>570</td>\n",
       "      <td>31811</td>\n",
       "      <td>83</td>\n",
       "      <td>0.261008</td>\n",
       "      <td>0.260916</td>\n",
       "      <td>0.999646</td>\n",
       "      <td>0.000092</td>\n",
       "      <td>186584</td>\n",
       "      <td>487</td>\n",
       "    </tr>\n",
       "    <tr>\n",
       "      <th>...</th>\n",
       "      <td>...</td>\n",
       "      <td>...</td>\n",
       "      <td>...</td>\n",
       "      <td>...</td>\n",
       "      <td>...</td>\n",
       "      <td>...</td>\n",
       "      <td>...</td>\n",
       "      <td>...</td>\n",
       "      <td>...</td>\n",
       "      <td>...</td>\n",
       "      <td>...</td>\n",
       "      <td>...</td>\n",
       "    </tr>\n",
       "    <tr>\n",
       "      <th>62</th>\n",
       "      <td>63</td>\n",
       "      <td>Union</td>\n",
       "      <td>3826</td>\n",
       "      <td>37</td>\n",
       "      <td>661</td>\n",
       "      <td>3</td>\n",
       "      <td>1.074250</td>\n",
       "      <td>0.453858</td>\n",
       "      <td>0.422488</td>\n",
       "      <td>0.620392</td>\n",
       "      <td>3165</td>\n",
       "      <td>34</td>\n",
       "    </tr>\n",
       "    <tr>\n",
       "      <th>63</th>\n",
       "      <td>64</td>\n",
       "      <td>Volusia</td>\n",
       "      <td>183653</td>\n",
       "      <td>498</td>\n",
       "      <td>28018</td>\n",
       "      <td>82</td>\n",
       "      <td>0.267292</td>\n",
       "      <td>0.292669</td>\n",
       "      <td>1.094941</td>\n",
       "      <td>-0.025377</td>\n",
       "      <td>155635</td>\n",
       "      <td>416</td>\n",
       "    </tr>\n",
       "    <tr>\n",
       "      <th>64</th>\n",
       "      <td>65</td>\n",
       "      <td>Wakulla</td>\n",
       "      <td>8587</td>\n",
       "      <td>46</td>\n",
       "      <td>1101</td>\n",
       "      <td>6</td>\n",
       "      <td>0.534331</td>\n",
       "      <td>0.544959</td>\n",
       "      <td>1.019891</td>\n",
       "      <td>-0.010628</td>\n",
       "      <td>7486</td>\n",
       "      <td>40</td>\n",
       "    </tr>\n",
       "    <tr>\n",
       "      <th>65</th>\n",
       "      <td>66</td>\n",
       "      <td>Walton</td>\n",
       "      <td>18318</td>\n",
       "      <td>120</td>\n",
       "      <td>3084</td>\n",
       "      <td>19</td>\n",
       "      <td>0.662991</td>\n",
       "      <td>0.616083</td>\n",
       "      <td>0.929248</td>\n",
       "      <td>0.046908</td>\n",
       "      <td>15234</td>\n",
       "      <td>101</td>\n",
       "    </tr>\n",
       "    <tr>\n",
       "      <th>66</th>\n",
       "      <td>67</td>\n",
       "      <td>Washington</td>\n",
       "      <td>8025</td>\n",
       "      <td>88</td>\n",
       "      <td>1079</td>\n",
       "      <td>9</td>\n",
       "      <td>1.137345</td>\n",
       "      <td>0.834106</td>\n",
       "      <td>0.733379</td>\n",
       "      <td>0.303240</td>\n",
       "      <td>6946</td>\n",
       "      <td>79</td>\n",
       "    </tr>\n",
       "  </tbody>\n",
       "</table>\n",
       "<p>66 rows × 12 columns</p>\n",
       "</div>"
      ],
      "text/plain": [
       "    @#      County  TotalPresVotes  TotalBuchanan  TotalAbsentee  \\\n",
       "0    1     Alachua           85729            263          10694   \n",
       "1    2       Baker            8154             73           1111   \n",
       "2    3         Bay           58805            248          12587   \n",
       "3    4    Bradford            8673             65           1126   \n",
       "4    5     Brevard          218395            570          31811   \n",
       "..  ..         ...             ...            ...            ...   \n",
       "62  63       Union            3826             37            661   \n",
       "63  64     Volusia          183653            498          28018   \n",
       "64  65     Wakulla            8587             46           1101   \n",
       "65  66      Walton           18318            120           3084   \n",
       "66  67  Washington            8025             88           1079   \n",
       "\n",
       "    BuchananAbsentee  ElecdayBuch  AbsenteeBuch  AbsElecRatio  Difference  \\\n",
       "0                 40     0.297195      0.374042      1.258574   -0.076847   \n",
       "1                  4     0.979696      0.360036      0.367498    0.619660   \n",
       "2                 37     0.456532      0.293954      0.643885    0.162578   \n",
       "3                  4     0.808268      0.355240      0.439507    0.453028   \n",
       "4                 83     0.261008      0.260916      0.999646    0.000092   \n",
       "..               ...          ...           ...           ...         ...   \n",
       "62                 3     1.074250      0.453858      0.422488    0.620392   \n",
       "63                82     0.267292      0.292669      1.094941   -0.025377   \n",
       "64                 6     0.534331      0.544959      1.019891   -0.010628   \n",
       "65                19     0.662991      0.616083      0.929248    0.046908   \n",
       "66                 9     1.137345      0.834106      0.733379    0.303240   \n",
       "\n",
       "    SDTotal  SDBuchanan  \n",
       "0     75035         223  \n",
       "1      7043          69  \n",
       "2     46218         211  \n",
       "3      7547          61  \n",
       "4    186584         487  \n",
       "..      ...         ...  \n",
       "62     3165          34  \n",
       "63   155635         416  \n",
       "64     7486          40  \n",
       "65    15234         101  \n",
       "66     6946          79  \n",
       "\n",
       "[66 rows x 12 columns]"
      ]
     },
     "execution_count": 4,
     "metadata": {},
     "output_type": "execute_result"
    }
   ],
   "source": [
    "noPBC"
   ]
  },
  {
   "cell_type": "markdown",
   "metadata": {},
   "source": [
    "Computing the Buchanan vote share outside PBC for same day ballots..."
   ]
  },
  {
   "cell_type": "code",
   "execution_count": 5,
   "metadata": {},
   "outputs": [
    {
     "data": {
      "text/plain": [
       "0.0025344012477052295"
      ]
     },
     "execution_count": 5,
     "metadata": {},
     "output_type": "execute_result"
    }
   ],
   "source": [
    "BS_SD_noPBC = np.sum(noPBC['SDBuchanan'])/np.sum(noPBC['SDTotal'])\n",
    "BS_SD_noPBC"
   ]
  },
  {
   "cell_type": "markdown",
   "metadata": {},
   "source": [
    "...and absentee"
   ]
  },
  {
   "cell_type": "code",
   "execution_count": 6,
   "metadata": {},
   "outputs": [
    {
     "data": {
      "text/plain": [
       "0.002623554525255473"
      ]
     },
     "execution_count": 6,
     "metadata": {},
     "output_type": "execute_result"
    }
   ],
   "source": [
    "BS_A_noPBC = np.sum(noPBC['BuchananAbsentee'])/np.sum(noPBC['TotalAbsentee'])\n",
    "BS_A_noPBC"
   ]
  },
  {
   "cell_type": "markdown",
   "metadata": {},
   "source": [
    "And now the difference in Buchanan vote share in Same day vs Absentee for outside PBC"
   ]
  },
  {
   "cell_type": "code",
   "execution_count": 7,
   "metadata": {},
   "outputs": [
    {
     "data": {
      "text/plain": [
       "-8.915327755024344e-05"
      ]
     },
     "execution_count": 7,
     "metadata": {},
     "output_type": "execute_result"
    }
   ],
   "source": [
    "diff_noPBC = BS_SD_noPBC - BS_A_noPBC\n",
    "diff_noPBC"
   ]
  },
  {
   "cell_type": "markdown",
   "metadata": {},
   "source": [
    "Basically no difference!\n",
    "\n",
    "Now doing the same for PBC"
   ]
  },
  {
   "cell_type": "code",
   "execution_count": 8,
   "metadata": {},
   "outputs": [
    {
     "data": {
      "text/plain": [
       "49    Palm Beach\n",
       "Name: County, dtype: object"
      ]
     },
     "execution_count": 8,
     "metadata": {},
     "output_type": "execute_result"
    }
   ],
   "source": [
    "PBC['County']"
   ]
  },
  {
   "cell_type": "code",
   "execution_count": 9,
   "metadata": {},
   "outputs": [
    {
     "data": {
      "text/plain": [
       "49    0.008545\n",
       "dtype: float64"
      ]
     },
     "execution_count": 9,
     "metadata": {},
     "output_type": "execute_result"
    }
   ],
   "source": [
    "BS_SD_PBC = PBC['SDBuchanan']/PBC['SDTotal']\n",
    "BS_SD_PBC"
   ]
  },
  {
   "cell_type": "code",
   "execution_count": 10,
   "metadata": {},
   "outputs": [
    {
     "data": {
      "text/plain": [
       "49    0.002204\n",
       "dtype: float64"
      ]
     },
     "execution_count": 10,
     "metadata": {},
     "output_type": "execute_result"
    }
   ],
   "source": [
    "BS_A_PBC = PBC['BuchananAbsentee']/PBC['TotalAbsentee']\n",
    "BS_A_PBC"
   ]
  },
  {
   "cell_type": "code",
   "execution_count": 40,
   "metadata": {},
   "outputs": [
    {
     "data": {
      "text/plain": [
       "49    0.006341\n",
       "dtype: float64"
      ]
     },
     "execution_count": 40,
     "metadata": {},
     "output_type": "execute_result"
    }
   ],
   "source": [
    "diff_PBC = BS_SD_PBC - BS_A_PBC\n",
    "diff_PBC"
   ]
  },
  {
   "cell_type": "markdown",
   "metadata": {},
   "source": [
    "Here is our Differences in Differences estimate of the causal effect of the butterfly ballot (in vote shares)\n"
   ]
  },
  {
   "cell_type": "code",
   "execution_count": 56,
   "metadata": {},
   "outputs": [
    {
     "data": {
      "text/plain": [
       "49    0.00643\n",
       "dtype: float64"
      ]
     },
     "execution_count": 56,
     "metadata": {},
     "output_type": "execute_result"
    }
   ],
   "source": [
    "DiD = diff_PBC - diff_noPBC\n",
    "DiD"
   ]
  },
  {
   "cell_type": "markdown",
   "metadata": {},
   "source": [
    "Finally, let's translate this into a causal effect on the number of Buchanan votes: multiplying times the number of same day votes:"
   ]
  },
  {
   "cell_type": "code",
   "execution_count": 58,
   "metadata": {},
   "outputs": [
    {
     "data": {
      "text/plain": [
       "49    2490.880206\n",
       "dtype: float64"
      ]
     },
     "execution_count": 58,
     "metadata": {},
     "output_type": "execute_result"
    }
   ],
   "source": [
    "DiD*PBC['SDTotal']"
   ]
  },
  {
   "cell_type": "code",
   "execution_count": 59,
   "metadata": {},
   "outputs": [
    {
     "data": {
      "text/plain": [
       "49    3310\n",
       "Name: SDBuchanan, dtype: int64"
      ]
     },
     "execution_count": 59,
     "metadata": {},
     "output_type": "execute_result"
    }
   ],
   "source": [
    "PBC['SDBuchanan']"
   ]
  },
  {
   "cell_type": "code",
   "execution_count": 60,
   "metadata": {},
   "outputs": [
    {
     "data": {
      "text/plain": [
       "49    819.119794\n",
       "dtype: float64"
      ]
     },
     "execution_count": 60,
     "metadata": {},
     "output_type": "execute_result"
    }
   ],
   "source": [
    "3310 - DiD*PBC['SDTotal']"
   ]
  },
  {
   "cell_type": "code",
   "execution_count": null,
   "metadata": {},
   "outputs": [],
   "source": []
  }
 ],
 "metadata": {
  "kernelspec": {
   "display_name": "Python 3",
   "language": "python",
   "name": "python3"
  },
  "language_info": {
   "codemirror_mode": {
    "name": "ipython",
    "version": 3
   },
   "file_extension": ".py",
   "mimetype": "text/x-python",
   "name": "python",
   "nbconvert_exporter": "python",
   "pygments_lexer": "ipython3",
   "version": "3.8.6"
  }
 },
 "nbformat": 4,
 "nbformat_minor": 4
}
