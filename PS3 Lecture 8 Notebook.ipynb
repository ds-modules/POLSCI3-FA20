{
 "cells": [
  {
   "cell_type": "markdown",
   "metadata": {},
   "source": [
    "## Lecture 8 Notebook: The Returns to Office in the UK\n",
    "In this notebook, we will do a quick analysis using replication data from the paper <a href=\"https://www.cambridge.org/core/journals/american-political-science-review/article/mps-for-sale-returns-to-office-in-postwar-british-politics/E4C2B102194AA1EA0D2F1F777EAE3C08\">\"MPs for Sale? Returns to Office in Postwar British Politics\"</a> by Eggers and Hainmuller. \n",
    "\n",
    "The authors collected data on the wealth at death of many individuals who ran for office in the UK. They then compare the wealth of winners and losers to estimate the causal effect of winning office on wealth.\n",
    "\n",
    "A challenge is that those who are better politicians may also be more skilled in other domains. As a result, their main analysis compares close winners and losers, who likely don't differ too much on talent.\n",
    "\n",
    "There is a lot more in the paper, but here we will do a simple version of their analysis where we compare the average wealth of winners and losers, and then close winners and losers.\n",
    "\n",
    "\n",
    "\n"
   ]
  },
  {
   "cell_type": "code",
   "execution_count": null,
   "metadata": {},
   "outputs": [],
   "source": [
    "# Importing libraries for tables and plots\n",
    "from datascience import Table\n",
    "%matplotlib inline\n",
    "import matplotlib.pyplot as plt\n",
    "plt.style.use('seaborn-whitegrid')\n",
    "import numpy as np"
   ]
  },
  {
   "cell_type": "code",
   "execution_count": null,
   "metadata": {},
   "outputs": [],
   "source": [
    "# Importing the data into a table called mps\n",
    "mps = Table.read_table(\"MPs.csv\")\n",
    "mps"
   ]
  },
  {
   "cell_type": "markdown",
   "metadata": {},
   "source": [
    "The main dependent variable in the paper is the natural logarithm of net wealth at death. This \"transformation\" of net wealth makes the analysis less sensitive to extreme observations. No need to follow the details here yet: we will cover this in more detail in a few weeks.\n",
    "\n",
    "To make things easier to interpret, I'm first going to \"undo\" this transformation and make a variable which is the net wealth at death in pounds."
   ]
  },
  {
   "cell_type": "code",
   "execution_count": null,
   "metadata": {},
   "outputs": [],
   "source": [
    "mps['net'] = np.exp(mps.column('ln.net'))"
   ]
  },
  {
   "cell_type": "markdown",
   "metadata": {},
   "source": [
    "To get a sense of the relationship between margin of victory and net wealth, let's plot the relationship between the two. (We'll teach more about the code to produce these graphs soon!)"
   ]
  },
  {
   "cell_type": "code",
   "execution_count": null,
   "metadata": {},
   "outputs": [],
   "source": [
    "plt.plot(mps.column('margin'), mps.column('net'), 'o', color='black')\n",
    "plt.xlabel('Margin of Victory')\n",
    "plt.ylabel('Net Wealth at Death')"
   ]
  },
  {
   "cell_type": "markdown",
   "metadata": {},
   "source": [
    "It's hard to see whether there is a relationship, in part because most of the data are \"bunched at the bottom\" is one reason why we look at the natural logarithm of this variable. Again, no need to follow this, but here is that same plot with the transformed dependent variable."
   ]
  },
  {
   "cell_type": "code",
   "execution_count": null,
   "metadata": {},
   "outputs": [],
   "source": [
    "plt.plot(mps.column('margin'), mps.column('ln.net'), 'o', color='black')\n",
    "plt.xlabel('Margin of Victory')\n",
    "plt.ylabel('Log Net Wealth at Death')"
   ]
  },
  {
   "cell_type": "markdown",
   "metadata": {},
   "source": [
    "Note this \"compresses\" differences at the higher end of the wealth scale, and spreads out difference as the lower end of the scale. It is now easier to see that there is a modest positive relationship here.\n",
    "\n",
    "Now let's break our table into two: one for winners and one for losers."
   ]
  },
  {
   "cell_type": "code",
   "execution_count": null,
   "metadata": {},
   "outputs": [],
   "source": [
    "winners = mps.where(mps.column('margin') > 0)\n",
    "winners"
   ]
  },
  {
   "cell_type": "code",
   "execution_count": null,
   "metadata": {},
   "outputs": [],
   "source": [
    "losers = mps.where(mps.column('margin') < 0)\n",
    "losers"
   ]
  },
  {
   "cell_type": "markdown",
   "metadata": {},
   "source": [
    "Now we can compute the average net wealth of winners..."
   ]
  },
  {
   "cell_type": "code",
   "execution_count": null,
   "metadata": {},
   "outputs": [],
   "source": [
    "np.mean(winners.column('net'))"
   ]
  },
  {
   "cell_type": "markdown",
   "metadata": {},
   "source": [
    "... and losers"
   ]
  },
  {
   "cell_type": "code",
   "execution_count": null,
   "metadata": {},
   "outputs": [],
   "source": [
    "np.mean(losers.column('net'))"
   ]
  },
  {
   "cell_type": "markdown",
   "metadata": {},
   "source": [
    "The winners are quite a bit wealthier!"
   ]
  },
  {
   "cell_type": "code",
   "execution_count": null,
   "metadata": {},
   "outputs": [],
   "source": [
    "np.mean(winners.column('net')) - np.mean(losers.column('net'))"
   ]
  },
  {
   "cell_type": "markdown",
   "metadata": {},
   "source": [
    "Remember that this may reflect the fact that the winners are just more talented, charismatic, etc. To rule out this alternative explanation, let's make two data tables for just \"close\" winners, which we define here as those that won or lost by less than 3%."
   ]
  },
  {
   "cell_type": "code",
   "execution_count": null,
   "metadata": {},
   "outputs": [],
   "source": [
    "window = .03\n",
    "closewinners = winners.where(winners.column('margin') < window)\n",
    "closelosers = losers.where(losers.column('margin') > -window)"
   ]
  },
  {
   "cell_type": "markdown",
   "metadata": {},
   "source": [
    "And compute the average net wealth of these two groups:"
   ]
  },
  {
   "cell_type": "code",
   "execution_count": null,
   "metadata": {},
   "outputs": [],
   "source": [
    "np.mean(closewinners.column('net'))"
   ]
  },
  {
   "cell_type": "code",
   "execution_count": null,
   "metadata": {},
   "outputs": [],
   "source": [
    "np.mean(closelosers.column('net'))"
   ]
  },
  {
   "cell_type": "code",
   "execution_count": null,
   "metadata": {},
   "outputs": [],
   "source": [
    "np.mean(closewinners.column('net')) - np.mean(closelosers.column('net'))"
   ]
  },
  {
   "cell_type": "markdown",
   "metadata": {},
   "source": [
    "We still reach the same conclusion that winners died much wealther than losers. \n",
    "\n",
    "That's all for the lecture itself, but below we explore (1) whether this conclusion holds when using the natural log of net wealth as in the paper, (2) how things are different for members of the two major parties, and (3) how changing the \"window\" affects results."
   ]
  },
  {
   "cell_type": "markdown",
   "metadata": {},
   "source": [
    "# Optional part 1: Logarithms\n",
    "Let's see if this conclusion is sensitive to the few very rich folks that are above or below the winning cutoff. To do so, first compare the average net wealth of winners and losers:"
   ]
  },
  {
   "cell_type": "code",
   "execution_count": null,
   "metadata": {
    "scrolled": true
   },
   "outputs": [],
   "source": [
    "np.mean(winners.column('ln.net'))"
   ]
  },
  {
   "cell_type": "code",
   "execution_count": null,
   "metadata": {
    "scrolled": true
   },
   "outputs": [],
   "source": [
    "np.mean(losers.column('ln.net'))"
   ]
  },
  {
   "cell_type": "markdown",
   "metadata": {},
   "source": [
    "So the winners are wealther, but what does it mean to have .5 more log wealth? To get a sense of this, let's convert these averages back to pounds (note: this is not going to give us the average wealth of winners and losers in pounds, rather, it is the average net wealth of winners and losers, converted to pounds."
   ]
  },
  {
   "cell_type": "code",
   "execution_count": null,
   "metadata": {},
   "outputs": [],
   "source": [
    "print(\"In pounds (winners):\", np.exp(np.mean(winners.column('ln.net'))))\n",
    "print(\"In pounds (losers):\", np.exp(np.mean(losers.column('ln.net'))))"
   ]
  },
  {
   "cell_type": "markdown",
   "metadata": {},
   "source": [
    "The numbers are quite a bit lower than the raw averages (which are \"pulled up\" by the few very rich folks; again, we will study this later in class!). But the comparison is the same: winners end up richer.\n",
    "\n",
    "Now let's do the same thing for close winners and losers:"
   ]
  },
  {
   "cell_type": "code",
   "execution_count": null,
   "metadata": {},
   "outputs": [],
   "source": [
    "print(\"In pounds (close winners):\", np.exp(np.mean(closewinners.column('ln.net'))))\n",
    "print(\"In pounds (close losers):\", np.exp(np.mean(closelosers.column('ln.net'))))"
   ]
  },
  {
   "cell_type": "markdown",
   "metadata": {},
   "source": [
    "In this case the difference is smaller when comparing all winners and losers, but is still a notable difference.\n",
    "\n",
    "This is probably more reliable than the initial analysis, which was sensitive to the fact that a few very rich individuals barely won and lost. This conclusion is a bit more sensible: wealth at death is driven by both overall talent and winning office. And by focusing on only the latter by studying close elections, we find a smaller difference, but one more credibly attributed to winning office."
   ]
  },
  {
   "cell_type": "markdown",
   "metadata": {},
   "source": [
    "## Optional part 2\n",
    "\n",
    "Now let's see if this difference  See if the results are different for MPs from the Labour party vs the Tory (conservative) party (using the ln.net variable).\n",
    "\n",
    "I'll get you started, then leave you to write out more code."
   ]
  },
  {
   "cell_type": "code",
   "execution_count": null,
   "metadata": {},
   "outputs": [],
   "source": [
    "# To get you started for number 2, first create separate data tables for Labour and Tories:\n",
    "labour = mps.where(mps.column('party' == 'labour'))\n",
    "tory = mps.where(mps.column('party' == 'labour'))"
   ]
  },
  {
   "cell_type": "code",
   "execution_count": null,
   "metadata": {},
   "outputs": [],
   "source": [
    "# Now create data tables for \"tory winners\", \"tory losers\",\"labour winners\", and \"labour losers\", then take averages of ln.net"
   ]
  },
  {
   "cell_type": "code",
   "execution_count": null,
   "metadata": {},
   "outputs": [],
   "source": [
    "# Now do the same thing but for only close winners and loseres"
   ]
  },
  {
   "cell_type": "markdown",
   "metadata": {},
   "source": [
    "## Optional part 3\n",
    "\n",
    "For this one, you are really on your own (though it's not too hard): change the \"window\" variable used to define what counts as a close election and see how that changes the results."
   ]
  },
  {
   "cell_type": "code",
   "execution_count": null,
   "metadata": {},
   "outputs": [],
   "source": []
  }
 ],
 "metadata": {
  "kernelspec": {
   "display_name": "Python 3",
   "language": "python",
   "name": "python3"
  },
  "language_info": {
   "codemirror_mode": {
    "name": "ipython",
    "version": 3
   },
   "file_extension": ".py",
   "mimetype": "text/x-python",
   "name": "python",
   "nbconvert_exporter": "python",
   "pygments_lexer": "ipython3",
   "version": "3.8.6"
  }
 },
 "nbformat": 4,
 "nbformat_minor": 4
}
